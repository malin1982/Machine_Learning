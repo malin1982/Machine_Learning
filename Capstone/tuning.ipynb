{
 "cells": [
  {
   "cell_type": "code",
   "execution_count": 46,
   "metadata": {
    "collapsed": false
   },
   "outputs": [],
   "source": [
    "from sklearn.naive_bayes import MultinomialNB\n",
    "from sklearn.linear_model import SGDClassifier\n",
    "from sklearn.model_selection import KFold, StratifiedKFold\n",
    "import pandas as pd\n",
    "import numpy as np\n",
    "from sklearn.tree import DecisionTreeClassifier\n",
    "from sklearn.ensemble import ExtraTreesClassifier\n",
    "from sklearn.ensemble import RandomForestClassifier\n",
    "from sklearn.ensemble import BaggingClassifier\n",
    "from sklearn.svm import SVC\n",
    "from sklearn.ensemble import GradientBoostingClassifier\n",
    "\n",
    "from itertools import combinations\n",
    "from sklearn.metrics import f1_score\n",
    "from sklearn.neighbors import KNeighborsClassifier\n"
   ]
  },
  {
   "cell_type": "code",
   "execution_count": 52,
   "metadata": {
    "collapsed": true
   },
   "outputs": [],
   "source": [
    "def process_data(data):\n",
    "    '''\n",
    "    remove redundant columns\n",
    "    '''\n",
    "    #rems = ['Id', 'Soil_Type7', 'Soil_Type8', 'Soil_Type15', 'Soil_Type25']\n",
    "    rems = ['Id', 'Soil_Type7', 'Soil_Type15']\n",
    "    #rems = ['Id']\n",
    "#     #Add constant columns as they don't help in prediction process\n",
    "#     for c in data.columns:\n",
    "#         if data[c].std() == 0: #standard deviation is zero\n",
    "#             rem.append(c)\n",
    "\n",
    "    #drop the columns\n",
    "    for rem in rems:\n",
    "        data.drop(rem,axis=1,inplace=True)\n",
    "    \n",
    "\n",
    "    return data"
   ]
  },
  {
   "cell_type": "code",
   "execution_count": 3,
   "metadata": {
    "collapsed": true
   },
   "outputs": [],
   "source": [
    "def score(y, y_pred):\n",
    "\n",
    "    y_true = np.array(y, dtype=int)\n",
    "    y_predict = np.array(y_pred, dtype=int)\n",
    "    \n",
    "    from sklearn.metrics import f1_score\n",
    "\n",
    "    return f1_score(y_true, y_predict, average='micro')"
   ]
  },
  {
   "cell_type": "code",
   "execution_count": 59,
   "metadata": {
    "collapsed": true
   },
   "outputs": [],
   "source": [
    "from sklearn.preprocessing import StandardScaler\n",
    "from sklearn.preprocessing import MinMaxScaler\n",
    "from sklearn.preprocessing import Normalizer\n",
    "\n",
    "def normalize_train_data(dataset):\n",
    "    r, c = dataset.shape\n",
    "    array = dataset.values\n",
    "    X_all = array[:,0:(c-1)]\n",
    "    y_all = array[:,(c-1)]\n",
    "    size = 10\n",
    "    X_num = X_all[:,0:size]\n",
    "    X_cat = X_all[:,size:]\n",
    "\n",
    "    X_num = StandardScaler().fit_transform(X_num)\n",
    "    #X_num = MinMaxScaler().fit_transform(X_num)\n",
    "    X_num = Normalizer().fit_transform(X_num)\n",
    "\n",
    "    X_all_scaled = np.concatenate((X_num, X_cat), axis=1)\n",
    "    \n",
    "    return X_all_scaled, y_all\n",
    "\n",
    "def normalize_test_data(dataset):\n",
    "    r, c = dataset.shape\n",
    "    X_all = dataset.values\n",
    "    y_all = []\n",
    "    size = 10\n",
    "    X_num = X_all[:,0:size]\n",
    "    X_cat = X_all[:,size:]\n",
    "\n",
    "    X_num = StandardScaler().fit_transform(X_num)\n",
    "    #X_num = MinMaxScaler().fit_transform(X_num)\n",
    "    X_num = Normalizer().fit_transform(X_num)\n",
    "\n",
    "    X_all_scaled = np.concatenate((X_num, X_cat), axis=1)\n",
    "    \n",
    "    return X_all_scaled, y_all\n",
    "\n",
    "def train_extract(train, test):\n",
    "    X_train, y_train = normalize_train_data(train)\n",
    "    X_test, y_test = normalize_train_data(test)\n",
    "    \n",
    "    return X_train, y_train, X_test, y_test\n",
    "\n"
   ]
  },
  {
   "cell_type": "code",
   "execution_count": 60,
   "metadata": {
    "collapsed": true
   },
   "outputs": [],
   "source": [
    "from sklearn.metrics import make_scorer\n",
    "from sklearn.model_selection import GridSearchCV\n",
    "\n",
    "def tuner(model, param_grid, dataset):\n",
    "    X_train, y_train, _, _ = train_extract(dataset, dataset)\n",
    "    tuning_scorer = make_scorer(score, greater_is_better = True)\n",
    "    \n",
    "    tuner_model = GridSearchCV(estimator=model, \n",
    "                                param_grid=param_grid, \n",
    "                                scoring=tuning_scorer,\n",
    "                                verbose=10, \n",
    "                                n_jobs=-1, \n",
    "                                iid=True, \n",
    "                                refit=True,\n",
    "                                cv=5)\n",
    "\n",
    "    tuner_model.fit(X_train, y_train)\n",
    "    print(\"Best score: %0.3f\" % tuner_model.best_score_)\n",
    "    print(\"Best parameters set:\")\n",
    "    best_parameters = tuner_model.best_estimator_.get_params()\n",
    "    for param_name in sorted(param_grid.keys()):\n",
    "        print(\"\\t%s: %r\" % (param_name, best_parameters[param_name]))\n"
   ]
  },
  {
   "cell_type": "code",
   "execution_count": 61,
   "metadata": {
    "collapsed": false
   },
   "outputs": [
    {
     "name": "stderr",
     "output_type": "stream",
     "text": [
      "/Users/brandon/anaconda/envs/py35/lib/python3.5/site-packages/ipykernel/__main__.py:15: SettingWithCopyWarning: \n",
      "A value is trying to be set on a copy of a slice from a DataFrame\n",
      "\n",
      "See the caveats in the documentation: http://pandas.pydata.org/pandas-docs/stable/indexing.html#indexing-view-versus-copy\n",
      "/Users/brandon/anaconda/envs/py35/lib/python3.5/site-packages/sklearn/utils/validation.py:429: DataConversionWarning: Data with input dtype int64 was converted to float64 by StandardScaler.\n",
      "  warnings.warn(msg, _DataConversionWarning)\n"
     ]
    }
   ],
   "source": [
    "train_raw = pd.read_csv('data/train.csv')\n",
    "msk = np.random.rand(len(train_raw)) < 0.9\n",
    "train = train_raw[msk]\n",
    "validation = train_raw[~msk]\n",
    "\n",
    "train_clean = process_data(train)\n",
    "validation_clean = process_data(validation)\n",
    "\n",
    "X_train, y_train, X_test, y_test = train_extract(train_clean, validation_clean)\n"
   ]
  },
  {
   "cell_type": "code",
   "execution_count": 8,
   "metadata": {
    "collapsed": false,
    "scrolled": true
   },
   "outputs": [
    {
     "name": "stdout",
     "output_type": "stream",
     "text": [
      "Fitting 5 folds for each of 12 candidates, totalling 60 fits\n"
     ]
    },
    {
     "name": "stderr",
     "output_type": "stream",
     "text": [
      "/Users/brandon/anaconda/envs/py35/lib/python3.5/site-packages/sklearn/utils/validation.py:429: DataConversionWarning: Data with input dtype int64 was converted to float64 by StandardScaler.\n",
      "  warnings.warn(msg, _DataConversionWarning)\n"
     ]
    },
    {
     "name": "stdout",
     "output_type": "stream",
     "text": [
      "[CV] algorithm=auto, n_neighbors=1 ...................................\n",
      "[CV] algorithm=auto, n_neighbors=1 ...................................\n",
      "[CV] algorithm=auto, n_neighbors=1 ...................................\n",
      "[CV] algorithm=auto, n_neighbors=1 ...................................\n",
      "[CV] .......... algorithm=auto, n_neighbors=1, score=0.691517 -   1.2s\n",
      "[CV] algorithm=auto, n_neighbors=1 ...................................\n",
      "[CV] .......... algorithm=auto, n_neighbors=1, score=0.698238 -   1.1s\n",
      "[CV] algorithm=auto, n_neighbors=2 ...................................\n",
      "[CV] .......... algorithm=auto, n_neighbors=1, score=0.715963 -   1.1s\n",
      "[CV] algorithm=auto, n_neighbors=2 ...................................\n",
      "[CV] .......... algorithm=auto, n_neighbors=1, score=0.733284 -   1.2s\n",
      "[CV] algorithm=auto, n_neighbors=2 ...................................\n",
      "[CV] .......... algorithm=auto, n_neighbors=1, score=0.798088 -   0.7s\n",
      "[CV] algorithm=auto, n_neighbors=2 ...................................\n"
     ]
    },
    {
     "name": "stderr",
     "output_type": "stream",
     "text": [
      "[Parallel(n_jobs=-1)]: Done   5 tasks      | elapsed:   10.6s\n"
     ]
    },
    {
     "name": "stdout",
     "output_type": "stream",
     "text": [
      "[CV] .......... algorithm=auto, n_neighbors=2, score=0.654185 -   1.1s\n",
      "[CV] algorithm=auto, n_neighbors=2 ...................................\n",
      "[CV] .......... algorithm=auto, n_neighbors=2, score=0.663239 -   1.3s\n",
      "[CV] algorithm=auto, n_neighbors=3 ...................................\n",
      "[CV] .......... algorithm=auto, n_neighbors=2, score=0.672294 -   0.9s\n",
      "[CV] algorithm=auto, n_neighbors=3 ...................................\n",
      "[CV] .......... algorithm=auto, n_neighbors=2, score=0.692873 -   1.1s\n",
      "[CV] algorithm=auto, n_neighbors=3 ...................................\n",
      "[CV] .......... algorithm=auto, n_neighbors=2, score=0.774549 -   0.9s\n",
      "[CV] algorithm=auto, n_neighbors=3 ...................................\n"
     ]
    },
    {
     "name": "stderr",
     "output_type": "stream",
     "text": [
      "[Parallel(n_jobs=-1)]: Done  10 tasks      | elapsed:   18.0s\n"
     ]
    },
    {
     "name": "stdout",
     "output_type": "stream",
     "text": [
      "[CV] .......... algorithm=auto, n_neighbors=3, score=0.662996 -   1.3s\n",
      "[CV] algorithm=auto, n_neighbors=3 ...................................\n",
      "[CV] .......... algorithm=auto, n_neighbors=3, score=0.669358 -   0.9s\n",
      "[CV] algorithm=ball_tree, n_neighbors=1 ..............................\n",
      "[CV] .......... algorithm=auto, n_neighbors=3, score=0.657363 -   1.0s\n",
      "[CV] algorithm=ball_tree, n_neighbors=1 ..............................\n",
      "[CV] .......... algorithm=auto, n_neighbors=3, score=0.695077 -   1.0s\n",
      "[CV] algorithm=ball_tree, n_neighbors=1 ..............................\n",
      "[CV] .......... algorithm=auto, n_neighbors=3, score=0.776388 -   0.9s\n",
      "[CV] algorithm=ball_tree, n_neighbors=1 ..............................\n",
      "[CV] ..... algorithm=ball_tree, n_neighbors=1, score=0.715963 -   2.0s\n",
      "[CV] algorithm=ball_tree, n_neighbors=1 ..............................\n",
      "[CV] ..... algorithm=ball_tree, n_neighbors=1, score=0.698238 -   1.9s\n",
      "[CV] algorithm=ball_tree, n_neighbors=2 ..............................\n"
     ]
    },
    {
     "name": "stderr",
     "output_type": "stream",
     "text": [
      "[Parallel(n_jobs=-1)]: Done  17 tasks      | elapsed:   32.2s\n"
     ]
    },
    {
     "name": "stdout",
     "output_type": "stream",
     "text": [
      "[CV] ..... algorithm=ball_tree, n_neighbors=1, score=0.733284 -   1.5s\n",
      "[CV] algorithm=ball_tree, n_neighbors=2 ..............................\n",
      "[CV] ..... algorithm=ball_tree, n_neighbors=1, score=0.691517 -   1.5s\n",
      "[CV] algorithm=ball_tree, n_neighbors=2 ..............................\n",
      "[CV] ..... algorithm=ball_tree, n_neighbors=1, score=0.798088 -   1.5s\n",
      "[CV] algorithm=ball_tree, n_neighbors=2 ..............................\n",
      "[CV] ..... algorithm=ball_tree, n_neighbors=2, score=0.672294 -   1.7s\n",
      "[CV] algorithm=ball_tree, n_neighbors=2 ..............................\n",
      "[CV] ..... algorithm=ball_tree, n_neighbors=2, score=0.663239 -   1.6s\n",
      "[CV] ..... algorithm=ball_tree, n_neighbors=2, score=0.654185 -   2.1s\n",
      "[CV] algorithm=ball_tree, n_neighbors=3 ..............................\n",
      "[CV] algorithm=ball_tree, n_neighbors=3 ..............................\n",
      "[CV] ..... algorithm=ball_tree, n_neighbors=2, score=0.692873 -   1.7s\n",
      "[CV] algorithm=ball_tree, n_neighbors=3 ..............................\n"
     ]
    },
    {
     "name": "stderr",
     "output_type": "stream",
     "text": [
      "[Parallel(n_jobs=-1)]: Done  24 tasks      | elapsed:   43.4s\n"
     ]
    },
    {
     "name": "stdout",
     "output_type": "stream",
     "text": [
      "[CV] ..... algorithm=ball_tree, n_neighbors=2, score=0.774549 -   1.2s\n",
      "[CV] algorithm=ball_tree, n_neighbors=3 ..............................\n",
      "[CV] ..... algorithm=ball_tree, n_neighbors=3, score=0.662996 -   2.0s\n",
      "[CV] algorithm=ball_tree, n_neighbors=3 ..............................\n",
      "[CV] ..... algorithm=ball_tree, n_neighbors=3, score=0.669358 -   1.6s\n",
      "[CV] algorithm=kd_tree, n_neighbors=1 ................................\n",
      "[CV] ..... algorithm=ball_tree, n_neighbors=3, score=0.657363 -   1.8s\n",
      "[CV] algorithm=kd_tree, n_neighbors=1 ................................\n",
      "[CV] ..... algorithm=ball_tree, n_neighbors=3, score=0.695077 -   1.5s\n",
      "[CV] ....... algorithm=kd_tree, n_neighbors=1, score=0.698238 -   1.1s\n",
      "[CV] algorithm=kd_tree, n_neighbors=1 ................................\n",
      "[CV] ....... algorithm=kd_tree, n_neighbors=1, score=0.715963 -   0.8s\n",
      "[CV] algorithm=kd_tree, n_neighbors=1 ................................\n",
      "[CV] algorithm=kd_tree, n_neighbors=1 ................................\n",
      "[CV] ..... algorithm=ball_tree, n_neighbors=3, score=0.776388 -   1.1s\n",
      "[CV] algorithm=kd_tree, n_neighbors=2 ................................\n",
      "[CV] ....... algorithm=kd_tree, n_neighbors=1, score=0.798088 -   0.8s\n",
      "[CV] algorithm=kd_tree, n_neighbors=2 ................................\n"
     ]
    },
    {
     "name": "stderr",
     "output_type": "stream",
     "text": [
      "[Parallel(n_jobs=-1)]: Done  33 tasks      | elapsed:  1.0min\n"
     ]
    },
    {
     "name": "stdout",
     "output_type": "stream",
     "text": [
      "[CV] ....... algorithm=kd_tree, n_neighbors=1, score=0.691517 -   0.9s\n",
      "[CV] algorithm=kd_tree, n_neighbors=2 ................................\n",
      "[CV] ....... algorithm=kd_tree, n_neighbors=1, score=0.733284 -   1.0s\n",
      "[CV] algorithm=kd_tree, n_neighbors=2 ................................\n",
      "[CV] ....... algorithm=kd_tree, n_neighbors=2, score=0.672294 -   1.1s\n",
      "[CV] algorithm=kd_tree, n_neighbors=2 ................................\n",
      "[CV] ....... algorithm=kd_tree, n_neighbors=2, score=0.654185 -   1.0s\n",
      "[CV] algorithm=kd_tree, n_neighbors=3 ................................\n",
      "[CV] ....... algorithm=kd_tree, n_neighbors=2, score=0.663239 -   1.1s\n",
      "[CV] algorithm=kd_tree, n_neighbors=3 ................................\n",
      "[CV] ....... algorithm=kd_tree, n_neighbors=2, score=0.692873 -   1.2s\n",
      "[CV] algorithm=kd_tree, n_neighbors=3 ................................\n",
      "[CV] ....... algorithm=kd_tree, n_neighbors=2, score=0.774549 -   1.0s\n",
      "[CV] algorithm=kd_tree, n_neighbors=3 ................................\n",
      "[CV] ....... algorithm=kd_tree, n_neighbors=3, score=0.662996 -   1.0s\n",
      "[CV] algorithm=kd_tree, n_neighbors=3 ................................\n",
      "[CV] ....... algorithm=kd_tree, n_neighbors=3, score=0.669358 -   0.9s\n",
      "[CV] algorithm=brute, n_neighbors=1 ..................................\n"
     ]
    },
    {
     "name": "stderr",
     "output_type": "stream",
     "text": [
      "/Users/brandon/anaconda/envs/py35/lib/python3.5/site-packages/sklearn/externals/joblib/parallel.py:540: UserWarning: Multiprocessing-backed parallel loops cannot be nested, setting n_jobs=1\n",
      "  **self._backend_args)\n",
      "[Parallel(n_jobs=-1)]: Done  42 tasks      | elapsed:  1.2min\n"
     ]
    },
    {
     "name": "stdout",
     "output_type": "stream",
     "text": [
      "[CV] ....... algorithm=kd_tree, n_neighbors=3, score=0.657363 -   1.0s\n",
      "[CV] algorithm=brute, n_neighbors=1 ..................................\n"
     ]
    },
    {
     "name": "stderr",
     "output_type": "stream",
     "text": [
      "/Users/brandon/anaconda/envs/py35/lib/python3.5/site-packages/sklearn/externals/joblib/parallel.py:540: UserWarning: Multiprocessing-backed parallel loops cannot be nested, setting n_jobs=1\n",
      "  **self._backend_args)\n"
     ]
    },
    {
     "name": "stdout",
     "output_type": "stream",
     "text": [
      "[CV] ....... algorithm=kd_tree, n_neighbors=3, score=0.695077 -   1.3s\n",
      "[CV] algorithm=brute, n_neighbors=1 ..................................\n"
     ]
    },
    {
     "name": "stderr",
     "output_type": "stream",
     "text": [
      "/Users/brandon/anaconda/envs/py35/lib/python3.5/site-packages/sklearn/externals/joblib/parallel.py:540: UserWarning: Multiprocessing-backed parallel loops cannot be nested, setting n_jobs=1\n",
      "  **self._backend_args)\n"
     ]
    },
    {
     "name": "stdout",
     "output_type": "stream",
     "text": [
      "[CV] ....... algorithm=kd_tree, n_neighbors=3, score=0.776388 -   1.1s\n",
      "[CV] algorithm=brute, n_neighbors=1 ..................................\n"
     ]
    },
    {
     "name": "stderr",
     "output_type": "stream",
     "text": [
      "/Users/brandon/anaconda/envs/py35/lib/python3.5/site-packages/sklearn/externals/joblib/parallel.py:540: UserWarning: Multiprocessing-backed parallel loops cannot be nested, setting n_jobs=1\n",
      "  **self._backend_args)\n"
     ]
    },
    {
     "name": "stdout",
     "output_type": "stream",
     "text": [
      "[CV] ......... algorithm=brute, n_neighbors=1, score=0.733284 -   7.9s\n",
      "[CV] algorithm=brute, n_neighbors=1 ..................................\n",
      "[CV] ......... algorithm=brute, n_neighbors=1, score=0.691517 -   4.2s\n",
      "[CV] algorithm=brute, n_neighbors=2 ..................................\n"
     ]
    },
    {
     "name": "stderr",
     "output_type": "stream",
     "text": [
      "/Users/brandon/anaconda/envs/py35/lib/python3.5/site-packages/sklearn/externals/joblib/parallel.py:540: UserWarning: Multiprocessing-backed parallel loops cannot be nested, setting n_jobs=1\n",
      "  **self._backend_args)\n",
      "/Users/brandon/anaconda/envs/py35/lib/python3.5/site-packages/sklearn/externals/joblib/parallel.py:540: UserWarning: Multiprocessing-backed parallel loops cannot be nested, setting n_jobs=1\n",
      "  **self._backend_args)\n"
     ]
    },
    {
     "name": "stdout",
     "output_type": "stream",
     "text": [
      "[CV] ......... algorithm=brute, n_neighbors=1, score=0.715963 -   4.5s\n",
      "[CV] algorithm=brute, n_neighbors=2 ..................................\n"
     ]
    },
    {
     "name": "stderr",
     "output_type": "stream",
     "text": [
      "/Users/brandon/anaconda/envs/py35/lib/python3.5/site-packages/sklearn/externals/joblib/parallel.py:540: UserWarning: Multiprocessing-backed parallel loops cannot be nested, setting n_jobs=1\n",
      "  **self._backend_args)\n"
     ]
    },
    {
     "name": "stdout",
     "output_type": "stream",
     "text": [
      "[CV] ......... algorithm=brute, n_neighbors=1, score=0.698238 -   4.1s\n",
      "[CV] algorithm=brute, n_neighbors=2 ..................................\n"
     ]
    },
    {
     "name": "stderr",
     "output_type": "stream",
     "text": [
      "/Users/brandon/anaconda/envs/py35/lib/python3.5/site-packages/sklearn/externals/joblib/parallel.py:540: UserWarning: Multiprocessing-backed parallel loops cannot be nested, setting n_jobs=1\n",
      "  **self._backend_args)\n"
     ]
    },
    {
     "name": "stdout",
     "output_type": "stream",
     "text": [
      "[CV] ......... algorithm=brute, n_neighbors=2, score=0.672294 -   8.0s\n",
      "[CV] algorithm=brute, n_neighbors=2 ..................................\n"
     ]
    },
    {
     "name": "stderr",
     "output_type": "stream",
     "text": [
      "/Users/brandon/anaconda/envs/py35/lib/python3.5/site-packages/sklearn/externals/joblib/parallel.py:540: UserWarning: Multiprocessing-backed parallel loops cannot be nested, setting n_jobs=1\n",
      "  **self._backend_args)\n"
     ]
    },
    {
     "name": "stdout",
     "output_type": "stream",
     "text": [
      "[CV] ......... algorithm=brute, n_neighbors=1, score=0.798088 -   8.0s\n",
      "[CV] algorithm=brute, n_neighbors=2 ..................................\n"
     ]
    },
    {
     "name": "stderr",
     "output_type": "stream",
     "text": [
      "/Users/brandon/anaconda/envs/py35/lib/python3.5/site-packages/sklearn/externals/joblib/parallel.py:540: UserWarning: Multiprocessing-backed parallel loops cannot be nested, setting n_jobs=1\n",
      "  **self._backend_args)\n"
     ]
    },
    {
     "name": "stdout",
     "output_type": "stream",
     "text": [
      "[CV] ......... algorithm=brute, n_neighbors=2, score=0.654185 -   9.0s\n",
      "[CV] algorithm=brute, n_neighbors=3 ..................................\n"
     ]
    },
    {
     "name": "stderr",
     "output_type": "stream",
     "text": [
      "/Users/brandon/anaconda/envs/py35/lib/python3.5/site-packages/sklearn/externals/joblib/parallel.py:540: UserWarning: Multiprocessing-backed parallel loops cannot be nested, setting n_jobs=1\n",
      "  **self._backend_args)\n"
     ]
    },
    {
     "name": "stdout",
     "output_type": "stream",
     "text": [
      "[CV] ......... algorithm=brute, n_neighbors=2, score=0.663239 -   5.1s\n",
      "[CV] algorithm=brute, n_neighbors=3 ..................................\n"
     ]
    },
    {
     "name": "stderr",
     "output_type": "stream",
     "text": [
      "[Parallel(n_jobs=-1)]: Done  53 tasks      | elapsed: 16.0min\n",
      "/Users/brandon/anaconda/envs/py35/lib/python3.5/site-packages/sklearn/externals/joblib/parallel.py:540: UserWarning: Multiprocessing-backed parallel loops cannot be nested, setting n_jobs=1\n",
      "  **self._backend_args)\n"
     ]
    },
    {
     "name": "stdout",
     "output_type": "stream",
     "text": [
      "[CV] ......... algorithm=brute, n_neighbors=2, score=0.692873 -  11.3s\n",
      "[CV] algorithm=brute, n_neighbors=3 ..................................\n"
     ]
    },
    {
     "name": "stderr",
     "output_type": "stream",
     "text": [
      "/Users/brandon/anaconda/envs/py35/lib/python3.5/site-packages/sklearn/externals/joblib/parallel.py:540: UserWarning: Multiprocessing-backed parallel loops cannot be nested, setting n_jobs=1\n",
      "  **self._backend_args)\n"
     ]
    },
    {
     "name": "stdout",
     "output_type": "stream",
     "text": [
      "[CV] ......... algorithm=brute, n_neighbors=2, score=0.774549 -   8.7s\n",
      "[CV] algorithm=brute, n_neighbors=3 ..................................\n"
     ]
    },
    {
     "name": "stderr",
     "output_type": "stream",
     "text": [
      "/Users/brandon/anaconda/envs/py35/lib/python3.5/site-packages/sklearn/externals/joblib/parallel.py:540: UserWarning: Multiprocessing-backed parallel loops cannot be nested, setting n_jobs=1\n",
      "  **self._backend_args)\n"
     ]
    },
    {
     "name": "stdout",
     "output_type": "stream",
     "text": [
      "[CV] ......... algorithm=brute, n_neighbors=3, score=0.669358 - 1.3min\n",
      "[CV] ......... algorithm=brute, n_neighbors=3, score=0.662996 - 1.2min\n",
      "[CV] algorithm=brute, n_neighbors=3 ..................................\n"
     ]
    },
    {
     "name": "stderr",
     "output_type": "stream",
     "text": [
      "/Users/brandon/anaconda/envs/py35/lib/python3.5/site-packages/sklearn/externals/joblib/parallel.py:540: UserWarning: Multiprocessing-backed parallel loops cannot be nested, setting n_jobs=1\n",
      "  **self._backend_args)\n"
     ]
    },
    {
     "name": "stdout",
     "output_type": "stream",
     "text": [
      "[CV] ......... algorithm=brute, n_neighbors=3, score=0.657363 -   9.8s\n",
      "[CV] ......... algorithm=brute, n_neighbors=3, score=0.695077 -   9.1s\n",
      "[CV] ......... algorithm=brute, n_neighbors=3, score=0.776388 -   9.7s\n"
     ]
    },
    {
     "name": "stderr",
     "output_type": "stream",
     "text": [
      "[Parallel(n_jobs=-1)]: Done  60 out of  60 | elapsed: 25.4min remaining:    0.0s\n",
      "[Parallel(n_jobs=-1)]: Done  60 out of  60 | elapsed: 25.4min finished\n"
     ]
    },
    {
     "name": "stdout",
     "output_type": "stream",
     "text": [
      "Best score: 0.727\n",
      "Best parameters set:\n",
      "\talgorithm: 'auto'\n",
      "\tn_neighbors: 1\n"
     ]
    }
   ],
   "source": [
    "model = KNeighborsClassifier(n_jobs=-1)\n",
    "param_grid = {\n",
    "        #'n_estimators': np.arange(89, 100, 2),\n",
    "        'algorithm':[\"auto\", \"ball_tree\", \"kd_tree\", \"brute\"],\n",
    "        'n_neighbors':[1,2,3]\n",
    "    }\n",
    "\n",
    "tuner(model, param_grid, train_clean)\n",
    "\n"
   ]
  },
  {
   "cell_type": "code",
   "execution_count": 62,
   "metadata": {
    "collapsed": false
   },
   "outputs": [
    {
     "name": "stdout",
     "output_type": "stream",
     "text": [
      "0.783518639634\n"
     ]
    }
   ],
   "source": [
    "model = KNeighborsClassifier()\n",
    "model.fit(X_train, y_train)\n",
    "y_pred = model.predict(X_test)\n",
    "result = score(y_test, y_pred)\n",
    "print(result)"
   ]
  },
  {
   "cell_type": "code",
   "execution_count": 63,
   "metadata": {
    "collapsed": false
   },
   "outputs": [
    {
     "name": "stdout",
     "output_type": "stream",
     "text": [
      "0.817527795945\n"
     ]
    }
   ],
   "source": [
    "model = KNeighborsClassifier(n_jobs=-1, algorithm='auto', n_neighbors=1)\n",
    "model.fit(X_train, y_train)\n",
    "y_pred = model.predict(X_test)\n",
    "result = score(y_test, y_pred)\n",
    "print(result)"
   ]
  },
  {
   "cell_type": "code",
   "execution_count": 29,
   "metadata": {
    "collapsed": false,
    "scrolled": true
   },
   "outputs": [
    {
     "name": "stdout",
     "output_type": "stream",
     "text": [
      "Fitting 5 folds for each of 10 candidates, totalling 50 fits\n"
     ]
    },
    {
     "name": "stderr",
     "output_type": "stream",
     "text": [
      "/Users/brandon/anaconda/envs/py35/lib/python3.5/site-packages/sklearn/utils/validation.py:429: DataConversionWarning: Data with input dtype int64 was converted to float64 by StandardScaler.\n",
      "  warnings.warn(msg, _DataConversionWarning)\n"
     ]
    },
    {
     "name": "stdout",
     "output_type": "stream",
     "text": [
      "[CV] max_depth=10 ....................................................\n",
      "[CV] max_depth=10 ....................................................\n",
      "[CV] max_depth=10 ....................................................\n",
      "[CV] max_depth=10 ....................................................\n",
      "[CV] ........................... max_depth=10, score=0.642489 -   0.0s\n",
      "[CV] ........................... max_depth=10, score=0.698489 -   0.0s\n",
      "[CV] ........................... max_depth=10, score=0.622010 -   0.0s\n",
      "[CV] max_depth=10 ....................................................\n",
      "[CV] ........................... max_depth=10, score=0.658195 -   0.0s\n",
      "[CV] max_depth=12 ....................................................\n",
      "[CV] max_depth=12 ....................................................\n",
      "[CV] max_depth=12 ....................................................\n",
      "[CV] ........................... max_depth=10, score=0.713021 -   0.0s\n",
      "[CV] ........................... max_depth=12, score=0.660287 -   0.0s\n",
      "[CV] ........................... max_depth=12, score=0.655007 -   0.0s\n",
      "[CV] max_depth=12 ....................................................\n",
      "[CV] max_depth=12 ....................................................\n",
      "[CV] max_depth=14 ....................................................\n",
      "[CV] ........................... max_depth=12, score=0.644936 -   0.0s\n",
      "[CV] max_depth=14 ....................................................\n"
     ]
    },
    {
     "name": "stderr",
     "output_type": "stream",
     "text": [
      "[Parallel(n_jobs=-1)]: Done   5 tasks      | elapsed:    0.9s\n"
     ]
    },
    {
     "name": "stdout",
     "output_type": "stream",
     "text": [
      "[CV] ........................... max_depth=12, score=0.703649 -   0.0s\n",
      "[CV] ........................... max_depth=12, score=0.749170 -   0.0s\n",
      "[CV] max_depth=14 ....................................................\n",
      "[CV] ........................... max_depth=14, score=0.674273 -   0.0s\n",
      "[CV] max_depth=14 ....................................................\n",
      "[CV] max_depth=14 ....................................................\n",
      "[CV] ........................... max_depth=14, score=0.671208 -   0.0s\n",
      "[CV] max_depth=16 ....................................................\n"
     ]
    },
    {
     "name": "stderr",
     "output_type": "stream",
     "text": [
      "[Parallel(n_jobs=-1)]: Done  10 tasks      | elapsed:    1.3s\n"
     ]
    },
    {
     "name": "stdout",
     "output_type": "stream",
     "text": [
      "[CV] ........................... max_depth=14, score=0.661142 -   0.0s\n",
      "[CV] max_depth=16 ....................................................\n",
      "[CV] ........................... max_depth=14, score=0.706598 -   0.0s\n",
      "[CV] max_depth=16 ....................................................\n",
      "[CV] ........................... max_depth=14, score=0.756916 -   0.0s\n",
      "[CV] max_depth=16 ....................................................\n",
      "[CV] ........................... max_depth=16, score=0.680162 -   0.0s\n",
      "[CV] max_depth=16 ....................................................\n",
      "[CV] ........................... max_depth=16, score=0.671208 -   0.0s\n",
      "[CV] max_depth=18 ....................................................\n",
      "[CV] ........................... max_depth=16, score=0.700332 -   0.0s\n",
      "[CV] max_depth=18 ....................................................\n",
      "[CV] ........................... max_depth=16, score=0.663352 -   0.0s\n",
      "[CV] max_depth=18 ....................................................\n"
     ]
    },
    {
     "name": "stderr",
     "output_type": "stream",
     "text": [
      "[Parallel(n_jobs=-1)]: Done  17 tasks      | elapsed:    2.1s\n"
     ]
    },
    {
     "name": "stdout",
     "output_type": "stream",
     "text": [
      "[CV] ........................... max_depth=16, score=0.763187 -   0.0s\n",
      "[CV] max_depth=18 ....................................................\n",
      "[CV] ........................... max_depth=18, score=0.666789 -   0.0s\n",
      "[CV] ........................... max_depth=18, score=0.676481 -   0.0s\n",
      "[CV] max_depth=18 ....................................................\n",
      "[CV] max_depth=20 ....................................................\n",
      "[CV] ........................... max_depth=18, score=0.653775 -   0.0s\n",
      "[CV] max_depth=20 ....................................................\n",
      "[CV] ........................... max_depth=18, score=0.696646 -   0.0s\n",
      "[CV] max_depth=20 ....................................................\n"
     ]
    },
    {
     "name": "stderr",
     "output_type": "stream",
     "text": [
      "[Parallel(n_jobs=-1)]: Done  24 tasks      | elapsed:    2.7s\n"
     ]
    },
    {
     "name": "stdout",
     "output_type": "stream",
     "text": [
      "[CV] ........................... max_depth=20, score=0.676849 -   0.0s\n",
      "[CV] ........................... max_depth=18, score=0.761343 -   0.0s\n",
      "[CV] max_depth=20 ....................................................\n",
      "[CV] max_depth=20 ....................................................\n",
      "[CV] ........................... max_depth=20, score=0.670103 -   0.0s\n",
      "[CV] max_depth=22 ....................................................\n",
      "[CV] ........................... max_depth=20, score=0.660405 -   0.0s\n",
      "[CV] max_depth=22 ....................................................\n",
      "[CV] ........................... max_depth=20, score=0.695171 -   0.0s\n",
      "[CV] ........................... max_depth=20, score=0.762449 -   0.0s\n",
      "[CV] max_depth=22 ....................................................\n",
      "[CV] max_depth=22 ....................................................\n",
      "[CV] ........................... max_depth=22, score=0.680530 -   0.0s\n",
      "[CV] max_depth=22 ....................................................\n",
      "[CV] ........................... max_depth=22, score=0.664580 -   0.0s\n",
      "[CV] max_depth=24 ....................................................\n",
      "[CV] ........................... max_depth=22, score=0.701806 -   0.0s\n",
      "[CV] max_depth=24 ....................................................\n",
      "[CV] ........................... max_depth=22, score=0.657827 -   0.0s\n",
      "[CV] max_depth=24 ....................................................\n",
      "[CV] ........................... max_depth=22, score=0.769827 -   0.0s\n",
      "[CV] max_depth=24 ....................................................\n"
     ]
    },
    {
     "name": "stderr",
     "output_type": "stream",
     "text": [
      "[Parallel(n_jobs=-1)]: Done  33 tasks      | elapsed:    3.7s\n"
     ]
    },
    {
     "name": "stdout",
     "output_type": "stream",
     "text": [
      "[CV] ........................... max_depth=24, score=0.690835 -   0.0s\n",
      "[CV] max_depth=24 ....................................................\n",
      "[CV] ........................... max_depth=24, score=0.663844 -   0.0s\n",
      "[CV] max_depth=26 ....................................................\n",
      "[CV] ........................... max_depth=24, score=0.698489 -   0.0s\n",
      "[CV] ........................... max_depth=24, score=0.654512 -   0.0s\n",
      "[CV] max_depth=26 ....................................................\n",
      "[CV] max_depth=26 ....................................................\n",
      "[CV] ........................... max_depth=24, score=0.763925 -   0.0s\n",
      "[CV] max_depth=26 ....................................................\n",
      "[CV] ........................... max_depth=26, score=0.691572 -   0.0s\n",
      "[CV] max_depth=26 ....................................................\n",
      "[CV] ........................... max_depth=26, score=0.657459 -   0.0s\n",
      "[CV] max_depth=28 ....................................................\n",
      "[CV] ........................... max_depth=26, score=0.669735 -   0.0s\n",
      "[CV] max_depth=28 ....................................................\n"
     ]
    },
    {
     "name": "stderr",
     "output_type": "stream",
     "text": [
      "[Parallel(n_jobs=-1)]: Done  42 tasks      | elapsed:    4.7s\n"
     ]
    },
    {
     "name": "stdout",
     "output_type": "stream",
     "text": [
      "[CV] ........................... max_depth=26, score=0.696277 -   0.0s\n",
      "[CV] max_depth=28 ....................................................\n",
      "[CV] ........................... max_depth=26, score=0.769089 -   0.0s\n",
      "[CV] max_depth=28 ....................................................\n",
      "[CV] ........................... max_depth=28, score=0.686787 -   0.0s\n",
      "[CV] max_depth=28 ....................................................\n",
      "[CV] ........................... max_depth=28, score=0.668630 -   0.0s\n",
      "[CV] ........................... max_depth=28, score=0.657459 -   0.0s\n",
      "[CV] ........................... max_depth=28, score=0.694434 -   0.0s\n",
      "[CV] ........................... max_depth=28, score=0.769458 -   0.0s\n"
     ]
    },
    {
     "name": "stderr",
     "output_type": "stream",
     "text": [
      "[Parallel(n_jobs=-1)]: Done  50 out of  50 | elapsed:    5.4s finished\n"
     ]
    },
    {
     "name": "stdout",
     "output_type": "stream",
     "text": [
      "Best score: 0.697\n",
      "Best parameters set:\n",
      "\tmax_depth: 26\n"
     ]
    }
   ],
   "source": [
    "seed = 19\n",
    "model = DecisionTreeClassifier(random_state=seed)\n",
    "param_grid = {\n",
    "    'max_depth': np.arange(10, 30, 2),\n",
    "    }\n",
    "tuner(model, param_grid, train_clean)"
   ]
  },
  {
   "cell_type": "code",
   "execution_count": 64,
   "metadata": {
    "collapsed": false
   },
   "outputs": [
    {
     "name": "stdout",
     "output_type": "stream",
     "text": [
      "0.752125572269\n"
     ]
    }
   ],
   "source": [
    "model = DecisionTreeClassifier()\n",
    "model.fit(X_train, y_train)\n",
    "y_pred = model.predict(X_test)\n",
    "result = score(y_test, y_pred)\n",
    "print(result)"
   ]
  },
  {
   "cell_type": "code",
   "execution_count": 66,
   "metadata": {
    "collapsed": false
   },
   "outputs": [
    {
     "name": "stdout",
     "output_type": "stream",
     "text": [
      "0.75408763898\n"
     ]
    }
   ],
   "source": [
    "seed = 19\n",
    "model = DecisionTreeClassifier(random_state=seed, max_depth=14)\n",
    "model.fit(X_train, y_train)\n",
    "y_pred = model.predict(X_test)\n",
    "result = score(y_test, y_pred)\n",
    "print(result)"
   ]
  },
  {
   "cell_type": "code",
   "execution_count": 36,
   "metadata": {
    "collapsed": false
   },
   "outputs": [
    {
     "name": "stdout",
     "output_type": "stream",
     "text": [
      "Fitting 5 folds for each of 10 candidates, totalling 50 fits\n"
     ]
    },
    {
     "name": "stderr",
     "output_type": "stream",
     "text": [
      "/Users/brandon/anaconda/envs/py35/lib/python3.5/site-packages/sklearn/utils/validation.py:429: DataConversionWarning: Data with input dtype int64 was converted to float64 by StandardScaler.\n",
      "  warnings.warn(msg, _DataConversionWarning)\n"
     ]
    },
    {
     "name": "stdout",
     "output_type": "stream",
     "text": [
      "[CV] n_estimators=80 .................................................\n",
      "[CV] n_estimators=80 .................................................\n",
      "[CV] n_estimators=80 .................................................\n"
     ]
    },
    {
     "name": "stderr",
     "output_type": "stream",
     "text": [
      "/Users/brandon/anaconda/envs/py35/lib/python3.5/site-packages/sklearn/externals/joblib/parallel.py:540: UserWarning: Multiprocessing-backed parallel loops cannot be nested, setting n_jobs=1\n",
      "  **self._backend_args)\n"
     ]
    },
    {
     "name": "stdout",
     "output_type": "stream",
     "text": [
      "[CV] n_estimators=80 .................................................\n"
     ]
    },
    {
     "name": "stderr",
     "output_type": "stream",
     "text": [
      "/Users/brandon/anaconda/envs/py35/lib/python3.5/site-packages/sklearn/externals/joblib/parallel.py:540: UserWarning: Multiprocessing-backed parallel loops cannot be nested, setting n_jobs=1\n",
      "  **self._backend_args)\n",
      "/Users/brandon/anaconda/envs/py35/lib/python3.5/site-packages/sklearn/externals/joblib/parallel.py:540: UserWarning: Multiprocessing-backed parallel loops cannot be nested, setting n_jobs=1\n",
      "  **self._backend_args)\n",
      "/Users/brandon/anaconda/envs/py35/lib/python3.5/site-packages/sklearn/externals/joblib/parallel.py:540: UserWarning: Multiprocessing-backed parallel loops cannot be nested, setting n_jobs=1\n",
      "  **self._backend_args)\n",
      "/Users/brandon/anaconda/envs/py35/lib/python3.5/site-packages/sklearn/externals/joblib/parallel.py:540: UserWarning: Multiprocessing-backed parallel loops cannot be nested, setting n_jobs=1\n",
      "  **self._backend_args)\n",
      "/Users/brandon/anaconda/envs/py35/lib/python3.5/site-packages/sklearn/externals/joblib/parallel.py:540: UserWarning: Multiprocessing-backed parallel loops cannot be nested, setting n_jobs=1\n",
      "  **self._backend_args)\n",
      "/Users/brandon/anaconda/envs/py35/lib/python3.5/site-packages/sklearn/externals/joblib/parallel.py:540: UserWarning: Multiprocessing-backed parallel loops cannot be nested, setting n_jobs=1\n",
      "  **self._backend_args)\n",
      "/Users/brandon/anaconda/envs/py35/lib/python3.5/site-packages/sklearn/externals/joblib/parallel.py:540: UserWarning: Multiprocessing-backed parallel loops cannot be nested, setting n_jobs=1\n",
      "  **self._backend_args)\n"
     ]
    },
    {
     "name": "stdout",
     "output_type": "stream",
     "text": [
      "[CV] ........................ n_estimators=80, score=0.708150 -   0.2s\n",
      "[CV] n_estimators=80 .................................................\n"
     ]
    },
    {
     "name": "stderr",
     "output_type": "stream",
     "text": [
      "/Users/brandon/anaconda/envs/py35/lib/python3.5/site-packages/sklearn/externals/joblib/parallel.py:540: UserWarning: Multiprocessing-backed parallel loops cannot be nested, setting n_jobs=1\n",
      "  **self._backend_args)\n"
     ]
    },
    {
     "name": "stdout",
     "output_type": "stream",
     "text": [
      "[CV] ........................ n_estimators=80, score=0.750918 -   0.2s\n",
      "[CV] n_estimators=82 .................................................\n"
     ]
    },
    {
     "name": "stderr",
     "output_type": "stream",
     "text": [
      "/Users/brandon/anaconda/envs/py35/lib/python3.5/site-packages/sklearn/externals/joblib/parallel.py:540: UserWarning: Multiprocessing-backed parallel loops cannot be nested, setting n_jobs=1\n",
      "  **self._backend_args)\n"
     ]
    },
    {
     "name": "stdout",
     "output_type": "stream",
     "text": [
      "[CV] ........................ n_estimators=80, score=0.723670 -   0.3s\n",
      "[CV] n_estimators=82 .................................................\n"
     ]
    },
    {
     "name": "stderr",
     "output_type": "stream",
     "text": [
      "/Users/brandon/anaconda/envs/py35/lib/python3.5/site-packages/sklearn/externals/joblib/parallel.py:540: UserWarning: Multiprocessing-backed parallel loops cannot be nested, setting n_jobs=1\n",
      "  **self._backend_args)\n"
     ]
    },
    {
     "name": "stdout",
     "output_type": "stream",
     "text": [
      "[CV] ........................ n_estimators=80, score=0.697025 -   0.2s\n",
      "[CV] n_estimators=82 .................................................\n"
     ]
    },
    {
     "name": "stderr",
     "output_type": "stream",
     "text": [
      "/Users/brandon/anaconda/envs/py35/lib/python3.5/site-packages/sklearn/externals/joblib/parallel.py:540: UserWarning: Multiprocessing-backed parallel loops cannot be nested, setting n_jobs=1\n",
      "  **self._backend_args)\n",
      "/Users/brandon/anaconda/envs/py35/lib/python3.5/site-packages/sklearn/externals/joblib/parallel.py:540: UserWarning: Multiprocessing-backed parallel loops cannot be nested, setting n_jobs=1\n",
      "  **self._backend_args)\n",
      "/Users/brandon/anaconda/envs/py35/lib/python3.5/site-packages/sklearn/externals/joblib/parallel.py:540: UserWarning: Multiprocessing-backed parallel loops cannot be nested, setting n_jobs=1\n",
      "  **self._backend_args)\n",
      "/Users/brandon/anaconda/envs/py35/lib/python3.5/site-packages/sklearn/externals/joblib/parallel.py:540: UserWarning: Multiprocessing-backed parallel loops cannot be nested, setting n_jobs=1\n",
      "  **self._backend_args)\n",
      "/Users/brandon/anaconda/envs/py35/lib/python3.5/site-packages/sklearn/externals/joblib/parallel.py:540: UserWarning: Multiprocessing-backed parallel loops cannot be nested, setting n_jobs=1\n",
      "  **self._backend_args)\n"
     ]
    },
    {
     "name": "stdout",
     "output_type": "stream",
     "text": [
      "[CV] ........................ n_estimators=80, score=0.795881 -   0.2s\n",
      "[CV] n_estimators=82 .................................................\n",
      "[CV] ........................ n_estimators=82, score=0.709985 -   0.2s\n"
     ]
    },
    {
     "name": "stderr",
     "output_type": "stream",
     "text": [
      "/Users/brandon/anaconda/envs/py35/lib/python3.5/site-packages/sklearn/externals/joblib/parallel.py:540: UserWarning: Multiprocessing-backed parallel loops cannot be nested, setting n_jobs=1\n",
      "  **self._backend_args)\n"
     ]
    },
    {
     "name": "stdout",
     "output_type": "stream",
     "text": [
      "[CV] n_estimators=82 .................................................\n"
     ]
    },
    {
     "name": "stderr",
     "output_type": "stream",
     "text": [
      "/Users/brandon/anaconda/envs/py35/lib/python3.5/site-packages/sklearn/externals/joblib/parallel.py:540: UserWarning: Multiprocessing-backed parallel loops cannot be nested, setting n_jobs=1\n",
      "  **self._backend_args)\n",
      "[Parallel(n_jobs=-1)]: Done   5 tasks      | elapsed:   28.6s\n"
     ]
    },
    {
     "name": "stdout",
     "output_type": "stream",
     "text": [
      "[CV] ........................ n_estimators=82, score=0.725872 -   0.2s\n",
      "[CV] n_estimators=84 .................................................\n"
     ]
    },
    {
     "name": "stderr",
     "output_type": "stream",
     "text": [
      "/Users/brandon/anaconda/envs/py35/lib/python3.5/site-packages/sklearn/externals/joblib/parallel.py:540: UserWarning: Multiprocessing-backed parallel loops cannot be nested, setting n_jobs=1\n",
      "  **self._backend_args)\n"
     ]
    },
    {
     "name": "stdout",
     "output_type": "stream",
     "text": [
      "[CV] ........................ n_estimators=82, score=0.697760 -   0.2s\n",
      "[CV] n_estimators=84 .................................................\n"
     ]
    },
    {
     "name": "stderr",
     "output_type": "stream",
     "text": [
      "/Users/brandon/anaconda/envs/py35/lib/python3.5/site-packages/sklearn/externals/joblib/parallel.py:540: UserWarning: Multiprocessing-backed parallel loops cannot be nested, setting n_jobs=1\n",
      "  **self._backend_args)\n",
      "/Users/brandon/anaconda/envs/py35/lib/python3.5/site-packages/sklearn/externals/joblib/parallel.py:540: UserWarning: Multiprocessing-backed parallel loops cannot be nested, setting n_jobs=1\n",
      "  **self._backend_args)\n",
      "/Users/brandon/anaconda/envs/py35/lib/python3.5/site-packages/sklearn/externals/joblib/parallel.py:540: UserWarning: Multiprocessing-backed parallel loops cannot be nested, setting n_jobs=1\n",
      "  **self._backend_args)\n",
      "/Users/brandon/anaconda/envs/py35/lib/python3.5/site-packages/sklearn/externals/joblib/parallel.py:540: UserWarning: Multiprocessing-backed parallel loops cannot be nested, setting n_jobs=1\n",
      "  **self._backend_args)\n",
      "/Users/brandon/anaconda/envs/py35/lib/python3.5/site-packages/sklearn/externals/joblib/parallel.py:540: UserWarning: Multiprocessing-backed parallel loops cannot be nested, setting n_jobs=1\n",
      "  **self._backend_args)\n"
     ]
    },
    {
     "name": "stdout",
     "output_type": "stream",
     "text": [
      "[CV] ........................ n_estimators=82, score=0.749816 -   0.2s\n",
      "[CV] n_estimators=84 .................................................\n"
     ]
    },
    {
     "name": "stderr",
     "output_type": "stream",
     "text": [
      "/Users/brandon/anaconda/envs/py35/lib/python3.5/site-packages/sklearn/externals/joblib/parallel.py:540: UserWarning: Multiprocessing-backed parallel loops cannot be nested, setting n_jobs=1\n",
      "  **self._backend_args)\n"
     ]
    },
    {
     "name": "stdout",
     "output_type": "stream",
     "text": [
      "[CV] ........................ n_estimators=82, score=0.796249 -   0.2s\n",
      "[CV] n_estimators=84 .................................................\n"
     ]
    },
    {
     "name": "stderr",
     "output_type": "stream",
     "text": [
      "/Users/brandon/anaconda/envs/py35/lib/python3.5/site-packages/sklearn/externals/joblib/parallel.py:540: UserWarning: Multiprocessing-backed parallel loops cannot be nested, setting n_jobs=1\n",
      "  **self._backend_args)\n",
      "[Parallel(n_jobs=-1)]: Done  10 tasks      | elapsed:   44.6s\n"
     ]
    },
    {
     "name": "stdout",
     "output_type": "stream",
     "text": [
      "[CV] ........................ n_estimators=84, score=0.724771 -   0.3s\n",
      "[CV] n_estimators=84 .................................................\n"
     ]
    },
    {
     "name": "stderr",
     "output_type": "stream",
     "text": [
      "/Users/brandon/anaconda/envs/py35/lib/python3.5/site-packages/sklearn/externals/joblib/parallel.py:540: UserWarning: Multiprocessing-backed parallel loops cannot be nested, setting n_jobs=1\n",
      "  **self._backend_args)\n"
     ]
    },
    {
     "name": "stdout",
     "output_type": "stream",
     "text": [
      "[CV] ........................ n_estimators=84, score=0.711087 -   0.2s\n",
      "[CV] n_estimators=86 .................................................\n"
     ]
    },
    {
     "name": "stderr",
     "output_type": "stream",
     "text": [
      "/Users/brandon/anaconda/envs/py35/lib/python3.5/site-packages/sklearn/externals/joblib/parallel.py:540: UserWarning: Multiprocessing-backed parallel loops cannot be nested, setting n_jobs=1\n",
      "  **self._backend_args)\n",
      "/Users/brandon/anaconda/envs/py35/lib/python3.5/site-packages/sklearn/externals/joblib/parallel.py:540: UserWarning: Multiprocessing-backed parallel loops cannot be nested, setting n_jobs=1\n",
      "  **self._backend_args)\n",
      "/Users/brandon/anaconda/envs/py35/lib/python3.5/site-packages/sklearn/externals/joblib/parallel.py:540: UserWarning: Multiprocessing-backed parallel loops cannot be nested, setting n_jobs=1\n",
      "  **self._backend_args)\n",
      "/Users/brandon/anaconda/envs/py35/lib/python3.5/site-packages/sklearn/externals/joblib/parallel.py:540: UserWarning: Multiprocessing-backed parallel loops cannot be nested, setting n_jobs=1\n",
      "  **self._backend_args)\n",
      "/Users/brandon/anaconda/envs/py35/lib/python3.5/site-packages/sklearn/externals/joblib/parallel.py:540: UserWarning: Multiprocessing-backed parallel loops cannot be nested, setting n_jobs=1\n",
      "  **self._backend_args)\n"
     ]
    },
    {
     "name": "stdout",
     "output_type": "stream",
     "text": [
      "[CV] ........................ n_estimators=84, score=0.697025 -   0.2s\n",
      "[CV] n_estimators=86 .................................................\n"
     ]
    },
    {
     "name": "stderr",
     "output_type": "stream",
     "text": [
      "/Users/brandon/anaconda/envs/py35/lib/python3.5/site-packages/sklearn/externals/joblib/parallel.py:540: UserWarning: Multiprocessing-backed parallel loops cannot be nested, setting n_jobs=1\n",
      "  **self._backend_args)\n"
     ]
    },
    {
     "name": "stdout",
     "output_type": "stream",
     "text": [
      "[CV] ........................ n_estimators=84, score=0.751286 -   0.2s\n",
      "[CV] n_estimators=86 .................................................\n"
     ]
    },
    {
     "name": "stderr",
     "output_type": "stream",
     "text": [
      "/Users/brandon/anaconda/envs/py35/lib/python3.5/site-packages/sklearn/externals/joblib/parallel.py:540: UserWarning: Multiprocessing-backed parallel loops cannot be nested, setting n_jobs=1\n",
      "  **self._backend_args)\n"
     ]
    },
    {
     "name": "stdout",
     "output_type": "stream",
     "text": [
      "[CV] ........................ n_estimators=84, score=0.797720 -   0.2s\n",
      "[CV] n_estimators=86 .................................................\n"
     ]
    },
    {
     "name": "stderr",
     "output_type": "stream",
     "text": [
      "/Users/brandon/anaconda/envs/py35/lib/python3.5/site-packages/sklearn/externals/joblib/parallel.py:540: UserWarning: Multiprocessing-backed parallel loops cannot be nested, setting n_jobs=1\n",
      "  **self._backend_args)\n"
     ]
    },
    {
     "name": "stdout",
     "output_type": "stream",
     "text": [
      "[CV] ........................ n_estimators=86, score=0.723303 -   0.2s\n",
      "[CV] n_estimators=86 .................................................\n"
     ]
    },
    {
     "name": "stderr",
     "output_type": "stream",
     "text": [
      "/Users/brandon/anaconda/envs/py35/lib/python3.5/site-packages/sklearn/externals/joblib/parallel.py:540: UserWarning: Multiprocessing-backed parallel loops cannot be nested, setting n_jobs=1\n",
      "  **self._backend_args)\n",
      "/Users/brandon/anaconda/envs/py35/lib/python3.5/site-packages/sklearn/externals/joblib/parallel.py:540: UserWarning: Multiprocessing-backed parallel loops cannot be nested, setting n_jobs=1\n",
      "  **self._backend_args)\n",
      "/Users/brandon/anaconda/envs/py35/lib/python3.5/site-packages/sklearn/externals/joblib/parallel.py:540: UserWarning: Multiprocessing-backed parallel loops cannot be nested, setting n_jobs=1\n",
      "  **self._backend_args)\n",
      "/Users/brandon/anaconda/envs/py35/lib/python3.5/site-packages/sklearn/externals/joblib/parallel.py:540: UserWarning: Multiprocessing-backed parallel loops cannot be nested, setting n_jobs=1\n",
      "  **self._backend_args)\n",
      "/Users/brandon/anaconda/envs/py35/lib/python3.5/site-packages/sklearn/externals/joblib/parallel.py:540: UserWarning: Multiprocessing-backed parallel loops cannot be nested, setting n_jobs=1\n",
      "  **self._backend_args)\n"
     ]
    },
    {
     "name": "stdout",
     "output_type": "stream",
     "text": [
      "[CV] ........................ n_estimators=86, score=0.711454 -   0.2s\n",
      "[CV] n_estimators=88 .................................................\n"
     ]
    },
    {
     "name": "stderr",
     "output_type": "stream",
     "text": [
      "/Users/brandon/anaconda/envs/py35/lib/python3.5/site-packages/sklearn/externals/joblib/parallel.py:540: UserWarning: Multiprocessing-backed parallel loops cannot be nested, setting n_jobs=1\n",
      "  **self._backend_args)\n",
      "[Parallel(n_jobs=-1)]: Done  17 tasks      | elapsed:  1.2min\n"
     ]
    },
    {
     "name": "stdout",
     "output_type": "stream",
     "text": [
      "[CV] ........................ n_estimators=86, score=0.752388 -   0.2s\n",
      "[CV] n_estimators=88 .................................................\n"
     ]
    },
    {
     "name": "stderr",
     "output_type": "stream",
     "text": [
      "/Users/brandon/anaconda/envs/py35/lib/python3.5/site-packages/sklearn/externals/joblib/parallel.py:540: UserWarning: Multiprocessing-backed parallel loops cannot be nested, setting n_jobs=1\n",
      "  **self._backend_args)\n"
     ]
    },
    {
     "name": "stdout",
     "output_type": "stream",
     "text": [
      "[CV] ........................ n_estimators=86, score=0.697025 -   0.2s\n",
      "[CV] n_estimators=88 .................................................\n"
     ]
    },
    {
     "name": "stderr",
     "output_type": "stream",
     "text": [
      "/Users/brandon/anaconda/envs/py35/lib/python3.5/site-packages/sklearn/externals/joblib/parallel.py:540: UserWarning: Multiprocessing-backed parallel loops cannot be nested, setting n_jobs=1\n",
      "  **self._backend_args)\n"
     ]
    },
    {
     "name": "stdout",
     "output_type": "stream",
     "text": [
      "[CV] ........................ n_estimators=86, score=0.797352 -   0.3s\n",
      "[CV] n_estimators=88 .................................................\n"
     ]
    },
    {
     "name": "stderr",
     "output_type": "stream",
     "text": [
      "/Users/brandon/anaconda/envs/py35/lib/python3.5/site-packages/sklearn/externals/joblib/parallel.py:540: UserWarning: Multiprocessing-backed parallel loops cannot be nested, setting n_jobs=1\n",
      "  **self._backend_args)\n",
      "/Users/brandon/anaconda/envs/py35/lib/python3.5/site-packages/sklearn/externals/joblib/parallel.py:540: UserWarning: Multiprocessing-backed parallel loops cannot be nested, setting n_jobs=1\n",
      "  **self._backend_args)\n",
      "/Users/brandon/anaconda/envs/py35/lib/python3.5/site-packages/sklearn/externals/joblib/parallel.py:540: UserWarning: Multiprocessing-backed parallel loops cannot be nested, setting n_jobs=1\n",
      "  **self._backend_args)\n",
      "/Users/brandon/anaconda/envs/py35/lib/python3.5/site-packages/sklearn/externals/joblib/parallel.py:540: UserWarning: Multiprocessing-backed parallel loops cannot be nested, setting n_jobs=1\n",
      "  **self._backend_args)\n",
      "/Users/brandon/anaconda/envs/py35/lib/python3.5/site-packages/sklearn/externals/joblib/parallel.py:540: UserWarning: Multiprocessing-backed parallel loops cannot be nested, setting n_jobs=1\n",
      "  **self._backend_args)\n"
     ]
    },
    {
     "name": "stdout",
     "output_type": "stream",
     "text": [
      "[CV] ........................ n_estimators=88, score=0.722936 -   0.2s\n",
      "[CV] n_estimators=88 .................................................\n"
     ]
    },
    {
     "name": "stderr",
     "output_type": "stream",
     "text": [
      "/Users/brandon/anaconda/envs/py35/lib/python3.5/site-packages/sklearn/externals/joblib/parallel.py:540: UserWarning: Multiprocessing-backed parallel loops cannot be nested, setting n_jobs=1\n",
      "  **self._backend_args)\n"
     ]
    },
    {
     "name": "stdout",
     "output_type": "stream",
     "text": [
      "[CV] ........................ n_estimators=88, score=0.707783 -   0.2s\n",
      "[CV] n_estimators=90 .................................................\n"
     ]
    },
    {
     "name": "stderr",
     "output_type": "stream",
     "text": [
      "/Users/brandon/anaconda/envs/py35/lib/python3.5/site-packages/sklearn/externals/joblib/parallel.py:540: UserWarning: Multiprocessing-backed parallel loops cannot be nested, setting n_jobs=1\n",
      "  **self._backend_args)\n"
     ]
    },
    {
     "name": "stdout",
     "output_type": "stream",
     "text": [
      "[CV] ........................ n_estimators=88, score=0.697393 -   0.2s\n",
      "[CV] n_estimators=90 .................................................\n"
     ]
    },
    {
     "name": "stderr",
     "output_type": "stream",
     "text": [
      "/Users/brandon/anaconda/envs/py35/lib/python3.5/site-packages/sklearn/externals/joblib/parallel.py:540: UserWarning: Multiprocessing-backed parallel loops cannot be nested, setting n_jobs=1\n",
      "  **self._backend_args)\n"
     ]
    },
    {
     "name": "stdout",
     "output_type": "stream",
     "text": [
      "[CV] ........................ n_estimators=88, score=0.751286 -   0.2s\n",
      "[CV] n_estimators=90 .................................................\n"
     ]
    },
    {
     "name": "stderr",
     "output_type": "stream",
     "text": [
      "/Users/brandon/anaconda/envs/py35/lib/python3.5/site-packages/sklearn/externals/joblib/parallel.py:540: UserWarning: Multiprocessing-backed parallel loops cannot be nested, setting n_jobs=1\n",
      "  **self._backend_args)\n",
      "[Parallel(n_jobs=-1)]: Done  24 tasks      | elapsed:  1.5min\n",
      "/Users/brandon/anaconda/envs/py35/lib/python3.5/site-packages/sklearn/externals/joblib/parallel.py:540: UserWarning: Multiprocessing-backed parallel loops cannot be nested, setting n_jobs=1\n",
      "  **self._backend_args)\n",
      "/Users/brandon/anaconda/envs/py35/lib/python3.5/site-packages/sklearn/externals/joblib/parallel.py:540: UserWarning: Multiprocessing-backed parallel loops cannot be nested, setting n_jobs=1\n",
      "  **self._backend_args)\n",
      "/Users/brandon/anaconda/envs/py35/lib/python3.5/site-packages/sklearn/externals/joblib/parallel.py:540: UserWarning: Multiprocessing-backed parallel loops cannot be nested, setting n_jobs=1\n",
      "  **self._backend_args)\n"
     ]
    },
    {
     "name": "stdout",
     "output_type": "stream",
     "text": [
      "[CV] ........................ n_estimators=88, score=0.796984 -   0.2s\n",
      "[CV] n_estimators=90 .................................................\n"
     ]
    },
    {
     "name": "stderr",
     "output_type": "stream",
     "text": [
      "/Users/brandon/anaconda/envs/py35/lib/python3.5/site-packages/sklearn/externals/joblib/parallel.py:540: UserWarning: Multiprocessing-backed parallel loops cannot be nested, setting n_jobs=1\n",
      "  **self._backend_args)\n"
     ]
    },
    {
     "name": "stdout",
     "output_type": "stream",
     "text": [
      "[CV] ........................ n_estimators=90, score=0.725505 -   0.2s\n",
      "[CV] n_estimators=90 .................................................\n"
     ]
    },
    {
     "name": "stderr",
     "output_type": "stream",
     "text": [
      "/Users/brandon/anaconda/envs/py35/lib/python3.5/site-packages/sklearn/externals/joblib/parallel.py:540: UserWarning: Multiprocessing-backed parallel loops cannot be nested, setting n_jobs=1\n",
      "  **self._backend_args)\n",
      "/Users/brandon/anaconda/envs/py35/lib/python3.5/site-packages/sklearn/externals/joblib/parallel.py:540: UserWarning: Multiprocessing-backed parallel loops cannot be nested, setting n_jobs=1\n",
      "  **self._backend_args)\n"
     ]
    },
    {
     "name": "stdout",
     "output_type": "stream",
     "text": [
      "[CV] ........................ n_estimators=90, score=0.709985 -   0.2s\n",
      "[CV] n_estimators=92 .................................................\n"
     ]
    },
    {
     "name": "stderr",
     "output_type": "stream",
     "text": [
      "/Users/brandon/anaconda/envs/py35/lib/python3.5/site-packages/sklearn/externals/joblib/parallel.py:540: UserWarning: Multiprocessing-backed parallel loops cannot be nested, setting n_jobs=1\n",
      "  **self._backend_args)\n"
     ]
    },
    {
     "name": "stdout",
     "output_type": "stream",
     "text": [
      "[CV] ........................ n_estimators=90, score=0.699229 -   0.2s\n",
      "[CV] n_estimators=92 .................................................\n"
     ]
    },
    {
     "name": "stderr",
     "output_type": "stream",
     "text": [
      "/Users/brandon/anaconda/envs/py35/lib/python3.5/site-packages/sklearn/externals/joblib/parallel.py:540: UserWarning: Multiprocessing-backed parallel loops cannot be nested, setting n_jobs=1\n",
      "  **self._backend_args)\n",
      "/Users/brandon/anaconda/envs/py35/lib/python3.5/site-packages/sklearn/externals/joblib/parallel.py:540: UserWarning: Multiprocessing-backed parallel loops cannot be nested, setting n_jobs=1\n",
      "  **self._backend_args)\n",
      "/Users/brandon/anaconda/envs/py35/lib/python3.5/site-packages/sklearn/externals/joblib/parallel.py:540: UserWarning: Multiprocessing-backed parallel loops cannot be nested, setting n_jobs=1\n",
      "  **self._backend_args)\n"
     ]
    },
    {
     "name": "stdout",
     "output_type": "stream",
     "text": [
      "[CV] ........................ n_estimators=90, score=0.752021 -   0.2s\n",
      "[CV] n_estimators=92 .................................................\n"
     ]
    },
    {
     "name": "stderr",
     "output_type": "stream",
     "text": [
      "/Users/brandon/anaconda/envs/py35/lib/python3.5/site-packages/sklearn/externals/joblib/parallel.py:540: UserWarning: Multiprocessing-backed parallel loops cannot be nested, setting n_jobs=1\n",
      "  **self._backend_args)\n",
      "/Users/brandon/anaconda/envs/py35/lib/python3.5/site-packages/sklearn/externals/joblib/parallel.py:540: UserWarning: Multiprocessing-backed parallel loops cannot be nested, setting n_jobs=1\n",
      "  **self._backend_args)\n"
     ]
    },
    {
     "name": "stdout",
     "output_type": "stream",
     "text": [
      "[CV] ........................ n_estimators=90, score=0.799191 -   0.2s\n",
      "[CV] n_estimators=92 .................................................\n"
     ]
    },
    {
     "name": "stderr",
     "output_type": "stream",
     "text": [
      "/Users/brandon/anaconda/envs/py35/lib/python3.5/site-packages/sklearn/externals/joblib/parallel.py:540: UserWarning: Multiprocessing-backed parallel loops cannot be nested, setting n_jobs=1\n",
      "  **self._backend_args)\n",
      "/Users/brandon/anaconda/envs/py35/lib/python3.5/site-packages/sklearn/externals/joblib/parallel.py:540: UserWarning: Multiprocessing-backed parallel loops cannot be nested, setting n_jobs=1\n",
      "  **self._backend_args)\n"
     ]
    },
    {
     "name": "stdout",
     "output_type": "stream",
     "text": [
      "[CV] ........................ n_estimators=92, score=0.725505 -   0.2s\n",
      "[CV] n_estimators=92 .................................................\n"
     ]
    },
    {
     "name": "stderr",
     "output_type": "stream",
     "text": [
      "/Users/brandon/anaconda/envs/py35/lib/python3.5/site-packages/sklearn/externals/joblib/parallel.py:540: UserWarning: Multiprocessing-backed parallel loops cannot be nested, setting n_jobs=1\n",
      "  **self._backend_args)\n"
     ]
    },
    {
     "name": "stdout",
     "output_type": "stream",
     "text": [
      "[CV] ........................ n_estimators=92, score=0.710352 -   0.2s\n",
      "[CV] n_estimators=94 .................................................\n"
     ]
    },
    {
     "name": "stderr",
     "output_type": "stream",
     "text": [
      "/Users/brandon/anaconda/envs/py35/lib/python3.5/site-packages/sklearn/externals/joblib/parallel.py:540: UserWarning: Multiprocessing-backed parallel loops cannot be nested, setting n_jobs=1\n",
      "  **self._backend_args)\n",
      "/Users/brandon/anaconda/envs/py35/lib/python3.5/site-packages/sklearn/externals/joblib/parallel.py:540: UserWarning: Multiprocessing-backed parallel loops cannot be nested, setting n_jobs=1\n",
      "  **self._backend_args)\n",
      "/Users/brandon/anaconda/envs/py35/lib/python3.5/site-packages/sklearn/externals/joblib/parallel.py:540: UserWarning: Multiprocessing-backed parallel loops cannot be nested, setting n_jobs=1\n",
      "  **self._backend_args)\n"
     ]
    },
    {
     "name": "stdout",
     "output_type": "stream",
     "text": [
      "[CV] ........................ n_estimators=92, score=0.697760 -   0.2s\n",
      "[CV] n_estimators=94 .................................................\n"
     ]
    },
    {
     "name": "stderr",
     "output_type": "stream",
     "text": [
      "/Users/brandon/anaconda/envs/py35/lib/python3.5/site-packages/sklearn/externals/joblib/parallel.py:540: UserWarning: Multiprocessing-backed parallel loops cannot be nested, setting n_jobs=1\n",
      "  **self._backend_args)\n"
     ]
    },
    {
     "name": "stdout",
     "output_type": "stream",
     "text": [
      "[CV] ........................ n_estimators=92, score=0.752388 -   0.2s\n",
      "[CV] n_estimators=94 .................................................\n"
     ]
    },
    {
     "name": "stderr",
     "output_type": "stream",
     "text": [
      "/Users/brandon/anaconda/envs/py35/lib/python3.5/site-packages/sklearn/externals/joblib/parallel.py:540: UserWarning: Multiprocessing-backed parallel loops cannot be nested, setting n_jobs=1\n",
      "  **self._backend_args)\n",
      "/Users/brandon/anaconda/envs/py35/lib/python3.5/site-packages/sklearn/externals/joblib/parallel.py:540: UserWarning: Multiprocessing-backed parallel loops cannot be nested, setting n_jobs=1\n",
      "  **self._backend_args)\n",
      "[Parallel(n_jobs=-1)]: Done  33 tasks      | elapsed:  2.2min\n",
      "/Users/brandon/anaconda/envs/py35/lib/python3.5/site-packages/sklearn/externals/joblib/parallel.py:540: UserWarning: Multiprocessing-backed parallel loops cannot be nested, setting n_jobs=1\n",
      "  **self._backend_args)\n"
     ]
    },
    {
     "name": "stdout",
     "output_type": "stream",
     "text": [
      "[CV] ........................ n_estimators=92, score=0.799191 -   0.2s\n",
      "[CV] n_estimators=94 .................................................\n"
     ]
    },
    {
     "name": "stderr",
     "output_type": "stream",
     "text": [
      "/Users/brandon/anaconda/envs/py35/lib/python3.5/site-packages/sklearn/externals/joblib/parallel.py:540: UserWarning: Multiprocessing-backed parallel loops cannot be nested, setting n_jobs=1\n",
      "  **self._backend_args)\n"
     ]
    },
    {
     "name": "stdout",
     "output_type": "stream",
     "text": [
      "[CV] ........................ n_estimators=94, score=0.725872 -   0.2s\n",
      "[CV] n_estimators=94 .................................................\n"
     ]
    },
    {
     "name": "stderr",
     "output_type": "stream",
     "text": [
      "/Users/brandon/anaconda/envs/py35/lib/python3.5/site-packages/sklearn/externals/joblib/parallel.py:540: UserWarning: Multiprocessing-backed parallel loops cannot be nested, setting n_jobs=1\n",
      "  **self._backend_args)\n",
      "/Users/brandon/anaconda/envs/py35/lib/python3.5/site-packages/sklearn/externals/joblib/parallel.py:540: UserWarning: Multiprocessing-backed parallel loops cannot be nested, setting n_jobs=1\n",
      "  **self._backend_args)\n",
      "/Users/brandon/anaconda/envs/py35/lib/python3.5/site-packages/sklearn/externals/joblib/parallel.py:540: UserWarning: Multiprocessing-backed parallel loops cannot be nested, setting n_jobs=1\n",
      "  **self._backend_args)\n"
     ]
    },
    {
     "name": "stdout",
     "output_type": "stream",
     "text": [
      "[CV] ........................ n_estimators=94, score=0.707783 -   0.2s\n",
      "[CV] n_estimators=96 .................................................\n"
     ]
    },
    {
     "name": "stderr",
     "output_type": "stream",
     "text": [
      "/Users/brandon/anaconda/envs/py35/lib/python3.5/site-packages/sklearn/externals/joblib/parallel.py:540: UserWarning: Multiprocessing-backed parallel loops cannot be nested, setting n_jobs=1\n",
      "  **self._backend_args)\n"
     ]
    },
    {
     "name": "stdout",
     "output_type": "stream",
     "text": [
      "[CV] ........................ n_estimators=94, score=0.699229 -   0.2s\n",
      "[CV] n_estimators=96 .................................................\n"
     ]
    },
    {
     "name": "stderr",
     "output_type": "stream",
     "text": [
      "/Users/brandon/anaconda/envs/py35/lib/python3.5/site-packages/sklearn/externals/joblib/parallel.py:540: UserWarning: Multiprocessing-backed parallel loops cannot be nested, setting n_jobs=1\n",
      "  **self._backend_args)\n",
      "/Users/brandon/anaconda/envs/py35/lib/python3.5/site-packages/sklearn/externals/joblib/parallel.py:540: UserWarning: Multiprocessing-backed parallel loops cannot be nested, setting n_jobs=1\n",
      "  **self._backend_args)\n",
      "/Users/brandon/anaconda/envs/py35/lib/python3.5/site-packages/sklearn/externals/joblib/parallel.py:540: UserWarning: Multiprocessing-backed parallel loops cannot be nested, setting n_jobs=1\n",
      "  **self._backend_args)\n"
     ]
    },
    {
     "name": "stdout",
     "output_type": "stream",
     "text": [
      "[CV] ........................ n_estimators=94, score=0.752021 -   0.2s\n",
      "[CV] n_estimators=96 .................................................\n"
     ]
    },
    {
     "name": "stderr",
     "output_type": "stream",
     "text": [
      "/Users/brandon/anaconda/envs/py35/lib/python3.5/site-packages/sklearn/externals/joblib/parallel.py:540: UserWarning: Multiprocessing-backed parallel loops cannot be nested, setting n_jobs=1\n",
      "  **self._backend_args)\n"
     ]
    },
    {
     "name": "stdout",
     "output_type": "stream",
     "text": [
      "[CV] ........................ n_estimators=94, score=0.798823 -   0.2s\n",
      "[CV] n_estimators=96 .................................................\n"
     ]
    },
    {
     "name": "stderr",
     "output_type": "stream",
     "text": [
      "/Users/brandon/anaconda/envs/py35/lib/python3.5/site-packages/sklearn/externals/joblib/parallel.py:540: UserWarning: Multiprocessing-backed parallel loops cannot be nested, setting n_jobs=1\n",
      "  **self._backend_args)\n",
      "/Users/brandon/anaconda/envs/py35/lib/python3.5/site-packages/sklearn/externals/joblib/parallel.py:540: UserWarning: Multiprocessing-backed parallel loops cannot be nested, setting n_jobs=1\n",
      "  **self._backend_args)\n",
      "/Users/brandon/anaconda/envs/py35/lib/python3.5/site-packages/sklearn/externals/joblib/parallel.py:540: UserWarning: Multiprocessing-backed parallel loops cannot be nested, setting n_jobs=1\n",
      "  **self._backend_args)\n"
     ]
    },
    {
     "name": "stdout",
     "output_type": "stream",
     "text": [
      "[CV] ........................ n_estimators=96, score=0.725872 -   0.3s\n",
      "[CV] n_estimators=96 .................................................\n"
     ]
    },
    {
     "name": "stderr",
     "output_type": "stream",
     "text": [
      "/Users/brandon/anaconda/envs/py35/lib/python3.5/site-packages/sklearn/externals/joblib/parallel.py:540: UserWarning: Multiprocessing-backed parallel loops cannot be nested, setting n_jobs=1\n",
      "  **self._backend_args)\n"
     ]
    },
    {
     "name": "stdout",
     "output_type": "stream",
     "text": [
      "[CV] ........................ n_estimators=96, score=0.708150 -   0.2s\n",
      "[CV] n_estimators=98 .................................................\n"
     ]
    },
    {
     "name": "stderr",
     "output_type": "stream",
     "text": [
      "/Users/brandon/anaconda/envs/py35/lib/python3.5/site-packages/sklearn/externals/joblib/parallel.py:540: UserWarning: Multiprocessing-backed parallel loops cannot be nested, setting n_jobs=1\n",
      "  **self._backend_args)\n",
      "[Parallel(n_jobs=-1)]: Done  42 tasks      | elapsed:  2.8min\n",
      "/Users/brandon/anaconda/envs/py35/lib/python3.5/site-packages/sklearn/externals/joblib/parallel.py:540: UserWarning: Multiprocessing-backed parallel loops cannot be nested, setting n_jobs=1\n",
      "  **self._backend_args)\n",
      "/Users/brandon/anaconda/envs/py35/lib/python3.5/site-packages/sklearn/externals/joblib/parallel.py:540: UserWarning: Multiprocessing-backed parallel loops cannot be nested, setting n_jobs=1\n",
      "  **self._backend_args)\n"
     ]
    },
    {
     "name": "stdout",
     "output_type": "stream",
     "text": [
      "[CV] ........................ n_estimators=96, score=0.752388 -   0.2s\n",
      "[CV] n_estimators=98 .................................................\n"
     ]
    },
    {
     "name": "stderr",
     "output_type": "stream",
     "text": [
      "/Users/brandon/anaconda/envs/py35/lib/python3.5/site-packages/sklearn/externals/joblib/parallel.py:540: UserWarning: Multiprocessing-backed parallel loops cannot be nested, setting n_jobs=1\n",
      "  **self._backend_args)\n"
     ]
    },
    {
     "name": "stdout",
     "output_type": "stream",
     "text": [
      "[CV] ........................ n_estimators=96, score=0.700331 -   0.2s\n",
      "[CV] n_estimators=98 .................................................\n"
     ]
    },
    {
     "name": "stderr",
     "output_type": "stream",
     "text": [
      "/Users/brandon/anaconda/envs/py35/lib/python3.5/site-packages/sklearn/externals/joblib/parallel.py:540: UserWarning: Multiprocessing-backed parallel loops cannot be nested, setting n_jobs=1\n",
      "  **self._backend_args)\n",
      "/Users/brandon/anaconda/envs/py35/lib/python3.5/site-packages/sklearn/externals/joblib/parallel.py:540: UserWarning: Multiprocessing-backed parallel loops cannot be nested, setting n_jobs=1\n",
      "  **self._backend_args)\n",
      "/Users/brandon/anaconda/envs/py35/lib/python3.5/site-packages/sklearn/externals/joblib/parallel.py:540: UserWarning: Multiprocessing-backed parallel loops cannot be nested, setting n_jobs=1\n",
      "  **self._backend_args)\n"
     ]
    },
    {
     "name": "stdout",
     "output_type": "stream",
     "text": [
      "[CV] ........................ n_estimators=96, score=0.797720 -   0.3s\n",
      "[CV] n_estimators=98 .................................................\n"
     ]
    },
    {
     "name": "stderr",
     "output_type": "stream",
     "text": [
      "/Users/brandon/anaconda/envs/py35/lib/python3.5/site-packages/sklearn/externals/joblib/parallel.py:540: UserWarning: Multiprocessing-backed parallel loops cannot be nested, setting n_jobs=1\n",
      "  **self._backend_args)\n"
     ]
    },
    {
     "name": "stdout",
     "output_type": "stream",
     "text": [
      "[CV] ........................ n_estimators=98, score=0.727339 -   0.2s\n",
      "[CV] n_estimators=98 .................................................\n"
     ]
    },
    {
     "name": "stderr",
     "output_type": "stream",
     "text": [
      "/Users/brandon/anaconda/envs/py35/lib/python3.5/site-packages/sklearn/externals/joblib/parallel.py:540: UserWarning: Multiprocessing-backed parallel loops cannot be nested, setting n_jobs=1\n",
      "  **self._backend_args)\n",
      "/Users/brandon/anaconda/envs/py35/lib/python3.5/site-packages/sklearn/externals/joblib/parallel.py:540: UserWarning: Multiprocessing-backed parallel loops cannot be nested, setting n_jobs=1\n",
      "  **self._backend_args)\n",
      "/Users/brandon/anaconda/envs/py35/lib/python3.5/site-packages/sklearn/externals/joblib/parallel.py:540: UserWarning: Multiprocessing-backed parallel loops cannot be nested, setting n_jobs=1\n",
      "  **self._backend_args)\n"
     ]
    },
    {
     "name": "stdout",
     "output_type": "stream",
     "text": [
      "[CV] ........................ n_estimators=98, score=0.710352 -   0.2s\n",
      "[CV] ........................ n_estimators=98, score=0.699596 -   0.3s\n"
     ]
    },
    {
     "name": "stderr",
     "output_type": "stream",
     "text": [
      "/Users/brandon/anaconda/envs/py35/lib/python3.5/site-packages/sklearn/externals/joblib/parallel.py:540: UserWarning: Multiprocessing-backed parallel loops cannot be nested, setting n_jobs=1\n",
      "  **self._backend_args)\n",
      "/Users/brandon/anaconda/envs/py35/lib/python3.5/site-packages/sklearn/externals/joblib/parallel.py:540: UserWarning: Multiprocessing-backed parallel loops cannot be nested, setting n_jobs=1\n",
      "  **self._backend_args)\n"
     ]
    },
    {
     "name": "stdout",
     "output_type": "stream",
     "text": [
      "[CV] ........................ n_estimators=98, score=0.751286 -   0.2s\n",
      "[CV] ........................ n_estimators=98, score=0.798823 -   0.2s\n"
     ]
    },
    {
     "name": "stderr",
     "output_type": "stream",
     "text": [
      "[Parallel(n_jobs=-1)]: Done  50 out of  50 | elapsed:  3.3min finished\n"
     ]
    },
    {
     "name": "stdout",
     "output_type": "stream",
     "text": [
      "Best score: 0.737\n",
      "Best parameters set:\n",
      "\tn_estimators: 98\n"
     ]
    }
   ],
   "source": [
    "from sklearn.ensemble import BaggingClassifier\n",
    "\n",
    "base_estimator = DecisionTreeClassifier(random_state=seed,max_depth=14)\n",
    "model = BaggingClassifier(n_jobs=-1,base_estimator=base_estimator, random_state=seed)\n",
    "param_grid = {\n",
    "    'n_estimators': np.arange(80, 100, 2),\n",
    "    }\n",
    "tuner(model, param_grid, train_clean)\n"
   ]
  },
  {
   "cell_type": "code",
   "execution_count": 39,
   "metadata": {
    "collapsed": false
   },
   "outputs": [
    {
     "name": "stdout",
     "output_type": "stream",
     "text": [
      "0.786175710594\n"
     ]
    }
   ],
   "source": [
    "base_estimator = DecisionTreeClassifier(random_state=seed,max_depth=11)\n",
    "model = BaggingClassifier()\n",
    "model.fit(X_train, y_train)\n",
    "y_pred = model.predict(X_test)\n",
    "result = score(y_test, y_pred)\n",
    "print(result)"
   ]
  },
  {
   "cell_type": "code",
   "execution_count": 41,
   "metadata": {
    "collapsed": false
   },
   "outputs": [
    {
     "name": "stdout",
     "output_type": "stream",
     "text": [
      "0.821499668215\n"
     ]
    }
   ],
   "source": [
    "base_estimator = DecisionTreeClassifier(random_state=seed,max_depth=11)\n",
    "model = BaggingClassifier(n_jobs=-1,base_estimator=base_estimator, n_estimators=300, random_state=seed)\n",
    "model.fit(X_train, y_train)\n",
    "y_pred = model.predict(X_test)\n",
    "result = score(y_test, y_pred)\n",
    "print(result)"
   ]
  },
  {
   "cell_type": "code",
   "execution_count": 16,
   "metadata": {
    "collapsed": false,
    "scrolled": true
   },
   "outputs": [
    {
     "name": "stdout",
     "output_type": "stream",
     "text": [
      "Fitting 5 folds for each of 10 candidates, totalling 50 fits\n"
     ]
    },
    {
     "name": "stderr",
     "output_type": "stream",
     "text": [
      "/Users/brandon/anaconda/envs/py35/lib/python3.5/site-packages/sklearn/utils/validation.py:429: DataConversionWarning: Data with input dtype int64 was converted to float64 by StandardScaler.\n",
      "  warnings.warn(msg, _DataConversionWarning)\n"
     ]
    },
    {
     "name": "stdout",
     "output_type": "stream",
     "text": [
      "[CV] C=1 .............................................................\n",
      "[CV] C=1 .............................................................\n",
      "[CV] C=1 .............................................................\n",
      "[CV] C=1 .............................................................\n",
      "[CV] .................................... C=1, score=0.492477 -   3.1s\n",
      "[CV] C=1 .............................................................\n",
      "[CV] .................................... C=1, score=0.598972 -   3.2s\n",
      "[CV] C=2 .............................................................\n",
      "[CV] .................................... C=1, score=0.548458 -   3.2s\n",
      "[CV] C=2 .............................................................\n",
      "[CV] .................................... C=1, score=0.603600 -   3.2s\n",
      "[CV] C=2 .............................................................\n",
      "[CV] .................................... C=2, score=0.497615 -   2.8s\n",
      "[CV] C=2 .............................................................\n"
     ]
    },
    {
     "name": "stderr",
     "output_type": "stream",
     "text": [
      "[Parallel(n_jobs=-1)]: Done   5 tasks      | elapsed:   57.5s\n"
     ]
    },
    {
     "name": "stdout",
     "output_type": "stream",
     "text": [
      "[CV] .................................... C=2, score=0.549559 -   2.8s\n",
      "[CV] .................................... C=2, score=0.597136 -   2.9s\n",
      "[CV] C=2 .............................................................\n",
      "[CV] C=3 .............................................................\n",
      "[CV] .................................... C=1, score=0.621184 -   3.0s\n",
      "[CV] C=3 .............................................................\n",
      "[CV] .................................... C=3, score=0.502752 -   2.7s\n",
      "[CV] C=3 .............................................................\n",
      "[CV] .................................... C=2, score=0.602131 -   2.9s\n",
      "[CV] C=3 .............................................................\n"
     ]
    },
    {
     "name": "stderr",
     "output_type": "stream",
     "text": [
      "[Parallel(n_jobs=-1)]: Done  10 tasks      | elapsed:  1.4min\n"
     ]
    },
    {
     "name": "stdout",
     "output_type": "stream",
     "text": [
      "[CV] .................................... C=2, score=0.630379 -   2.8s\n",
      "[CV] C=3 .............................................................\n",
      "[CV] .................................... C=3, score=0.548458 -   2.7s\n",
      "[CV] C=4 .............................................................\n",
      "[CV] .................................... C=3, score=0.596034 -   2.8s\n",
      "[CV] C=4 .............................................................\n",
      "[CV] .................................... C=3, score=0.610580 -   2.8s\n",
      "[CV] C=4 .............................................................\n",
      "[CV] .................................... C=4, score=0.506422 -   2.7s\n",
      "[CV] C=4 .............................................................\n",
      "[CV] .................................... C=3, score=0.637367 -   2.8s\n",
      "[CV] C=4 .............................................................\n",
      "[CV] .................................... C=4, score=0.548458 -   2.7s\n",
      "[CV] C=5 .............................................................\n"
     ]
    },
    {
     "name": "stderr",
     "output_type": "stream",
     "text": [
      "[Parallel(n_jobs=-1)]: Done  17 tasks      | elapsed:  2.2min\n"
     ]
    },
    {
     "name": "stdout",
     "output_type": "stream",
     "text": [
      "[CV] .................................... C=4, score=0.600073 -   2.8s\n",
      "[CV] C=5 .............................................................\n",
      "[CV] .................................... C=4, score=0.614622 -   2.8s\n",
      "[CV] C=5 .............................................................\n",
      "[CV] .................................... C=4, score=0.643987 -   2.8s\n",
      "[CV] C=5 .............................................................\n",
      "[CV] .................................... C=5, score=0.520000 -   2.7s\n",
      "[CV] C=5 .............................................................\n",
      "[CV] .................................... C=5, score=0.548091 -   2.7s\n",
      "[CV] C=6 .............................................................\n",
      "[CV] .................................... C=5, score=0.607051 -   2.8s\n",
      "[CV] C=6 .............................................................\n",
      "[CV] .................................... C=5, score=0.617928 -   2.8s\n",
      "[CV] C=6 .............................................................\n"
     ]
    },
    {
     "name": "stderr",
     "output_type": "stream",
     "text": [
      "[Parallel(n_jobs=-1)]: Done  24 tasks      | elapsed:  2.6min\n"
     ]
    },
    {
     "name": "stdout",
     "output_type": "stream",
     "text": [
      "[CV] .................................... C=5, score=0.649136 -   5.9s\n",
      "[CV] C=6 .............................................................\n",
      "[CV] .................................... C=6, score=0.525138 -   5.6s\n",
      "[CV] C=6 .............................................................\n",
      "[CV] .................................... C=6, score=0.546623 -   5.5s\n",
      "[CV] C=7 .............................................................\n",
      "[CV] .................................... C=6, score=0.615498 -   5.9s\n",
      "[CV] C=7 .............................................................\n",
      "[CV] .................................... C=6, score=0.622704 -   7.1s\n",
      "[CV] C=7 .............................................................\n",
      "[CV] .................................... C=6, score=0.652078 -   5.8s\n",
      "[CV] C=7 .............................................................\n",
      "[CV] .................................... C=7, score=0.530642 -   4.5s\n",
      "[CV] C=7 .............................................................\n",
      "[CV] .................................... C=7, score=0.549192 -   3.4s\n",
      "[CV] C=8 .............................................................\n",
      "[CV] .................................... C=7, score=0.620272 -   3.0s\n",
      "[CV] C=8 .............................................................\n"
     ]
    },
    {
     "name": "stderr",
     "output_type": "stream",
     "text": [
      "[Parallel(n_jobs=-1)]: Done  33 tasks      | elapsed:  4.5min\n"
     ]
    },
    {
     "name": "stdout",
     "output_type": "stream",
     "text": [
      "[CV] .................................... C=7, score=0.624173 -   3.0s\n",
      "[CV] C=8 .............................................................\n",
      "[CV] .................................... C=7, score=0.657227 -   2.9s\n",
      "[CV] C=8 .............................................................\n",
      "[CV] .................................... C=8, score=0.533945 -   2.7s\n",
      "[CV] C=8 .............................................................\n",
      "[CV] .................................... C=8, score=0.548825 -   3.0s\n",
      "[CV] C=9 .............................................................\n",
      "[CV] .................................... C=8, score=0.626148 -   3.5s\n",
      "[CV] C=9 .............................................................\n",
      "[CV] .................................... C=8, score=0.627112 -   3.4s\n",
      "[CV] C=9 .............................................................\n",
      "[CV] .................................... C=8, score=0.661273 -   3.4s\n",
      "[CV] C=9 .............................................................\n",
      "[CV] .................................... C=9, score=0.540917 -   2.9s\n",
      "[CV] C=9 .............................................................\n",
      "[CV] .................................... C=9, score=0.549927 -   2.8s\n",
      "[CV] C=10 ............................................................\n"
     ]
    },
    {
     "name": "stderr",
     "output_type": "stream",
     "text": [
      "[Parallel(n_jobs=-1)]: Done  42 tasks      | elapsed:  5.4min\n"
     ]
    },
    {
     "name": "stdout",
     "output_type": "stream",
     "text": [
      "[CV] .................................... C=9, score=0.630555 -   2.9s\n",
      "[CV] C=10 ............................................................\n",
      "[CV] .................................... C=9, score=0.628215 -   2.9s\n",
      "[CV] C=10 ............................................................\n",
      "[CV] .................................... C=9, score=0.664215 -   2.7s\n",
      "[CV] C=10 ............................................................\n",
      "[CV] ................................... C=10, score=0.540917 -   2.6s\n",
      "[CV] C=10 ............................................................\n",
      "[CV] ................................... C=10, score=0.552496 -   2.6s\n",
      "[CV] ................................... C=10, score=0.633492 -   2.7s\n",
      "[CV] ................................... C=10, score=0.626745 -   2.0s\n",
      "[CV] ................................... C=10, score=0.669732 -   1.9s\n"
     ]
    },
    {
     "name": "stderr",
     "output_type": "stream",
     "text": [
      "[Parallel(n_jobs=-1)]: Done  50 out of  50 | elapsed:  6.0min finished\n"
     ]
    },
    {
     "name": "stdout",
     "output_type": "stream",
     "text": [
      "Best score: 0.605\n",
      "Best parameters set:\n",
      "\tC: 10\n"
     ]
    }
   ],
   "source": [
    "from sklearn.svm import SVC\n",
    "model = SVC(random_state=seed)\n",
    "param_grid = {\n",
    "    #'kernel': [‘linear’, ‘poly’, ‘rbf’, ‘sigmoid’, ‘precomputed’ ],\n",
    "    'C': np.arange(1, 11, 1),\n",
    "    }\n",
    "tuner(model, param_grid, train_clean)"
   ]
  },
  {
   "cell_type": "code",
   "execution_count": 41,
   "metadata": {
    "collapsed": false
   },
   "outputs": [
    {
     "name": "stdout",
     "output_type": "stream",
     "text": [
      "0.614341085271\n"
     ]
    }
   ],
   "source": [
    "model = SVC()\n",
    "model.fit(X_train, y_train)\n",
    "y_pred = model.predict(X_test)\n",
    "result = score(y_test, y_pred)\n",
    "print(result)\n"
   ]
  },
  {
   "cell_type": "code",
   "execution_count": 17,
   "metadata": {
    "collapsed": false
   },
   "outputs": [
    {
     "name": "stdout",
     "output_type": "stream",
     "text": [
      "0.646317186463\n"
     ]
    }
   ],
   "source": [
    "model = SVC(random_state=seed, C=10)\n",
    "model.fit(X_train, y_train)\n",
    "y_pred = model.predict(X_test)\n",
    "result = score(y_test, y_pred)\n",
    "print(result)\n"
   ]
  },
  {
   "cell_type": "code",
   "execution_count": 19,
   "metadata": {
    "collapsed": false,
    "scrolled": true
   },
   "outputs": [
    {
     "name": "stdout",
     "output_type": "stream",
     "text": [
      "Fitting 5 folds for each of 5 candidates, totalling 25 fits\n"
     ]
    },
    {
     "name": "stderr",
     "output_type": "stream",
     "text": [
      "/Users/brandon/anaconda/envs/py35/lib/python3.5/site-packages/sklearn/utils/validation.py:429: DataConversionWarning: Data with input dtype int64 was converted to float64 by StandardScaler.\n",
      "  warnings.warn(msg, _DataConversionWarning)\n"
     ]
    },
    {
     "name": "stdout",
     "output_type": "stream",
     "text": [
      "[CV] n_estimators=10 .................................................\n",
      "[CV] n_estimators=10 .................................................\n",
      "[CV] n_estimators=10 .................................................\n",
      "[CV] n_estimators=10 .................................................\n",
      "[CV] ........................ n_estimators=10, score=0.698349 -   0.1s\n",
      "[CV] ........................ n_estimators=10, score=0.696035 -   0.1s\n",
      "[CV] n_estimators=10 .................................................\n",
      "[CV] ........................ n_estimators=10, score=0.732550 -   0.1s\n",
      "[CV] ........................ n_estimators=10, score=0.708777 -   0.1s\n",
      "[CV] n_estimators=12 .................................................\n",
      "[CV] n_estimators=12 .................................................\n",
      "[CV] n_estimators=12 .................................................\n",
      "[CV] ........................ n_estimators=10, score=0.806547 -   0.2s\n",
      "[CV] n_estimators=12 .................................................\n",
      "[CV] ........................ n_estimators=12, score=0.724201 -   0.1s\n",
      "[CV] ........................ n_estimators=12, score=0.700550 -   0.1s\n",
      "[CV] n_estimators=12 .................................................\n",
      "[CV] n_estimators=14 .................................................\n",
      "[CV] ........................ n_estimators=12, score=0.700073 -   0.1s\n",
      "[CV] n_estimators=14 .................................................\n"
     ]
    },
    {
     "name": "stderr",
     "output_type": "stream",
     "text": [
      "[Parallel(n_jobs=-1)]: Done   5 tasks      | elapsed:    1.7s\n"
     ]
    },
    {
     "name": "stdout",
     "output_type": "stream",
     "text": [
      "[CV] ........................ n_estimators=12, score=0.736591 -   0.2s\n",
      "[CV] n_estimators=14 .................................................\n",
      "[CV] ........................ n_estimators=14, score=0.705321 -   0.1s\n",
      "[CV] ........................ n_estimators=12, score=0.808753 -   0.1s\n",
      "[CV] ........................ n_estimators=14, score=0.699339 -   0.1s\n",
      "[CV] n_estimators=14 .................................................\n",
      "[CV] n_estimators=14 .................................................\n",
      "[CV] n_estimators=16 .................................................\n"
     ]
    },
    {
     "name": "stderr",
     "output_type": "stream",
     "text": [
      "[Parallel(n_jobs=-1)]: Done  10 tasks      | elapsed:    2.6s\n"
     ]
    },
    {
     "name": "stdout",
     "output_type": "stream",
     "text": [
      "[CV] ........................ n_estimators=14, score=0.730444 -   0.2s\n",
      "[CV] n_estimators=16 .................................................\n",
      "[CV] ........................ n_estimators=14, score=0.743938 -   0.1s\n",
      "[CV] n_estimators=16 .................................................\n",
      "[CV] ........................ n_estimators=14, score=0.815741 -   0.1s\n",
      "[CV] n_estimators=16 .................................................\n",
      "[CV] ........................ n_estimators=16, score=0.707523 -   0.1s\n",
      "[CV] n_estimators=16 .................................................\n",
      "[CV] ........................ n_estimators=16, score=0.701909 -   0.2s\n",
      "[CV] n_estimators=18 .................................................\n",
      "[CV] ........................ n_estimators=16, score=0.746510 -   0.1s\n",
      "[CV] ........................ n_estimators=16, score=0.813902 -   0.1s\n",
      "[CV] n_estimators=18 .................................................\n",
      "[CV] ........................ n_estimators=16, score=0.727139 -   0.1s\n"
     ]
    },
    {
     "name": "stderr",
     "output_type": "stream",
     "text": [
      "[Parallel(n_jobs=-1)]: Done  17 tasks      | elapsed:    4.4s\n"
     ]
    },
    {
     "name": "stdout",
     "output_type": "stream",
     "text": [
      "[CV] n_estimators=18 .................................................\n",
      "[CV] n_estimators=18 .................................................\n",
      "[CV] ........................ n_estimators=18, score=0.708257 -   0.2s\n",
      "[CV] n_estimators=18 .................................................\n",
      "[CV] ........................ n_estimators=18, score=0.708884 -   0.1s\n",
      "[CV] ........................ n_estimators=18, score=0.730444 -   0.1s\n",
      "[CV] ........................ n_estimators=18, score=0.754592 -   0.1s\n"
     ]
    },
    {
     "name": "stderr",
     "output_type": "stream",
     "text": [
      "[Parallel(n_jobs=-1)]: Done  21 out of  25 | elapsed:    5.5s remaining:    1.1s\n"
     ]
    },
    {
     "name": "stdout",
     "output_type": "stream",
     "text": [
      "[CV] ........................ n_estimators=18, score=0.816109 -   0.1s\n"
     ]
    },
    {
     "name": "stderr",
     "output_type": "stream",
     "text": [
      "[Parallel(n_jobs=-1)]: Done  25 out of  25 | elapsed:    6.2s finished\n"
     ]
    },
    {
     "name": "stdout",
     "output_type": "stream",
     "text": [
      "Best score: 0.744\n",
      "Best parameters set:\n",
      "\tn_estimators: 18\n"
     ]
    }
   ],
   "source": [
    "from sklearn.ensemble import RandomForestClassifier\n",
    "\n",
    "model = RandomForestClassifier(n_jobs=-1, random_state=seed)\n",
    "param_grid = {\n",
    "    'n_estimators': np.arange(10, 20, 2),\n",
    "    }\n",
    "tuner(model, param_grid, train_clean)"
   ]
  },
  {
   "cell_type": "code",
   "execution_count": 42,
   "metadata": {
    "collapsed": false
   },
   "outputs": [
    {
     "name": "stdout",
     "output_type": "stream",
     "text": [
      "0.782945736434\n"
     ]
    }
   ],
   "source": [
    "model = RandomForestClassifier()\n",
    "model.fit(X_train, y_train)\n",
    "y_pred = model.predict(X_test)\n",
    "result = score(y_test, y_pred)\n",
    "print(result)"
   ]
  },
  {
   "cell_type": "code",
   "execution_count": 20,
   "metadata": {
    "collapsed": false
   },
   "outputs": [
    {
     "name": "stdout",
     "output_type": "stream",
     "text": [
      "0.830789648308\n"
     ]
    }
   ],
   "source": [
    "model = RandomForestClassifier(n_jobs=-1, n_estimators=18, random_state=seed)\n",
    "model.fit(X_train, y_train)\n",
    "y_pred = model.predict(X_test)\n",
    "result = score(y_test, y_pred)\n",
    "print(result)"
   ]
  },
  {
   "cell_type": "code",
   "execution_count": 23,
   "metadata": {
    "collapsed": false,
    "scrolled": true
   },
   "outputs": [
    {
     "name": "stdout",
     "output_type": "stream",
     "text": [
      "Fitting 5 folds for each of 7 candidates, totalling 35 fits\n"
     ]
    },
    {
     "name": "stderr",
     "output_type": "stream",
     "text": [
      "/Users/brandon/anaconda/envs/py35/lib/python3.5/site-packages/sklearn/utils/validation.py:429: DataConversionWarning: Data with input dtype int64 was converted to float64 by StandardScaler.\n",
      "  warnings.warn(msg, _DataConversionWarning)\n"
     ]
    },
    {
     "name": "stdout",
     "output_type": "stream",
     "text": [
      "[CV] n_estimators=10 .................................................\n",
      "[CV] n_estimators=10 .................................................\n",
      "[CV] n_estimators=10 .................................................\n",
      "[CV] n_estimators=10 .................................................\n",
      "[CV] ........................ n_estimators=10, score=0.720367 -   0.2s\n",
      "[CV] n_estimators=10 .................................................\n",
      "[CV] ........................ n_estimators=10, score=0.704479 -   0.2s\n",
      "[CV] n_estimators=12 .................................................\n",
      "[CV] ........................ n_estimators=10, score=0.722732 -   0.1s\n",
      "[CV] ........................ n_estimators=10, score=0.748714 -   0.1s\n",
      "[CV] n_estimators=12 .................................................\n",
      "[CV] n_estimators=12 .................................................\n",
      "[CV] ........................ n_estimators=10, score=0.820890 -   0.2s\n",
      "[CV] n_estimators=12 .................................................\n",
      "[CV] ........................ n_estimators=12, score=0.729343 -   0.1s\n",
      "[CV] n_estimators=12 .................................................\n"
     ]
    },
    {
     "name": "stderr",
     "output_type": "stream",
     "text": [
      "[Parallel(n_jobs=-1)]: Done   5 tasks      | elapsed:    1.3s\n"
     ]
    },
    {
     "name": "stdout",
     "output_type": "stream",
     "text": [
      "[CV] ........................ n_estimators=12, score=0.721835 -   0.1s\n",
      "[CV] ........................ n_estimators=12, score=0.705580 -   0.1s\n",
      "[CV] n_estimators=14 .................................................\n",
      "[CV] n_estimators=14 .................................................\n",
      "[CV] ........................ n_estimators=12, score=0.754225 -   0.1s\n",
      "[CV] n_estimators=14 .................................................\n",
      "[CV] ........................ n_estimators=12, score=0.822361 -   0.1s\n",
      "[CV] n_estimators=14 .................................................\n",
      "[CV] ........................ n_estimators=14, score=0.711454 -   0.1s\n"
     ]
    },
    {
     "name": "stderr",
     "output_type": "stream",
     "text": [
      "[Parallel(n_jobs=-1)]: Done  10 tasks      | elapsed:    2.0s\n"
     ]
    },
    {
     "name": "stdout",
     "output_type": "stream",
     "text": [
      "[CV] ........................ n_estimators=14, score=0.720734 -   0.1s\n",
      "[CV] n_estimators=14 .................................................\n",
      "[CV] n_estimators=16 .................................................\n",
      "[CV] ........................ n_estimators=14, score=0.728975 -   0.1s\n",
      "[CV] ........................ n_estimators=14, score=0.761572 -   0.1s\n",
      "[CV] n_estimators=16 .................................................\n",
      "[CV] n_estimators=16 .................................................\n",
      "[CV] ........................ n_estimators=16, score=0.723670 -   0.1s\n",
      "[CV] n_estimators=16 .................................................\n",
      "[CV] ........................ n_estimators=14, score=0.824568 -   0.1s\n",
      "[CV] n_estimators=16 .................................................\n",
      "[CV] ........................ n_estimators=16, score=0.715492 -   0.1s\n",
      "[CV] n_estimators=18 .................................................\n",
      "[CV] ........................ n_estimators=16, score=0.734851 -   0.1s\n",
      "[CV] n_estimators=18 .................................................\n"
     ]
    },
    {
     "name": "stderr",
     "output_type": "stream",
     "text": [
      "[Parallel(n_jobs=-1)]: Done  17 tasks      | elapsed:    3.1s\n"
     ]
    },
    {
     "name": "stdout",
     "output_type": "stream",
     "text": [
      "[CV] ........................ n_estimators=16, score=0.764144 -   0.2s\n",
      "[CV] n_estimators=18 .................................................\n",
      "[CV] ........................ n_estimators=16, score=0.827510 -   0.1s\n",
      "[CV] n_estimators=18 .................................................\n",
      "[CV] ........................ n_estimators=18, score=0.732844 -   0.1s\n",
      "[CV] n_estimators=18 .................................................\n",
      "[CV] ........................ n_estimators=18, score=0.716960 -   0.1s\n",
      "[CV] n_estimators=20 .................................................\n",
      "[CV] ........................ n_estimators=18, score=0.738891 -   0.1s\n",
      "[CV] n_estimators=20 .................................................\n",
      "[CV] ........................ n_estimators=20, score=0.733211 -   0.1s\n",
      "[CV] n_estimators=20 .................................................\n",
      "[CV] ........................ n_estimators=18, score=0.830452 -   0.1s\n",
      "[CV] ........................ n_estimators=18, score=0.766716 -   0.1s\n",
      "[CV] n_estimators=20 .................................................\n"
     ]
    },
    {
     "name": "stderr",
     "output_type": "stream",
     "text": [
      "[Parallel(n_jobs=-1)]: Done  24 tasks      | elapsed:    4.9s\n"
     ]
    },
    {
     "name": "stdout",
     "output_type": "stream",
     "text": [
      "[CV] n_estimators=20 .................................................\n",
      "[CV] ........................ n_estimators=20, score=0.721366 -   0.1s\n",
      "[CV] n_estimators=22 .................................................\n",
      "[CV] ........................ n_estimators=20, score=0.766716 -   0.2s\n",
      "[CV] n_estimators=22 .................................................\n",
      "[CV] ........................ n_estimators=20, score=0.734484 -   0.1s\n",
      "[CV] ........................ n_estimators=20, score=0.828981 -   0.1s\n",
      "[CV] n_estimators=22 .................................................\n",
      "[CV] n_estimators=22 .................................................\n",
      "[CV] ........................ n_estimators=22, score=0.733945 -   0.1s\n",
      "[CV] n_estimators=22 .................................................\n",
      "[CV] ........................ n_estimators=22, score=0.716960 -   0.2s\n"
     ]
    },
    {
     "name": "stderr",
     "output_type": "stream",
     "text": [
      "[Parallel(n_jobs=-1)]: Done  32 out of  35 | elapsed:    6.6s remaining:    0.6s\n"
     ]
    },
    {
     "name": "stdout",
     "output_type": "stream",
     "text": [
      "[CV] ........................ n_estimators=22, score=0.767083 -   0.1s\n",
      "[CV] ........................ n_estimators=22, score=0.739625 -   0.1s\n",
      "[CV] ........................ n_estimators=22, score=0.830085 -   0.1s\n"
     ]
    },
    {
     "name": "stderr",
     "output_type": "stream",
     "text": [
      "[Parallel(n_jobs=-1)]: Done  35 out of  35 | elapsed:    7.0s finished\n"
     ]
    },
    {
     "name": "stdout",
     "output_type": "stream",
     "text": [
      "Best score: 0.758\n",
      "Best parameters set:\n",
      "\tn_estimators: 22\n"
     ]
    }
   ],
   "source": [
    "from sklearn.ensemble import ExtraTreesClassifier\n",
    "\n",
    "model = ExtraTreesClassifier(n_jobs=-1, random_state=seed)\n",
    "param_grid = {\n",
    "    'n_estimators': np.arange(10, 24, 2),\n",
    "    }\n",
    "tuner(model, param_grid, train_clean)"
   ]
  },
  {
   "cell_type": "code",
   "execution_count": 43,
   "metadata": {
    "collapsed": false
   },
   "outputs": [
    {
     "name": "stdout",
     "output_type": "stream",
     "text": [
      "0.826873385013\n"
     ]
    }
   ],
   "source": [
    "model = ExtraTreesClassifier()\n",
    "model.fit(X_train, y_train)\n",
    "y_pred = model.predict(X_test)\n",
    "result = score(y_test, y_pred)\n",
    "print(result)"
   ]
  },
  {
   "cell_type": "code",
   "execution_count": 24,
   "metadata": {
    "collapsed": false
   },
   "outputs": [
    {
     "name": "stdout",
     "output_type": "stream",
     "text": [
      "0.829462508295\n"
     ]
    }
   ],
   "source": [
    "model = ExtraTreesClassifier(n_jobs=-1, n_estimators=22, random_state=seed)\n",
    "model.fit(X_train, y_train)\n",
    "y_pred = model.predict(X_test)\n",
    "result = score(y_test, y_pred)\n",
    "print(result)"
   ]
  },
  {
   "cell_type": "code",
   "execution_count": 25,
   "metadata": {
    "collapsed": false
   },
   "outputs": [
    {
     "name": "stderr",
     "output_type": "stream",
     "text": [
      "/Users/brandon/anaconda/envs/py35/lib/python3.5/site-packages/sklearn/utils/validation.py:429: DataConversionWarning: Data with input dtype int64 was converted to float64 by StandardScaler.\n",
      "  warnings.warn(msg, _DataConversionWarning)\n"
     ]
    },
    {
     "name": "stdout",
     "output_type": "stream",
     "text": [
      "Fitting 5 folds for each of 10 candidates, totalling 50 fits\n",
      "[CV] n_iter=1 ........................................................\n",
      "[CV] n_iter=1 ........................................................\n",
      "[CV] n_iter=1 ........................................................\n",
      "[CV] n_iter=1 ........................................................\n",
      "[CV] ............................... n_iter=1, score=0.429883 -   0.0s\n",
      "[CV] ............................... n_iter=1, score=0.524771 -   0.0s\n",
      "[CV] n_iter=1 ........................................................\n",
      "[CV] ............................... n_iter=1, score=0.513960 -   0.0s\n",
      "[CV] ............................... n_iter=1, score=0.560044 -   0.0s\n",
      "[CV] n_iter=2 ........................................................\n",
      "[CV] n_iter=2 ........................................................\n",
      "[CV] n_iter=2 ........................................................\n",
      "[CV] ............................... n_iter=1, score=0.551673 -   0.0s\n",
      "[CV] n_iter=2 ........................................................\n",
      "[CV] ............................... n_iter=2, score=0.526432 -   0.0s\n",
      "[CV] n_iter=2 ........................................................\n",
      "[CV] ............................... n_iter=2, score=0.507161 -   0.0s\n",
      "[CV] n_iter=3 ........................................................\n",
      "[CV] ............................... n_iter=2, score=0.558532 -   0.0s\n"
     ]
    },
    {
     "name": "stderr",
     "output_type": "stream",
     "text": [
      "[Parallel(n_jobs=-1)]: Done   5 tasks      | elapsed:    0.6s\n"
     ]
    },
    {
     "name": "stdout",
     "output_type": "stream",
     "text": [
      "[CV] n_iter=3 ........................................................\n",
      "[CV] ............................... n_iter=2, score=0.565760 -   0.0s\n",
      "[CV] ............................... n_iter=2, score=0.575579 -   0.0s\n",
      "[CV] n_iter=3 ........................................................\n",
      "[CV] n_iter=3 ........................................................\n",
      "[CV] ............................... n_iter=3, score=0.568440 -   0.0s\n",
      "[CV] ............................... n_iter=3, score=0.546256 -   0.0s\n",
      "[CV] n_iter=4 ........................................................\n",
      "[CV] n_iter=3 ........................................................\n"
     ]
    },
    {
     "name": "stderr",
     "output_type": "stream",
     "text": [
      "[Parallel(n_jobs=-1)]: Done  10 tasks      | elapsed:    1.0s\n"
     ]
    },
    {
     "name": "stdout",
     "output_type": "stream",
     "text": [
      "[CV] ............................... n_iter=3, score=0.567389 -   0.0s\n",
      "[CV] ............................... n_iter=3, score=0.642175 -   0.0s\n",
      "[CV] n_iter=4 ........................................................\n",
      "[CV] n_iter=4 ........................................................\n",
      "[CV] ............................... n_iter=3, score=0.615668 -   0.0s\n",
      "[CV] n_iter=4 ........................................................\n",
      "[CV] ............................... n_iter=4, score=0.524771 -   0.0s\n",
      "[CV] n_iter=4 ........................................................\n",
      "[CV] ............................... n_iter=4, score=0.582446 -   0.0s\n",
      "[CV] n_iter=5 ........................................................\n",
      "[CV] ............................... n_iter=4, score=0.532673 -   0.0s\n",
      "[CV] n_iter=5 ........................................................\n",
      "[CV] ............................... n_iter=4, score=0.562821 -   0.0s\n",
      "[CV] n_iter=5 ........................................................\n"
     ]
    },
    {
     "name": "stderr",
     "output_type": "stream",
     "text": [
      "[Parallel(n_jobs=-1)]: Done  17 tasks      | elapsed:    1.9s\n"
     ]
    },
    {
     "name": "stdout",
     "output_type": "stream",
     "text": [
      "[CV] ............................... n_iter=4, score=0.620081 -   0.0s\n",
      "[CV] n_iter=5 ........................................................\n",
      "[CV] ............................... n_iter=5, score=0.584587 -   0.0s\n",
      "[CV] n_iter=5 ........................................................\n",
      "[CV] ............................... n_iter=5, score=0.538913 -   0.0s\n",
      "[CV] n_iter=6 ........................................................\n",
      "[CV] ............................... n_iter=5, score=0.627847 -   0.0s\n",
      "[CV] n_iter=6 ........................................................\n",
      "[CV] ............................... n_iter=5, score=0.576203 -   0.0s\n",
      "[CV] n_iter=6 ........................................................\n"
     ]
    },
    {
     "name": "stderr",
     "output_type": "stream",
     "text": [
      "[Parallel(n_jobs=-1)]: Done  24 tasks      | elapsed:    2.6s\n"
     ]
    },
    {
     "name": "stdout",
     "output_type": "stream",
     "text": [
      "[CV] ............................... n_iter=5, score=0.607576 -   0.0s\n",
      "[CV] n_iter=6 ........................................................\n",
      "[CV] ............................... n_iter=6, score=0.539648 -   0.0s\n",
      "[CV] ............................... n_iter=6, score=0.571743 -   0.0s\n",
      "[CV] n_iter=6 ........................................................\n",
      "[CV] n_iter=7 ........................................................\n",
      "[CV] ............................... n_iter=6, score=0.594932 -   0.0s\n",
      "[CV] n_iter=7 ........................................................\n",
      "[CV] ............................... n_iter=6, score=0.634827 -   0.0s\n",
      "[CV] n_iter=7 ........................................................\n",
      "[CV] ............................... n_iter=6, score=0.638838 -   0.0s\n",
      "[CV] ............................... n_iter=7, score=0.560573 -   0.0s\n",
      "[CV] n_iter=7 ........................................................\n",
      "[CV] n_iter=7 ........................................................\n",
      "[CV] ............................... n_iter=7, score=0.540550 -   0.0s\n",
      "[CV] n_iter=8 ........................................................\n",
      "[CV] ............................... n_iter=7, score=0.584649 -   0.0s\n",
      "[CV] n_iter=8 ........................................................\n",
      "[CV] ............................... n_iter=7, score=0.635929 -   0.0s\n"
     ]
    },
    {
     "name": "stderr",
     "output_type": "stream",
     "text": [
      "[Parallel(n_jobs=-1)]: Done  33 tasks      | elapsed:    4.3s\n"
     ]
    },
    {
     "name": "stdout",
     "output_type": "stream",
     "text": [
      "[CV] n_iter=8 ........................................................\n",
      "[CV] ............................... n_iter=7, score=0.648032 -   0.0s\n",
      "[CV] n_iter=8 ........................................................\n",
      "[CV] ............................... n_iter=8, score=0.568073 -   0.0s\n",
      "[CV] n_iter=8 ........................................................\n",
      "[CV] ............................... n_iter=8, score=0.560940 -   0.0s\n",
      "[CV] n_iter=9 ........................................................\n",
      "[CV] ............................... n_iter=8, score=0.595299 -   0.0s\n",
      "[CV] n_iter=9 ........................................................\n",
      "[CV] ............................... n_iter=8, score=0.602866 -   0.0s\n",
      "[CV] n_iter=9 ........................................................\n",
      "[CV] ............................... n_iter=8, score=0.672674 -   0.0s\n",
      "[CV] n_iter=9 ........................................................\n",
      "[CV] ............................... n_iter=9, score=0.584220 -   0.0s\n",
      "[CV] n_iter=9 ........................................................\n",
      "[CV] ............................... n_iter=9, score=0.523862 -   0.0s\n",
      "[CV] n_iter=20 .......................................................\n",
      "[CV] ............................... n_iter=9, score=0.557841 -   0.0s\n",
      "[CV] n_iter=20 .......................................................\n"
     ]
    },
    {
     "name": "stderr",
     "output_type": "stream",
     "text": [
      "[Parallel(n_jobs=-1)]: Done  42 tasks      | elapsed:    6.3s\n"
     ]
    },
    {
     "name": "stdout",
     "output_type": "stream",
     "text": [
      "[CV] ............................... n_iter=9, score=0.632256 -   0.0s\n",
      "[CV] n_iter=20 .......................................................\n",
      "[CV] ............................... n_iter=9, score=0.627437 -   0.0s\n",
      "[CV] n_iter=20 .......................................................\n",
      "[CV] .............................. n_iter=20, score=0.566239 -   0.0s\n",
      "[CV] n_iter=20 .......................................................\n",
      "[CV] .............................. n_iter=20, score=0.524963 -   0.0s\n",
      "[CV] .............................. n_iter=20, score=0.599339 -   0.0s\n",
      "[CV] .............................. n_iter=20, score=0.627112 -   0.0s\n",
      "[CV] .............................. n_iter=20, score=0.659066 -   0.0s\n"
     ]
    },
    {
     "name": "stderr",
     "output_type": "stream",
     "text": [
      "[Parallel(n_jobs=-1)]: Done  50 out of  50 | elapsed:    9.1s finished\n"
     ]
    },
    {
     "name": "stdout",
     "output_type": "stream",
     "text": [
      "Best score: 0.600\n",
      "Best parameters set:\n",
      "\tn_iter: 8\n"
     ]
    }
   ],
   "source": [
    "model = SGDClassifier(loss='log',penalty='elasticnet', random_state=seed, shuffle=True)\n",
    "     \n",
    "param_grid = {\n",
    "    #'loss':[ \"hinge\", \"log\", \"modified_huber\", \"squared_hinge\", \"perceptron\"],\n",
    "    #'penalty': [\"l2\", \"l1\", \"elasticnet\"],\n",
    "    'n_iter': [1,2,3,4,5,6,7,8,9,20]\n",
    "    }\n",
    "    \n",
    "tuner(model, param_grid, train_clean)"
   ]
  },
  {
   "cell_type": "code",
   "execution_count": 44,
   "metadata": {
    "collapsed": false
   },
   "outputs": [
    {
     "name": "stdout",
     "output_type": "stream",
     "text": [
      "0.633720930233\n"
     ]
    }
   ],
   "source": [
    "model = SGDClassifier()\n",
    "model.fit(X_train, y_train)\n",
    "y_pred = model.predict(X_test)\n",
    "result = score(y_test, y_pred)\n",
    "print(result)"
   ]
  },
  {
   "cell_type": "code",
   "execution_count": 26,
   "metadata": {
    "collapsed": false
   },
   "outputs": [
    {
     "name": "stdout",
     "output_type": "stream",
     "text": [
      "0.654943596549\n"
     ]
    }
   ],
   "source": [
    "model = SGDClassifier(loss='log',penalty='elasticnet', n_iter=8, random_state=seed, shuffle=True)\n",
    "model.fit(X_train, y_train)\n",
    "y_pred = model.predict(X_test)\n",
    "result = score(y_test, y_pred)\n",
    "print(result)"
   ]
  },
  {
   "cell_type": "code",
   "execution_count": 42,
   "metadata": {
    "collapsed": false,
    "scrolled": true
   },
   "outputs": [
    {
     "name": "stdout",
     "output_type": "stream",
     "text": [
      "Fitting 5 folds for each of 9 candidates, totalling 45 fits\n"
     ]
    },
    {
     "name": "stderr",
     "output_type": "stream",
     "text": [
      "/Users/brandon/anaconda/envs/py35/lib/python3.5/site-packages/sklearn/utils/validation.py:429: DataConversionWarning: Data with input dtype int64 was converted to float64 by StandardScaler.\n",
      "  warnings.warn(msg, _DataConversionWarning)\n"
     ]
    },
    {
     "name": "stdout",
     "output_type": "stream",
     "text": [
      "[CV] max_depth=1 .....................................................\n",
      "[CV] max_depth=1 .....................................................\n",
      "[CV] max_depth=1 .....................................................\n",
      "[CV] max_depth=1 .....................................................\n",
      "[CV] ............................ max_depth=1, score=0.553028 -   0.1s\n",
      "[CV] max_depth=1 .....................................................\n",
      "[CV] ............................ max_depth=1, score=0.622842 -   0.0s\n",
      "[CV] max_depth=2 .....................................................\n",
      "[CV] ............................ max_depth=1, score=0.615639 -   0.0s\n",
      "[CV] max_depth=2 .....................................................\n",
      "[CV] ............................ max_depth=1, score=0.651727 -   0.0s\n",
      "[CV] max_depth=2 .....................................................\n",
      "[CV] ............................ max_depth=1, score=0.696947 -   0.0s\n",
      "[CV] max_depth=2 .....................................................\n"
     ]
    },
    {
     "name": "stderr",
     "output_type": "stream",
     "text": [
      "[Parallel(n_jobs=-1)]: Done   5 tasks      | elapsed:   43.4s\n"
     ]
    },
    {
     "name": "stdout",
     "output_type": "stream",
     "text": [
      "[CV] ............................ max_depth=2, score=0.648807 -   0.0s\n",
      "[CV] max_depth=2 .....................................................\n",
      "[CV] ............................ max_depth=2, score=0.656388 -   0.0s\n",
      "[CV] ............................ max_depth=2, score=0.674624 -   0.0s\n",
      "[CV] max_depth=3 .....................................................\n",
      "[CV] max_depth=3 .....................................................\n",
      "[CV] ............................ max_depth=2, score=0.677076 -   0.0s\n",
      "[CV] max_depth=3 .....................................................\n",
      "[CV] ............................ max_depth=2, score=0.749540 -   0.0s\n",
      "[CV] max_depth=3 .....................................................\n"
     ]
    },
    {
     "name": "stderr",
     "output_type": "stream",
     "text": [
      "[Parallel(n_jobs=-1)]: Done  10 tasks      | elapsed:  1.6min\n"
     ]
    },
    {
     "name": "stdout",
     "output_type": "stream",
     "text": [
      "[CV] ............................ max_depth=3, score=0.675963 -   0.0s\n",
      "[CV] max_depth=3 .....................................................\n",
      "[CV] ............................ max_depth=3, score=0.686123 -   0.0s\n",
      "[CV] max_depth=4 .....................................................\n",
      "[CV] ............................ max_depth=3, score=0.697760 -   0.0s\n",
      "[CV] max_depth=4 .....................................................\n",
      "[CV] ............................ max_depth=3, score=0.709405 -   0.1s\n",
      "[CV] max_depth=4 .....................................................\n",
      "[CV] ............................ max_depth=3, score=0.778227 -   0.0s\n",
      "[CV] max_depth=4 .....................................................\n",
      "[CV] ............................ max_depth=4, score=0.710092 -   0.1s\n",
      "[CV] max_depth=4 .....................................................\n",
      "[CV] ............................ max_depth=4, score=0.698972 -   0.1s\n",
      "[CV] max_depth=5 .....................................................\n"
     ]
    },
    {
     "name": "stderr",
     "output_type": "stream",
     "text": [
      "[Parallel(n_jobs=-1)]: Done  17 tasks      | elapsed:  3.3min\n"
     ]
    },
    {
     "name": "stdout",
     "output_type": "stream",
     "text": [
      "[CV] ............................ max_depth=4, score=0.712082 -   0.1s\n",
      "[CV] max_depth=5 .....................................................\n",
      "[CV] ............................ max_depth=4, score=0.722263 -   0.1s\n",
      "[CV] max_depth=5 .....................................................\n",
      "[CV] ............................ max_depth=4, score=0.803604 -   0.1s\n",
      "[CV] max_depth=5 .....................................................\n",
      "[CV] ............................ max_depth=5, score=0.718899 -   0.1s\n",
      "[CV] max_depth=5 .....................................................\n",
      "[CV] ............................ max_depth=5, score=0.707783 -   0.1s\n",
      "[CV] max_depth=6 .....................................................\n",
      "[CV] ............................ max_depth=5, score=0.726405 -   0.1s\n",
      "[CV] max_depth=6 .....................................................\n",
      "[CV] ............................ max_depth=5, score=0.739530 -   0.1s\n",
      "[CV] max_depth=6 .....................................................\n"
     ]
    },
    {
     "name": "stderr",
     "output_type": "stream",
     "text": [
      "[Parallel(n_jobs=-1)]: Done  24 tasks      | elapsed:  5.4min\n"
     ]
    },
    {
     "name": "stdout",
     "output_type": "stream",
     "text": [
      "[CV] ............................ max_depth=5, score=0.813167 -   0.1s\n",
      "[CV] max_depth=6 .....................................................\n",
      "[CV] ............................ max_depth=6, score=0.731743 -   0.1s\n",
      "[CV] max_depth=6 .....................................................\n",
      "[CV] ............................ max_depth=6, score=0.713289 -   0.1s\n",
      "[CV] max_depth=7 .....................................................\n",
      "[CV] ............................ max_depth=6, score=0.735219 -   0.1s\n",
      "[CV] max_depth=7 .....................................................\n",
      "[CV] ............................ max_depth=6, score=0.745775 -   0.1s\n",
      "[CV] max_depth=7 .....................................................\n",
      "[CV] ............................ max_depth=6, score=0.824936 -   0.1s\n",
      "[CV] max_depth=7 .....................................................\n",
      "[CV] ............................ max_depth=7, score=0.736514 -   0.1s\n",
      "[CV] max_depth=7 .....................................................\n",
      "[CV] ............................ max_depth=7, score=0.711454 -   0.1s\n",
      "[CV] max_depth=8 .....................................................\n",
      "[CV] ............................ max_depth=7, score=0.740360 -   0.1s\n",
      "[CV] max_depth=8 .....................................................\n"
     ]
    },
    {
     "name": "stderr",
     "output_type": "stream",
     "text": [
      "[Parallel(n_jobs=-1)]: Done  33 tasks      | elapsed:  9.6min\n"
     ]
    },
    {
     "name": "stdout",
     "output_type": "stream",
     "text": [
      "[CV] ............................ max_depth=7, score=0.754225 -   0.1s\n",
      "[CV] max_depth=8 .....................................................\n",
      "[CV] ............................ max_depth=7, score=0.830085 -   0.1s\n",
      "[CV] max_depth=8 .....................................................\n",
      "[CV] ............................ max_depth=8, score=0.743853 -   0.2s\n",
      "[CV] max_depth=8 .....................................................\n",
      "[CV] ............................ max_depth=8, score=0.719163 -   0.2s\n",
      "[CV] max_depth=9 .....................................................\n",
      "[CV] ............................ max_depth=8, score=0.743665 -   0.1s\n",
      "[CV] max_depth=9 .....................................................\n",
      "[CV] ............................ max_depth=8, score=0.761205 -   0.2s\n",
      "[CV] max_depth=9 .....................................................\n",
      "[CV] ............................ max_depth=8, score=0.840750 -   0.2s\n",
      "[CV] max_depth=9 .....................................................\n",
      "[CV] ............................ max_depth=9, score=0.744954 -   0.3s\n",
      "[CV] max_depth=9 .....................................................\n",
      "[CV] ............................ max_depth=9, score=0.725771 -   0.3s\n",
      "[CV] ............................ max_depth=9, score=0.738524 -   0.1s\n"
     ]
    },
    {
     "name": "stderr",
     "output_type": "stream",
     "text": [
      "[Parallel(n_jobs=-1)]: Done  43 out of  45 | elapsed: 17.3min remaining:   48.4s\n"
     ]
    },
    {
     "name": "stdout",
     "output_type": "stream",
     "text": [
      "[CV] ............................ max_depth=9, score=0.760103 -   0.1s\n",
      "[CV] ............................ max_depth=9, score=0.835234 -   0.1s\n"
     ]
    },
    {
     "name": "stderr",
     "output_type": "stream",
     "text": [
      "[Parallel(n_jobs=-1)]: Done  45 out of  45 | elapsed: 18.3min finished\n"
     ]
    },
    {
     "name": "stdout",
     "output_type": "stream",
     "text": [
      "Best score: 0.762\n",
      "Best parameters set:\n",
      "\tmax_depth: 8\n"
     ]
    }
   ],
   "source": [
    "from sklearn.ensemble import GradientBoostingClassifier\n",
    "model = GradientBoostingClassifier(random_state=seed)\n",
    "param_grid = {\n",
    "    'max_depth': np.arange(1, 10, 1),\n",
    "    }\n",
    "tuner(model, param_grid, train_clean)"
   ]
  },
  {
   "cell_type": "code",
   "execution_count": 47,
   "metadata": {
    "collapsed": false
   },
   "outputs": [
    {
     "name": "stdout",
     "output_type": "stream",
     "text": [
      "0.766795865633\n"
     ]
    }
   ],
   "source": [
    "model = GradientBoostingClassifier()\n",
    "model.fit(X_train, y_train)\n",
    "y_pred = model.predict(X_test)\n",
    "result = score(y_test, y_pred)\n",
    "print(result)"
   ]
  },
  {
   "cell_type": "code",
   "execution_count": 45,
   "metadata": {
    "collapsed": false
   },
   "outputs": [
    {
     "name": "stdout",
     "output_type": "stream",
     "text": [
      "0.842733908427\n"
     ]
    }
   ],
   "source": [
    "model = GradientBoostingClassifier(max_depth=8, random_state=seed)\n",
    "model.fit(X_train, y_train)\n",
    "y_pred = model.predict(X_test)\n",
    "result = score(y_test, y_pred)\n",
    "print(result)"
   ]
  },
  {
   "cell_type": "code",
   "execution_count": null,
   "metadata": {
    "collapsed": true
   },
   "outputs": [],
   "source": []
  }
 ],
 "metadata": {
  "kernelspec": {
   "display_name": "Python 3",
   "language": "python",
   "name": "python3"
  },
  "language_info": {
   "codemirror_mode": {
    "name": "ipython",
    "version": 3
   },
   "file_extension": ".py",
   "mimetype": "text/x-python",
   "name": "python",
   "nbconvert_exporter": "python",
   "pygments_lexer": "ipython3",
   "version": "3.5.2"
  },
  "widgets": {
   "state": {},
   "version": "1.1.2"
  }
 },
 "nbformat": 4,
 "nbformat_minor": 1
}
