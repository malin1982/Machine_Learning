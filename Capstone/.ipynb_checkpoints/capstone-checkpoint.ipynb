{
 "cells": [
  {
   "cell_type": "code",
   "execution_count": 6,
   "metadata": {
    "collapsed": true
   },
   "outputs": [],
   "source": [
    "def process_data(data):\n",
    "    '''\n",
    "    remove redundant columns\n",
    "    '''\n",
    "    #rems = ['Id', 'Soil_Type7', 'Soil_Type8', 'Soil_Type15', 'Soil_Type25']\n",
    "    rems = ['Id', 'Soil_Type7', 'Soil_Type15']\n",
    "#     #Add constant columns as they don't help in prediction process\n",
    "#     for c in data.columns:\n",
    "#         if data[c].std() == 0: #standard deviation is zero\n",
    "#             rem.append(c)\n",
    "\n",
    "    #drop the columns\n",
    "    for rem in rems:\n",
    "        data.drop(rem,axis=1,inplace=True)\n",
    "    \n",
    "\n",
    "    return data"
   ]
  },
  {
   "cell_type": "code",
   "execution_count": 7,
   "metadata": {
    "collapsed": true
   },
   "outputs": [],
   "source": [
    "def score(y, y_pred):\n",
    "\n",
    "    y_true = np.array(y, dtype=int)\n",
    "    y_predict = np.array(y_pred, dtype=int)\n",
    "    \n",
    "    from sklearn.metrics import f1_score\n",
    "\n",
    "    return f1_score(y_true, y_predict, average='micro')\n"
   ]
  },
  {
   "cell_type": "code",
   "execution_count": 8,
   "metadata": {
    "collapsed": true
   },
   "outputs": [],
   "source": [
    "from sklearn.preprocessing import StandardScaler\n",
    "from sklearn.preprocessing import MinMaxScaler\n",
    "from sklearn.preprocessing import Normalizer\n",
    "\n",
    "def normalize_train_data(dataset):\n",
    "    r, c = dataset.shape\n",
    "    array = dataset.values\n",
    "    X_all = array[:,0:(c-1)]\n",
    "    y_all = array[:,(c-1)]\n",
    "    size = 10\n",
    "    X_num = X_all[:,0:size]\n",
    "    X_cat = X_all[:,size:]\n",
    "\n",
    "    X_num = StandardScaler().fit_transform(X_num)\n",
    "    X_num = MinMaxScaler().fit_transform(X_num)\n",
    "    X_num = Normalizer().fit_transform(X_num)\n",
    "\n",
    "    X_all_scaled = np.concatenate((X_num, X_cat), axis=1)\n",
    "    \n",
    "    return X_all_scaled, y_all\n",
    "\n",
    "def normalize_test_data(dataset):\n",
    "    r, c = dataset.shape\n",
    "    X_all = dataset.values\n",
    "    y_all = []\n",
    "    size = 10\n",
    "    X_num = X_all[:,0:size]\n",
    "    X_cat = X_all[:,size:]\n",
    "\n",
    "    X_num = StandardScaler().fit_transform(X_num)\n",
    "    X_num = MinMaxScaler().fit_transform(X_num)\n",
    "    X_num = Normalizer().fit_transform(X_num)\n",
    "\n",
    "    X_all_scaled = np.concatenate((X_num, X_cat), axis=1)\n",
    "    \n",
    "    return X_all_scaled, y_all\n",
    "\n",
    "def train_extract(train, test):\n",
    "    X_train, y_train = normalize_train_data(train)\n",
    "    X_test, y_test = normalize_train_data(test)\n",
    "    \n",
    "    return X_train, y_train, X_test, y_test\n",
    "\n"
   ]
  },
  {
   "cell_type": "code",
   "execution_count": 9,
   "metadata": {
    "collapsed": false
   },
   "outputs": [],
   "source": [
    "def perform_cross_validation(model, train):\n",
    "    '''Performs a kfold cross validation of a given model'''\n",
    "    kfold_train_test = []\n",
    "    extracted_features = []\n",
    "    kf = StratifiedKFold(train[\"Cover_Type\"], n_folds=10)\n",
    "    for train_index, test_index in kf:\n",
    "        train_kfold = train.loc[train_index]\n",
    "        test_kfold = train.loc[test_index]\n",
    "        extracted_features.append(tuple(train_extract(train_kfold, test_kfold)))\n",
    "    score_count = 0\n",
    "    score_total = 0.0\n",
    "    submission = []\n",
    "    print (model)\n",
    "    for X_train, y_train, X_test, y_test in extracted_features:\n",
    "\n",
    "        model.fit(X_train, y_train)\n",
    "        #score = model.score(X_test, y_test)\n",
    "        predictions = model.predict(X_test)\n",
    "        score = f1_score(y_test, predictions, average='micro')\n",
    "        test_data = pd.DataFrame({'id': y_test, 'predictions': predictions})\n",
    "        submission.append(test_data)\n",
    "        score_count += 1\n",
    "        score_total += score\n",
    "        print(\"Kfold score \" + str(score_count) + \": \" + str(score))\n",
    "    average_score = score_total/float(score_count)\n",
    "    print(\"Average score: \" + str(average_score))\n",
    "    return submission"
   ]
  },
  {
   "cell_type": "code",
   "execution_count": 10,
   "metadata": {
    "collapsed": true
   },
   "outputs": [],
   "source": [
    "def perform_predictions(model, train, test):\n",
    "    '''\n",
    "    Performs the final prediction on test dataset\n",
    "    '''\n",
    "    global Id\n",
    "    \n",
    "    submission = []\n",
    "    X_train, y_train = normalize_train_data(train)\n",
    "    X_test, y_test = normalize_test_data(test)\n",
    "\n",
    "    model.fit(X_train, y_train)\n",
    "    final_predictions = model.predict(X_test)\n",
    "    \n",
    "    test_data = pd.DataFrame({'Id': Id, 'Cover_Type': final_predictions})\n",
    "    submission.append(test_data)\n",
    "    #submission = pd.DataFrame({'id': test_clean['id'], 'prediction': weighted_prediction})\n",
    "\n",
    "    return submission"
   ]
  },
  {
   "cell_type": "code",
   "execution_count": 11,
   "metadata": {
    "collapsed": true
   },
   "outputs": [],
   "source": [
    "def to_csv(df,out):\n",
    "    cols = df.columns.tolist()\n",
    "    cols = cols[-1:] + cols[:-1]\n",
    "    df = df[cols]\n",
    "    df.to_csv(out, index=False)\n",
    "    return"
   ]
  },
  {
   "cell_type": "code",
   "execution_count": 100,
   "metadata": {
    "collapsed": false,
    "scrolled": false
   },
   "outputs": [
    {
     "name": "stdout",
     "output_type": "stream",
     "text": [
      "Loading data...\n",
      "Cleaning data...\n",
      "Training...\n"
     ]
    },
    {
     "name": "stderr",
     "output_type": "stream",
     "text": [
      "/Users/brandon/anaconda/envs/py35/lib/python3.5/site-packages/sklearn/utils/validation.py:429: DataConversionWarning: Data with input dtype int64 was converted to float64 by StandardScaler.\n",
      "  warnings.warn(msg, _DataConversionWarning)\n"
     ]
    },
    {
     "name": "stdout",
     "output_type": "stream",
     "text": [
      "BaggingClassifier(base_estimator=DecisionTreeClassifier(class_weight=None, criterion='gini', max_depth=13,\n",
      "            max_features=None, max_leaf_nodes=None,\n",
      "            min_impurity_split=1e-07, min_samples_leaf=1,\n",
      "            min_samples_split=2, min_weight_fraction_leaf=0.0,\n",
      "            presort=False, random_state=19, splitter='best'),\n",
      "         bootstrap=True, bootstrap_features=False, max_features=1.0,\n",
      "         max_samples=1.0, n_estimators=100, n_jobs=-1, oob_score=False,\n",
      "         random_state=19, verbose=0, warm_start=False)\n",
      "Kfold score 1: 0.549603174603\n",
      "Kfold score 2: 0.637566137566\n",
      "Kfold score 3: 0.62037037037\n",
      "Kfold score 4: 0.569444444444\n",
      "Kfold score 5: 0.580687830688\n",
      "Kfold score 6: 0.499338624339\n",
      "Kfold score 7: 0.555555555556\n",
      "Kfold score 8: 0.683201058201\n",
      "Kfold score 9: 0.736111111111\n",
      "Kfold score 10: 0.630291005291\n",
      "Average score: 0.606216931217\n"
     ]
    },
    {
     "name": "stderr",
     "output_type": "stream",
     "text": [
      "/Users/brandon/anaconda/envs/py35/lib/python3.5/site-packages/sklearn/utils/validation.py:429: DataConversionWarning: Data with input dtype int64 was converted to float64 by StandardScaler.\n",
      "  warnings.warn(msg, _DataConversionWarning)\n"
     ]
    },
    {
     "name": "stdout",
     "output_type": "stream",
     "text": [
      "KNeighborsClassifier(algorithm='auto', leaf_size=30, metric='minkowski',\n",
      "           metric_params=None, n_jobs=-1, n_neighbors=1, p=2,\n",
      "           weights='uniform')\n",
      "Kfold score 1: 0.634259259259\n",
      "Kfold score 2: 0.67328042328\n",
      "Kfold score 3: 0.699735449735\n",
      "Kfold score 4: 0.640211640212\n",
      "Kfold score 5: 0.622354497354\n",
      "Kfold score 6: 0.636243386243\n",
      "Kfold score 7: 0.67791005291\n",
      "Kfold score 8: 0.664021164021\n",
      "Kfold score 9: 0.787698412698\n",
      "Kfold score 10: 0.739417989418\n",
      "Average score: 0.677513227513\n",
      "SGDClassifier(alpha=0.0001, average=False, class_weight=None, epsilon=0.1,\n",
      "       eta0=0.0, fit_intercept=True, l1_ratio=0.15,\n",
      "       learning_rate='optimal', loss='log', n_iter=7, n_jobs=1,\n",
      "       penalty='elasticnet', power_t=0.5, random_state=19, shuffle=True,\n",
      "       verbose=0, warm_start=False)\n"
     ]
    },
    {
     "name": "stderr",
     "output_type": "stream",
     "text": [
      "/Users/brandon/anaconda/envs/py35/lib/python3.5/site-packages/sklearn/utils/validation.py:429: DataConversionWarning: Data with input dtype int64 was converted to float64 by StandardScaler.\n",
      "  warnings.warn(msg, _DataConversionWarning)\n"
     ]
    },
    {
     "name": "stdout",
     "output_type": "stream",
     "text": [
      "Kfold score 1: 0.498677248677\n",
      "Kfold score 2: 0.718915343915\n",
      "Kfold score 3: 0.617063492063\n",
      "Kfold score 4: 0.539021164021\n",
      "Kfold score 5: 0.569444444444\n",
      "Kfold score 6: 0.625\n",
      "Kfold score 7: 0.61044973545\n",
      "Kfold score 8: 0.638888888889\n",
      "Kfold score 9: 0.602513227513\n",
      "Kfold score 10: 0.675925925926\n",
      "Average score: 0.60958994709\n",
      "Predicting...\n"
     ]
    },
    {
     "name": "stderr",
     "output_type": "stream",
     "text": [
      "/Users/brandon/anaconda/envs/py35/lib/python3.5/site-packages/sklearn/utils/validation.py:429: DataConversionWarning: Data with input dtype int64 was converted to float64 by StandardScaler.\n",
      "  warnings.warn(msg, _DataConversionWarning)\n"
     ]
    },
    {
     "name": "stdout",
     "output_type": "stream",
     "text": [
      "Ensembling...\n",
      "Best set of weights: [[ 0.01749344  0.91882812  0.06367843]]\n",
      "Corresponding score: 0.670634920635\n",
      "Output submission file\n"
     ]
    }
   ],
   "source": [
    "from sklearn.naive_bayes import MultinomialNB\n",
    "from sklearn.linear_model import SGDClassifier\n",
    "from sklearn.cross_validation import KFold, StratifiedKFold\n",
    "import pandas as pd\n",
    "import numpy as np\n",
    "from sklearn.ensemble import ExtraTreesClassifier\n",
    "from sklearn.ensemble import RandomForestClassifier\n",
    "from itertools import combinations\n",
    "from sklearn.metrics import f1_score\n",
    "from sklearn.neighbors import KNeighborsClassifier\n",
    "\n",
    "\n",
    "if __name__ == '__main__':\n",
    "    print ('Loading data...')\n",
    "    train_raw = pd.read_csv('data/train.csv')\n",
    "    test_raw = pd.read_csv('data/test.csv')\n",
    "    Id = test_raw['Id']\n",
    "    print ('Cleaning data...')\n",
    "    train_clean = process_data(train_raw)\n",
    "    test_clean = process_data(test_raw)\n",
    "\n",
    "\n",
    "    print ('Training...')\n",
    "\n",
    "    seed = 19\n",
    "    from sklearn.ensemble import BaggingClassifier\n",
    "    from sklearn.tree import DecisionTreeClassifier\n",
    "    base_estimator = DecisionTreeClassifier(random_state=seed,max_depth=13)\n",
    "    model_0 = BaggingClassifier(n_jobs=-1,base_estimator=base_estimator, n_estimators=100, random_state=seed)\n",
    "    model_1 = KNeighborsClassifier(n_jobs=-1, algorithm='auto',n_neighbors=1)\n",
    "    model_2 = SGDClassifier(loss='log',penalty='elasticnet', n_iter=7, random_state=seed, shuffle=True)\n",
    "    \n",
    "    cv_pred_1 = perform_cross_validation(model_0, train_clean)\n",
    "    cv_pred_2 = perform_cross_validation(model_1, train_clean)\n",
    "    cv_pred_3 = perform_cross_validation(model_2, train_clean)\n",
    "    \n",
    "    print ('Predicting...')\n",
    "    pred_1 = perform_predictions(model_0, train_clean, test_clean)\n",
    "    pred_2 = perform_predictions(model_1, train_clean, test_clean)\n",
    "    pred_3 = perform_predictions(model_2, train_clean, test_clean)\n",
    "\n",
    "    print ('Ensembling...')\n",
    "    cv_preds = [cv_pred_1, cv_pred_2, cv_pred_3]\n",
    "    wt_final = []\n",
    "    for i in range(1500):\n",
    "        w = np.random.dirichlet(np.ones(3),size=1)\n",
    "        wt_final.append(w)\n",
    "    max_average_score = 0.67\n",
    "    max_weights = None\n",
    "    for wt in wt_final:\n",
    "        total_score = 0\n",
    "        for i in range(9):\n",
    "            y_true = cv_preds[0][i]['id']\n",
    "            weighted_prediction = sum([wt[0][x] * cv_preds[x][i]['predictions'].astype(int).reset_index() for x in range(3)])\n",
    "            weighted_prediction = [round(p) for p in weighted_prediction['predictions']]\n",
    "            total_score += score(y_true, weighted_prediction)\n",
    "        average_score = total_score/9.0\n",
    "        if (average_score > max_average_score):\n",
    "            max_average_score = average_score\n",
    "            max_weights = wt\n",
    "    print ('Best set of weights: ' + str(max_weights))\n",
    "    print ('Corresponding score: ' + str(max_average_score))\n",
    "    preds = [pred_1, pred_2, pred_3]\n",
    "    weighted_prediction = sum([max_weights[0][x] * preds[x][0]['Cover_Type'].astype(int) for x in range(3)])\n",
    "    weighted_prediction = [int(round(p)) for p in weighted_prediction]\n",
    "    submission = pd.DataFrame({'Id': Id, 'Cover_Type': weighted_prediction})\n",
    "    #submission.to_csv('submission.csv', index=False)\n",
    "    to_csv(submission, 'submission.csv')\n",
    "    print('Output submission file')"
   ]
  },
  {
   "cell_type": "code",
   "execution_count": 99,
   "metadata": {
    "collapsed": false
   },
   "outputs": [
    {
     "name": "stdout",
     "output_type": "stream",
     "text": [
      "Ensembling...\n",
      "Best set of weights: [[  3.28277355e-04   9.47608900e-01   5.20628224e-02]]\n",
      "Corresponding score: 0.670634920635\n",
      "Output submission file\n"
     ]
    }
   ],
   "source": [
    "    print ('Ensembling...')\n",
    "    cv_preds = [cv_pred_1, cv_pred_2, cv_pred_3]\n",
    "    wt_final = []\n",
    "    for i in range(1000):\n",
    "        w = np.random.dirichlet(np.ones(3),size=1)\n",
    "        wt_final.append(w)\n",
    "    max_average_score = 0.67\n",
    "    max_weights = None\n",
    "    for wt in wt_final:\n",
    "        total_score = 0\n",
    "        for i in range(9):\n",
    "            y_true = cv_preds[0][i]['id']\n",
    "            weighted_prediction = sum([wt[0][x] * cv_preds[x][i]['predictions'].astype(int).reset_index() for x in range(3)])\n",
    "            weighted_prediction = [round(p) for p in weighted_prediction['predictions']]\n",
    "            total_score += score(y_true, weighted_prediction)\n",
    "        average_score = total_score/9.0\n",
    "        if (average_score > max_average_score):\n",
    "            max_average_score = average_score\n",
    "            max_weights = wt\n",
    "    print ('Best set of weights: ' + str(max_weights))\n",
    "    print ('Corresponding score: ' + str(max_average_score))\n",
    "    preds = [pred_1, pred_2, pred_3]\n",
    "    weighted_prediction = sum([max_weights[0][x] * preds[x][0]['Cover_Type'].astype(int) for x in range(3)])\n",
    "    weighted_prediction = [int(round(p)) for p in weighted_prediction]\n",
    "    submission = pd.DataFrame({'Id': Id, 'Cover_Type': weighted_prediction})\n",
    "    #submission.to_csv('submission.csv', index=False)\n",
    "    to_csv(submission, 'submission.csv')\n",
    "    print('Output submission file')"
   ]
  },
  {
   "cell_type": "code",
   "execution_count": 95,
   "metadata": {
    "collapsed": false
   },
   "outputs": [],
   "source": [
    "    base_estimator = DecisionTreeClassifier(random_state=seed)\n",
    "    model_0 = BaggingClassifier(n_jobs=-1,base_estimator=base_estimator)\n",
    "    model_1 = KNeighborsClassifier(n_jobs=-1)\n",
    "    model_2 = SGDClassifier(loss='log',penalty='elasticnet', n_iter=7, random_state=seed, shuffle=True)\n"
   ]
  },
  {
   "cell_type": "code",
   "execution_count": 96,
   "metadata": {
    "collapsed": false
   },
   "outputs": [
    {
     "name": "stderr",
     "output_type": "stream",
     "text": [
      "/Users/brandon/anaconda/envs/py35/lib/python3.5/site-packages/sklearn/utils/validation.py:429: DataConversionWarning: Data with input dtype int64 was converted to float64 by StandardScaler.\n",
      "  warnings.warn(msg, _DataConversionWarning)\n"
     ]
    },
    {
     "name": "stdout",
     "output_type": "stream",
     "text": [
      "SGDClassifier(alpha=0.0001, average=False, class_weight=None, epsilon=0.1,\n",
      "       eta0=0.0, fit_intercept=True, l1_ratio=0.15,\n",
      "       learning_rate='optimal', loss='log', n_iter=7, n_jobs=1,\n",
      "       penalty='elasticnet', power_t=0.5, random_state=19, shuffle=True,\n",
      "       verbose=0, warm_start=False)\n",
      "Kfold score 1: 0.498677248677\n",
      "Kfold score 2: 0.718915343915\n",
      "Kfold score 3: 0.617063492063\n",
      "Kfold score 4: 0.539021164021\n",
      "Kfold score 5: 0.569444444444\n",
      "Kfold score 6: 0.625\n",
      "Kfold score 7: 0.61044973545\n",
      "Kfold score 8: 0.638888888889\n",
      "Kfold score 9: 0.602513227513\n",
      "Kfold score 10: 0.675925925926\n",
      "Average score: 0.60958994709\n"
     ]
    }
   ],
   "source": [
    "    #cv_pred_1 = perform_cross_validation(model_0, train_clean)\n",
    "    #cv_pred_2 = perform_cross_validation(model_1, train_clean)\n",
    "    cv_pred_3 = perform_cross_validation(model_2, train_clean)"
   ]
  },
  {
   "cell_type": "code",
   "execution_count": 42,
   "metadata": {
    "collapsed": false,
    "scrolled": true
   },
   "outputs": [
    {
     "name": "stdout",
     "output_type": "stream",
     "text": [
      "Ensembling...\n",
      "Best set of weights: [[ 0.00634345  0.94818049  0.04547606]]\n",
      "Corresponding score: 0.687698412698\n",
      "Output submission file\n"
     ]
    }
   ],
   "source": [
    "    print ('Ensembling...')\n",
    "    cv_preds = [cv_pred_1, cv_pred_2, cv_pred_3]\n",
    "    wt_final = []\n",
    "    for i in range(1000):\n",
    "        w = np.random.dirichlet(np.ones(3),size=1)\n",
    "        wt_final.append(w)\n",
    "    max_average_score = 0.68\n",
    "    max_weights = None\n",
    "    for wt in wt_final:\n",
    "        total_score = 0\n",
    "        for i in range(10):\n",
    "            for x in range(3):\n",
    "                y_true = cv_preds[x][i]['id']\n",
    "                weighted_prediction = sum([wt[0][x] * cv_preds[x][i]['predictions'].astype(int).reset_index()])\n",
    "                weighted_prediction = [round(p) for p in weighted_prediction['predictions']]\n",
    "                #print(weighted_prediction)\n",
    "                total_score += score(y_true, weighted_prediction)\n",
    "                #print(total_score)\n",
    "            average_score = total_score/10.0\n",
    "            if (average_score > max_average_score):\n",
    "                max_average_score = average_score\n",
    "                max_weights = wt\n",
    "    print ('Best set of weights: ' + str(max_weights))\n",
    "    print ('Corresponding score: ' + str(max_average_score))\n",
    "    \n",
    "    preds = [pred_1, pred_2, pred_3]\n",
    "    weighted_prediction = sum([max_weights[0][x] * preds[x][0]['Cover_Type'].astype(int) for x in range(3)])\n",
    "    weighted_prediction = [int(round(p)) for p in weighted_prediction]\n",
    "    submission = pd.DataFrame({'Id': Id, 'Cover_Type': weighted_prediction})\n",
    "    #submission.to_csv('submission.csv', index=False)\n",
    "    to_csv(submission, 'submission.csv')\n",
    "    print('Output submission file')"
   ]
  },
  {
   "cell_type": "code",
   "execution_count": 57,
   "metadata": {
    "collapsed": false
   },
   "outputs": [],
   "source": [
    "from sklearn.metrics import make_scorer\n",
    "from sklearn.grid_search import GridSearchCV\n",
    "\n",
    "def tuner(model, param_grid, dataset):\n",
    "    X_train, y_train, _, _ = train_extract(dataset, dataset)\n",
    "    tuning_scorer = make_scorer(score, greater_is_better = True)\n",
    "    \n",
    "    tuner_model = GridSearchCV(estimator=model, \n",
    "                                param_grid=param_grid, \n",
    "                                scoring=tuning_scorer,\n",
    "                                verbose=10, \n",
    "                                n_jobs=-1, \n",
    "                                iid=True, \n",
    "                                refit=True, \n",
    "                                cv=5)\n",
    "\n",
    "    tuner_model.fit(X_train, y_train)\n",
    "    print(\"Best score: %0.3f\" % tuner_model.best_score_)\n",
    "    print(\"Best parameters set:\")\n",
    "    best_parameters = tuner_model.best_estimator_.get_params()\n",
    "    for param_name in sorted(param_grid.keys()):\n",
    "        print(\"\\t%s: %r\" % (param_name, best_parameters[param_name]))\n",
    "        \n"
   ]
  },
  {
   "cell_type": "code",
   "execution_count": 76,
   "metadata": {
    "collapsed": true
   },
   "outputs": [],
   "source": [
    "    base_estimator = DecisionTreeClassifier(random_state=seed,max_depth=19)\n",
    "    model_0 = BaggingClassifier(n_jobs=-1,base_estimator=base_estimator, n_estimators=100, random_state=seed)"
   ]
  },
  {
   "cell_type": "code",
   "execution_count": 77,
   "metadata": {
    "collapsed": false
   },
   "outputs": [
    {
     "name": "stderr",
     "output_type": "stream",
     "text": [
      "/Users/brandon/anaconda/envs/py35/lib/python3.5/site-packages/sklearn/utils/validation.py:429: DataConversionWarning: Data with input dtype int64 was converted to float64 by StandardScaler.\n",
      "  warnings.warn(msg, _DataConversionWarning)\n"
     ]
    },
    {
     "name": "stdout",
     "output_type": "stream",
     "text": [
      "Fitting 5 folds for each of 6 candidates, totalling 30 fits\n",
      "[CV] n_estimators=89 .................................................\n",
      "[CV] n_estimators=89 .................................................\n",
      "[CV] n_estimators=89 .................................................\n"
     ]
    },
    {
     "name": "stderr",
     "output_type": "stream",
     "text": [
      "/Users/brandon/anaconda/envs/py35/lib/python3.5/site-packages/sklearn/externals/joblib/parallel.py:540: UserWarning: Multiprocessing-backed parallel loops cannot be nested, setting n_jobs=1\n",
      "  **self._backend_args)\n"
     ]
    },
    {
     "name": "stdout",
     "output_type": "stream",
     "text": [
      "[CV] n_estimators=89 .................................................\n"
     ]
    },
    {
     "name": "stderr",
     "output_type": "stream",
     "text": [
      "/Users/brandon/anaconda/envs/py35/lib/python3.5/site-packages/sklearn/externals/joblib/parallel.py:540: UserWarning: Multiprocessing-backed parallel loops cannot be nested, setting n_jobs=1\n",
      "  **self._backend_args)\n",
      "/Users/brandon/anaconda/envs/py35/lib/python3.5/site-packages/sklearn/externals/joblib/parallel.py:540: UserWarning: Multiprocessing-backed parallel loops cannot be nested, setting n_jobs=1\n",
      "  **self._backend_args)\n",
      "/Users/brandon/anaconda/envs/py35/lib/python3.5/site-packages/sklearn/externals/joblib/parallel.py:540: UserWarning: Multiprocessing-backed parallel loops cannot be nested, setting n_jobs=1\n",
      "  **self._backend_args)\n",
      "/Users/brandon/anaconda/envs/py35/lib/python3.5/site-packages/sklearn/externals/joblib/parallel.py:540: UserWarning: Multiprocessing-backed parallel loops cannot be nested, setting n_jobs=1\n",
      "  **self._backend_args)\n",
      "/Users/brandon/anaconda/envs/py35/lib/python3.5/site-packages/sklearn/externals/joblib/parallel.py:540: UserWarning: Multiprocessing-backed parallel loops cannot be nested, setting n_jobs=1\n",
      "  **self._backend_args)\n",
      "/Users/brandon/anaconda/envs/py35/lib/python3.5/site-packages/sklearn/externals/joblib/parallel.py:540: UserWarning: Multiprocessing-backed parallel loops cannot be nested, setting n_jobs=1\n",
      "  **self._backend_args)\n"
     ]
    },
    {
     "name": "stdout",
     "output_type": "stream",
     "text": [
      "[CV] ........................ n_estimators=89, score=0.740079 -  24.5s\n",
      "[CV] n_estimators=89 .................................................\n"
     ]
    },
    {
     "name": "stderr",
     "output_type": "stream",
     "text": [
      "/Users/brandon/anaconda/envs/py35/lib/python3.5/site-packages/sklearn/externals/joblib/parallel.py:540: UserWarning: Multiprocessing-backed parallel loops cannot be nested, setting n_jobs=1\n",
      "  **self._backend_args)\n"
     ]
    },
    {
     "name": "stdout",
     "output_type": "stream",
     "text": [
      "[CV] ........................ n_estimators=89, score=0.779431 -  24.6s\n",
      "[CV] ........................ n_estimators=89, score=0.745701 -  24.7s\n",
      "[CV] n_estimators=91 .................................................\n",
      "[CV] n_estimators=91 .................................................\n"
     ]
    },
    {
     "name": "stderr",
     "output_type": "stream",
     "text": [
      "/Users/brandon/anaconda/envs/py35/lib/python3.5/site-packages/sklearn/externals/joblib/parallel.py:540: UserWarning: Multiprocessing-backed parallel loops cannot be nested, setting n_jobs=1\n",
      "  **self._backend_args)\n",
      "/Users/brandon/anaconda/envs/py35/lib/python3.5/site-packages/sklearn/externals/joblib/parallel.py:540: UserWarning: Multiprocessing-backed parallel loops cannot be nested, setting n_jobs=1\n",
      "  **self._backend_args)\n",
      "/Users/brandon/anaconda/envs/py35/lib/python3.5/site-packages/sklearn/externals/joblib/parallel.py:540: UserWarning: Multiprocessing-backed parallel loops cannot be nested, setting n_jobs=1\n",
      "  **self._backend_args)\n"
     ]
    },
    {
     "name": "stdout",
     "output_type": "stream",
     "text": [
      "[CV] ........................ n_estimators=89, score=0.747685 -  25.3s\n",
      "[CV] n_estimators=91 .................................................\n"
     ]
    },
    {
     "name": "stderr",
     "output_type": "stream",
     "text": [
      "/Users/brandon/anaconda/envs/py35/lib/python3.5/site-packages/sklearn/externals/joblib/parallel.py:540: UserWarning: Multiprocessing-backed parallel loops cannot be nested, setting n_jobs=1\n",
      "  **self._backend_args)\n",
      "/Users/brandon/anaconda/envs/py35/lib/python3.5/site-packages/sklearn/externals/joblib/parallel.py:540: UserWarning: Multiprocessing-backed parallel loops cannot be nested, setting n_jobs=1\n",
      "  **self._backend_args)\n",
      "/Users/brandon/anaconda/envs/py35/lib/python3.5/site-packages/sklearn/externals/joblib/parallel.py:540: UserWarning: Multiprocessing-backed parallel loops cannot be nested, setting n_jobs=1\n",
      "  **self._backend_args)\n"
     ]
    },
    {
     "name": "stdout",
     "output_type": "stream",
     "text": [
      "[CV] ........................ n_estimators=89, score=0.838294 -  26.1s\n",
      "[CV] n_estimators=91 .................................................\n"
     ]
    },
    {
     "name": "stderr",
     "output_type": "stream",
     "text": [
      "/Users/brandon/anaconda/envs/py35/lib/python3.5/site-packages/sklearn/externals/joblib/parallel.py:540: UserWarning: Multiprocessing-backed parallel loops cannot be nested, setting n_jobs=1\n",
      "  **self._backend_args)\n",
      "[Parallel(n_jobs=-1)]: Done   5 tasks      | elapsed:   50.8s\n"
     ]
    },
    {
     "name": "stdout",
     "output_type": "stream",
     "text": [
      "[CV] ........................ n_estimators=91, score=0.738757 -  26.3s\n"
     ]
    },
    {
     "name": "stderr",
     "output_type": "stream",
     "text": [
      "/Users/brandon/anaconda/envs/py35/lib/python3.5/site-packages/sklearn/externals/joblib/parallel.py:540: UserWarning: Multiprocessing-backed parallel loops cannot be nested, setting n_jobs=1\n",
      "  **self._backend_args)\n"
     ]
    },
    {
     "name": "stdout",
     "output_type": "stream",
     "text": [
      "[CV] n_estimators=91 .................................................\n"
     ]
    },
    {
     "name": "stderr",
     "output_type": "stream",
     "text": [
      "/Users/brandon/anaconda/envs/py35/lib/python3.5/site-packages/sklearn/externals/joblib/parallel.py:540: UserWarning: Multiprocessing-backed parallel loops cannot be nested, setting n_jobs=1\n",
      "  **self._backend_args)\n"
     ]
    },
    {
     "name": "stdout",
     "output_type": "stream",
     "text": [
      "[CV] ........................ n_estimators=91, score=0.745701 -  26.7s\n",
      "[CV] n_estimators=93 .................................................\n"
     ]
    },
    {
     "name": "stderr",
     "output_type": "stream",
     "text": [
      "/Users/brandon/anaconda/envs/py35/lib/python3.5/site-packages/sklearn/externals/joblib/parallel.py:540: UserWarning: Multiprocessing-backed parallel loops cannot be nested, setting n_jobs=1\n",
      "  **self._backend_args)\n",
      "/Users/brandon/anaconda/envs/py35/lib/python3.5/site-packages/sklearn/externals/joblib/parallel.py:540: UserWarning: Multiprocessing-backed parallel loops cannot be nested, setting n_jobs=1\n",
      "  **self._backend_args)\n"
     ]
    },
    {
     "name": "stdout",
     "output_type": "stream",
     "text": [
      "[CV] ........................ n_estimators=91, score=0.749008 -  27.1s\n",
      "[CV] n_estimators=93 .................................................\n"
     ]
    },
    {
     "name": "stderr",
     "output_type": "stream",
     "text": [
      "/Users/brandon/anaconda/envs/py35/lib/python3.5/site-packages/sklearn/externals/joblib/parallel.py:540: UserWarning: Multiprocessing-backed parallel loops cannot be nested, setting n_jobs=1\n",
      "  **self._backend_args)\n",
      "/Users/brandon/anaconda/envs/py35/lib/python3.5/site-packages/sklearn/externals/joblib/parallel.py:540: UserWarning: Multiprocessing-backed parallel loops cannot be nested, setting n_jobs=1\n",
      "  **self._backend_args)\n"
     ]
    },
    {
     "name": "stdout",
     "output_type": "stream",
     "text": [
      "[CV] ........................ n_estimators=91, score=0.777116 -  25.0s\n",
      "[CV] n_estimators=93 .................................................\n"
     ]
    },
    {
     "name": "stderr",
     "output_type": "stream",
     "text": [
      "/Users/brandon/anaconda/envs/py35/lib/python3.5/site-packages/sklearn/externals/joblib/parallel.py:540: UserWarning: Multiprocessing-backed parallel loops cannot be nested, setting n_jobs=1\n",
      "  **self._backend_args)\n",
      "/Users/brandon/anaconda/envs/py35/lib/python3.5/site-packages/sklearn/externals/joblib/parallel.py:540: UserWarning: Multiprocessing-backed parallel loops cannot be nested, setting n_jobs=1\n",
      "  **self._backend_args)\n"
     ]
    },
    {
     "name": "stdout",
     "output_type": "stream",
     "text": [
      "[CV] ........................ n_estimators=91, score=0.837302 -  25.2s\n"
     ]
    },
    {
     "name": "stderr",
     "output_type": "stream",
     "text": [
      "/Users/brandon/anaconda/envs/py35/lib/python3.5/site-packages/sklearn/externals/joblib/parallel.py:540: UserWarning: Multiprocessing-backed parallel loops cannot be nested, setting n_jobs=1\n",
      "  **self._backend_args)\n"
     ]
    },
    {
     "name": "stdout",
     "output_type": "stream",
     "text": [
      "[CV] n_estimators=93 .................................................\n"
     ]
    },
    {
     "name": "stderr",
     "output_type": "stream",
     "text": [
      "/Users/brandon/anaconda/envs/py35/lib/python3.5/site-packages/sklearn/externals/joblib/parallel.py:540: UserWarning: Multiprocessing-backed parallel loops cannot be nested, setting n_jobs=1\n",
      "  **self._backend_args)\n",
      "[Parallel(n_jobs=-1)]: Done  10 tasks      | elapsed:  1.3min\n"
     ]
    },
    {
     "name": "stdout",
     "output_type": "stream",
     "text": [
      "[CV] ........................ n_estimators=93, score=0.744709 -  25.2s\n",
      "[CV] n_estimators=93 .................................................\n"
     ]
    },
    {
     "name": "stderr",
     "output_type": "stream",
     "text": [
      "/Users/brandon/anaconda/envs/py35/lib/python3.5/site-packages/sklearn/externals/joblib/parallel.py:540: UserWarning: Multiprocessing-backed parallel loops cannot be nested, setting n_jobs=1\n",
      "  **self._backend_args)\n",
      "/Users/brandon/anaconda/envs/py35/lib/python3.5/site-packages/sklearn/externals/joblib/parallel.py:540: UserWarning: Multiprocessing-backed parallel loops cannot be nested, setting n_jobs=1\n",
      "  **self._backend_args)\n"
     ]
    },
    {
     "name": "stdout",
     "output_type": "stream",
     "text": [
      "[CV] ........................ n_estimators=93, score=0.738095 -  25.5s\n",
      "[CV] n_estimators=95 .................................................\n"
     ]
    },
    {
     "name": "stderr",
     "output_type": "stream",
     "text": [
      "/Users/brandon/anaconda/envs/py35/lib/python3.5/site-packages/sklearn/externals/joblib/parallel.py:540: UserWarning: Multiprocessing-backed parallel loops cannot be nested, setting n_jobs=1\n",
      "  **self._backend_args)\n",
      "/Users/brandon/anaconda/envs/py35/lib/python3.5/site-packages/sklearn/externals/joblib/parallel.py:540: UserWarning: Multiprocessing-backed parallel loops cannot be nested, setting n_jobs=1\n",
      "  **self._backend_args)\n",
      "/Users/brandon/anaconda/envs/py35/lib/python3.5/site-packages/sklearn/externals/joblib/parallel.py:540: UserWarning: Multiprocessing-backed parallel loops cannot be nested, setting n_jobs=1\n",
      "  **self._backend_args)\n",
      "/Users/brandon/anaconda/envs/py35/lib/python3.5/site-packages/sklearn/externals/joblib/parallel.py:540: UserWarning: Multiprocessing-backed parallel loops cannot be nested, setting n_jobs=1\n",
      "  **self._backend_args)\n"
     ]
    },
    {
     "name": "stdout",
     "output_type": "stream",
     "text": [
      "[CV] ........................ n_estimators=93, score=0.778439 -  26.1s\n",
      "[CV] n_estimators=95 .................................................\n"
     ]
    },
    {
     "name": "stderr",
     "output_type": "stream",
     "text": [
      "/Users/brandon/anaconda/envs/py35/lib/python3.5/site-packages/sklearn/externals/joblib/parallel.py:540: UserWarning: Multiprocessing-backed parallel loops cannot be nested, setting n_jobs=1\n",
      "  **self._backend_args)\n"
     ]
    },
    {
     "name": "stdout",
     "output_type": "stream",
     "text": [
      "[CV] ........................ n_estimators=93, score=0.749669 -  27.0s\n",
      "[CV] ........................ n_estimators=93, score=0.837632 -  26.0s\n",
      "[CV] n_estimators=95 .................................................\n",
      "[CV] n_estimators=95 .................................................\n"
     ]
    },
    {
     "name": "stderr",
     "output_type": "stream",
     "text": [
      "/Users/brandon/anaconda/envs/py35/lib/python3.5/site-packages/sklearn/externals/joblib/parallel.py:540: UserWarning: Multiprocessing-backed parallel loops cannot be nested, setting n_jobs=1\n",
      "  **self._backend_args)\n",
      "/Users/brandon/anaconda/envs/py35/lib/python3.5/site-packages/sklearn/externals/joblib/parallel.py:540: UserWarning: Multiprocessing-backed parallel loops cannot be nested, setting n_jobs=1\n",
      "  **self._backend_args)\n",
      "/Users/brandon/anaconda/envs/py35/lib/python3.5/site-packages/sklearn/externals/joblib/parallel.py:540: UserWarning: Multiprocessing-backed parallel loops cannot be nested, setting n_jobs=1\n",
      "  **self._backend_args)\n"
     ]
    },
    {
     "name": "stdout",
     "output_type": "stream",
     "text": [
      "[CV] ........................ n_estimators=95, score=0.743056 -  26.1s\n",
      "[CV] n_estimators=95 .................................................\n"
     ]
    },
    {
     "name": "stderr",
     "output_type": "stream",
     "text": [
      "/Users/brandon/anaconda/envs/py35/lib/python3.5/site-packages/sklearn/externals/joblib/parallel.py:540: UserWarning: Multiprocessing-backed parallel loops cannot be nested, setting n_jobs=1\n",
      "  **self._backend_args)\n",
      "/Users/brandon/anaconda/envs/py35/lib/python3.5/site-packages/sklearn/externals/joblib/parallel.py:540: UserWarning: Multiprocessing-backed parallel loops cannot be nested, setting n_jobs=1\n",
      "  **self._backend_args)\n",
      "/Users/brandon/anaconda/envs/py35/lib/python3.5/site-packages/sklearn/externals/joblib/parallel.py:540: UserWarning: Multiprocessing-backed parallel loops cannot be nested, setting n_jobs=1\n",
      "  **self._backend_args)\n"
     ]
    },
    {
     "name": "stdout",
     "output_type": "stream",
     "text": [
      "[CV] ........................ n_estimators=95, score=0.779762 -  21.7s\n",
      "[CV] n_estimators=97 .................................................\n",
      "[CV] ........................ n_estimators=95, score=0.739418 -  22.0s\n"
     ]
    },
    {
     "name": "stderr",
     "output_type": "stream",
     "text": [
      "/Users/brandon/anaconda/envs/py35/lib/python3.5/site-packages/sklearn/externals/joblib/parallel.py:540: UserWarning: Multiprocessing-backed parallel loops cannot be nested, setting n_jobs=1\n",
      "  **self._backend_args)\n"
     ]
    },
    {
     "name": "stdout",
     "output_type": "stream",
     "text": [
      "[CV] n_estimators=97 .................................................\n"
     ]
    },
    {
     "name": "stderr",
     "output_type": "stream",
     "text": [
      "/Users/brandon/anaconda/envs/py35/lib/python3.5/site-packages/sklearn/externals/joblib/parallel.py:540: UserWarning: Multiprocessing-backed parallel loops cannot be nested, setting n_jobs=1\n",
      "  **self._backend_args)\n",
      "[Parallel(n_jobs=-1)]: Done  17 tasks      | elapsed:  2.1min\n",
      "/Users/brandon/anaconda/envs/py35/lib/python3.5/site-packages/sklearn/externals/joblib/parallel.py:540: UserWarning: Multiprocessing-backed parallel loops cannot be nested, setting n_jobs=1\n",
      "  **self._backend_args)\n"
     ]
    },
    {
     "name": "stdout",
     "output_type": "stream",
     "text": [
      "[CV] ........................ n_estimators=95, score=0.749008 -  22.4s\n",
      "[CV] n_estimators=97 .................................................\n"
     ]
    },
    {
     "name": "stderr",
     "output_type": "stream",
     "text": [
      "/Users/brandon/anaconda/envs/py35/lib/python3.5/site-packages/sklearn/externals/joblib/parallel.py:540: UserWarning: Multiprocessing-backed parallel loops cannot be nested, setting n_jobs=1\n",
      "  **self._backend_args)\n",
      "/Users/brandon/anaconda/envs/py35/lib/python3.5/site-packages/sklearn/externals/joblib/parallel.py:540: UserWarning: Multiprocessing-backed parallel loops cannot be nested, setting n_jobs=1\n",
      "  **self._backend_args)\n"
     ]
    },
    {
     "name": "stdout",
     "output_type": "stream",
     "text": [
      "[CV] ........................ n_estimators=95, score=0.837963 -  22.1s\n",
      "[CV] n_estimators=97 .................................................\n"
     ]
    },
    {
     "name": "stderr",
     "output_type": "stream",
     "text": [
      "/Users/brandon/anaconda/envs/py35/lib/python3.5/site-packages/sklearn/externals/joblib/parallel.py:540: UserWarning: Multiprocessing-backed parallel loops cannot be nested, setting n_jobs=1\n",
      "  **self._backend_args)\n",
      "/Users/brandon/anaconda/envs/py35/lib/python3.5/site-packages/sklearn/externals/joblib/parallel.py:540: UserWarning: Multiprocessing-backed parallel loops cannot be nested, setting n_jobs=1\n",
      "  **self._backend_args)\n",
      "/Users/brandon/anaconda/envs/py35/lib/python3.5/site-packages/sklearn/externals/joblib/parallel.py:540: UserWarning: Multiprocessing-backed parallel loops cannot be nested, setting n_jobs=1\n",
      "  **self._backend_args)\n"
     ]
    },
    {
     "name": "stdout",
     "output_type": "stream",
     "text": [
      "[CV] ........................ n_estimators=97, score=0.747024 -  22.8s\n",
      "[CV] n_estimators=97 .................................................\n",
      "[CV] ........................ n_estimators=97, score=0.739418 -  22.8s\n"
     ]
    },
    {
     "name": "stderr",
     "output_type": "stream",
     "text": [
      "/Users/brandon/anaconda/envs/py35/lib/python3.5/site-packages/sklearn/externals/joblib/parallel.py:540: UserWarning: Multiprocessing-backed parallel loops cannot be nested, setting n_jobs=1\n",
      "  **self._backend_args)\n"
     ]
    },
    {
     "name": "stdout",
     "output_type": "stream",
     "text": [
      "[CV] n_estimators=99 .................................................\n"
     ]
    },
    {
     "name": "stderr",
     "output_type": "stream",
     "text": [
      "/Users/brandon/anaconda/envs/py35/lib/python3.5/site-packages/sklearn/externals/joblib/parallel.py:540: UserWarning: Multiprocessing-backed parallel loops cannot be nested, setting n_jobs=1\n",
      "  **self._backend_args)\n",
      "/Users/brandon/anaconda/envs/py35/lib/python3.5/site-packages/sklearn/externals/joblib/parallel.py:540: UserWarning: Multiprocessing-backed parallel loops cannot be nested, setting n_jobs=1\n",
      "  **self._backend_args)\n"
     ]
    },
    {
     "name": "stdout",
     "output_type": "stream",
     "text": [
      "[CV] ........................ n_estimators=97, score=0.750000 -  23.4s\n",
      "[CV] n_estimators=99 .................................................\n"
     ]
    },
    {
     "name": "stderr",
     "output_type": "stream",
     "text": [
      "/Users/brandon/anaconda/envs/py35/lib/python3.5/site-packages/sklearn/externals/joblib/parallel.py:540: UserWarning: Multiprocessing-backed parallel loops cannot be nested, setting n_jobs=1\n",
      "  **self._backend_args)\n",
      "/Users/brandon/anaconda/envs/py35/lib/python3.5/site-packages/sklearn/externals/joblib/parallel.py:540: UserWarning: Multiprocessing-backed parallel loops cannot be nested, setting n_jobs=1\n",
      "  **self._backend_args)\n"
     ]
    },
    {
     "name": "stdout",
     "output_type": "stream",
     "text": [
      "[CV] ........................ n_estimators=97, score=0.779431 -  22.6s\n",
      "[CV] n_estimators=99 .................................................\n"
     ]
    },
    {
     "name": "stderr",
     "output_type": "stream",
     "text": [
      "/Users/brandon/anaconda/envs/py35/lib/python3.5/site-packages/sklearn/externals/joblib/parallel.py:540: UserWarning: Multiprocessing-backed parallel loops cannot be nested, setting n_jobs=1\n",
      "  **self._backend_args)\n",
      "/Users/brandon/anaconda/envs/py35/lib/python3.5/site-packages/sklearn/externals/joblib/parallel.py:540: UserWarning: Multiprocessing-backed parallel loops cannot be nested, setting n_jobs=1\n",
      "  **self._backend_args)\n"
     ]
    },
    {
     "name": "stdout",
     "output_type": "stream",
     "text": [
      "[CV] ........................ n_estimators=97, score=0.839947 -  23.6s\n",
      "[CV] n_estimators=99 .................................................\n"
     ]
    },
    {
     "name": "stderr",
     "output_type": "stream",
     "text": [
      "/Users/brandon/anaconda/envs/py35/lib/python3.5/site-packages/sklearn/externals/joblib/parallel.py:540: UserWarning: Multiprocessing-backed parallel loops cannot be nested, setting n_jobs=1\n",
      "  **self._backend_args)\n",
      "/Users/brandon/anaconda/envs/py35/lib/python3.5/site-packages/sklearn/externals/joblib/parallel.py:540: UserWarning: Multiprocessing-backed parallel loops cannot be nested, setting n_jobs=1\n",
      "  **self._backend_args)\n"
     ]
    },
    {
     "name": "stdout",
     "output_type": "stream",
     "text": [
      "[CV] ........................ n_estimators=99, score=0.749008 -  23.9s\n",
      "[CV] n_estimators=99 .................................................\n"
     ]
    },
    {
     "name": "stderr",
     "output_type": "stream",
     "text": [
      "/Users/brandon/anaconda/envs/py35/lib/python3.5/site-packages/sklearn/externals/joblib/parallel.py:540: UserWarning: Multiprocessing-backed parallel loops cannot be nested, setting n_jobs=1\n",
      "  **self._backend_args)\n",
      "/Users/brandon/anaconda/envs/py35/lib/python3.5/site-packages/sklearn/externals/joblib/parallel.py:540: UserWarning: Multiprocessing-backed parallel loops cannot be nested, setting n_jobs=1\n",
      "  **self._backend_args)\n"
     ]
    },
    {
     "name": "stdout",
     "output_type": "stream",
     "text": [
      "[CV] ........................ n_estimators=99, score=0.739418 -  23.5s\n"
     ]
    },
    {
     "name": "stderr",
     "output_type": "stream",
     "text": [
      "[Parallel(n_jobs=-1)]: Done  27 out of  30 | elapsed:  2.9min remaining:   19.1s\n",
      "/Users/brandon/anaconda/envs/py35/lib/python3.5/site-packages/sklearn/externals/joblib/parallel.py:540: UserWarning: Multiprocessing-backed parallel loops cannot be nested, setting n_jobs=1\n",
      "  **self._backend_args)\n"
     ]
    },
    {
     "name": "stdout",
     "output_type": "stream",
     "text": [
      "[CV] ........................ n_estimators=99, score=0.747024 -  24.2s\n"
     ]
    },
    {
     "name": "stderr",
     "output_type": "stream",
     "text": [
      "/Users/brandon/anaconda/envs/py35/lib/python3.5/site-packages/sklearn/externals/joblib/parallel.py:540: UserWarning: Multiprocessing-backed parallel loops cannot be nested, setting n_jobs=1\n",
      "  **self._backend_args)\n"
     ]
    },
    {
     "name": "stdout",
     "output_type": "stream",
     "text": [
      "[CV] ........................ n_estimators=99, score=0.778439 -  15.3s\n"
     ]
    },
    {
     "name": "stderr",
     "output_type": "stream",
     "text": [
      "/Users/brandon/anaconda/envs/py35/lib/python3.5/site-packages/sklearn/externals/joblib/parallel.py:540: UserWarning: Multiprocessing-backed parallel loops cannot be nested, setting n_jobs=1\n",
      "  **self._backend_args)\n"
     ]
    },
    {
     "name": "stdout",
     "output_type": "stream",
     "text": [
      "[CV] ........................ n_estimators=99, score=0.838955 -  15.3s\n"
     ]
    },
    {
     "name": "stderr",
     "output_type": "stream",
     "text": [
      "[Parallel(n_jobs=-1)]: Done  30 out of  30 | elapsed:  3.1min finished\n"
     ]
    },
    {
     "name": "stdout",
     "output_type": "stream",
     "text": [
      "Best score: 0.771\n",
      "Best parameters set:\n",
      "\tn_estimators: 97\n"
     ]
    }
   ],
   "source": [
    "    param_grid = {\n",
    "        'n_estimators': np.arange(89, 100, 2),\n",
    "        }\n",
    "    tuner(model_0, param_grid, train_clean)\n",
    "    \n",
    "    "
   ]
  },
  {
   "cell_type": "code",
   "execution_count": null,
   "metadata": {
    "collapsed": true
   },
   "outputs": [],
   "source": [
    "    base_estimator = DecisionTreeClassifier(random_state=seed,max_depth=13)\n",
    "    model_0 = BaggingClassifier(n_jobs=-1,base_estimator=base_estimator, n_estimators=100, random_state=seed)\n",
    "    model_1 = KNeighborsClassifier(n_jobs=-1,n_neighbors=1)\n",
    "    model_2 = SGDClassifier(loss='modified_huber', n_iter=5, random_state=seed, shuffle=True)"
   ]
  },
  {
   "cell_type": "code",
   "execution_count": 75,
   "metadata": {
    "collapsed": false,
    "scrolled": true
   },
   "outputs": [
    {
     "name": "stderr",
     "output_type": "stream",
     "text": [
      "/Users/brandon/anaconda/envs/py35/lib/python3.5/site-packages/sklearn/utils/validation.py:429: DataConversionWarning: Data with input dtype int64 was converted to float64 by StandardScaler.\n",
      "  warnings.warn(msg, _DataConversionWarning)\n"
     ]
    },
    {
     "name": "stdout",
     "output_type": "stream",
     "text": [
      "Fitting 5 folds for each of 12 candidates, totalling 60 fits\n",
      "[CV] algorithm=auto, n_neighbors=1 ...................................\n",
      "[CV] algorithm=auto, n_neighbors=1 ...................................\n",
      "[CV] algorithm=auto, n_neighbors=1 ...................................\n",
      "[CV] algorithm=auto, n_neighbors=1 ...................................\n",
      "[CV] .......... algorithm=auto, n_neighbors=1, score=0.722553 -   1.9s\n",
      "[CV] algorithm=auto, n_neighbors=1 ...................................\n",
      "[CV] .......... algorithm=auto, n_neighbors=1, score=0.694444 -   1.9s\n",
      "[CV] algorithm=auto, n_neighbors=2 ...................................\n",
      "[CV] .......... algorithm=auto, n_neighbors=1, score=0.700397 -   2.1s\n",
      "[CV] algorithm=auto, n_neighbors=2 ...................................\n",
      "[CV] .......... algorithm=auto, n_neighbors=1, score=0.742063 -   2.2s\n",
      "[CV] algorithm=auto, n_neighbors=2 ...................................\n",
      "[CV] .......... algorithm=auto, n_neighbors=1, score=0.804563 -   1.4s\n",
      "[CV] algorithm=auto, n_neighbors=2 ...................................\n"
     ]
    },
    {
     "name": "stderr",
     "output_type": "stream",
     "text": [
      "[Parallel(n_jobs=-1)]: Done   5 tasks      | elapsed:    3.5s\n"
     ]
    },
    {
     "name": "stdout",
     "output_type": "stream",
     "text": [
      "[CV] .......... algorithm=auto, n_neighbors=2, score=0.674272 -   2.0s\n",
      "[CV] algorithm=auto, n_neighbors=2 ...................................\n",
      "[CV] .......... algorithm=auto, n_neighbors=2, score=0.664021 -   2.0s\n",
      "[CV] algorithm=auto, n_neighbors=3 ...................................\n",
      "[CV] .......... algorithm=auto, n_neighbors=2, score=0.670304 -   1.9s\n",
      "[CV] algorithm=auto, n_neighbors=3 ...................................\n",
      "[CV] .......... algorithm=auto, n_neighbors=2, score=0.700397 -   1.8s\n",
      "[CV] algorithm=auto, n_neighbors=3 ...................................\n",
      "[CV] .......... algorithm=auto, n_neighbors=2, score=0.786045 -   1.9s\n",
      "[CV] algorithm=auto, n_neighbors=3 ...................................\n"
     ]
    },
    {
     "name": "stderr",
     "output_type": "stream",
     "text": [
      "[Parallel(n_jobs=-1)]: Done  10 tasks      | elapsed:    6.0s\n"
     ]
    },
    {
     "name": "stdout",
     "output_type": "stream",
     "text": [
      "[CV] .......... algorithm=auto, n_neighbors=3, score=0.682209 -   2.2s\n",
      "[CV] algorithm=auto, n_neighbors=3 ...................................\n",
      "[CV] .......... algorithm=auto, n_neighbors=3, score=0.677579 -   2.5s\n",
      "[CV] algorithm=ball_tree, n_neighbors=1 ..............................\n",
      "[CV] .......... algorithm=auto, n_neighbors=3, score=0.665675 -   2.4s\n",
      "[CV] algorithm=ball_tree, n_neighbors=1 ..............................\n",
      "[CV] .......... algorithm=auto, n_neighbors=3, score=0.709656 -   2.3s\n",
      "[CV] algorithm=ball_tree, n_neighbors=1 ..............................\n",
      "[CV] .......... algorithm=auto, n_neighbors=3, score=0.783730 -   2.2s\n",
      "[CV] algorithm=ball_tree, n_neighbors=1 ..............................\n",
      "[CV] ..... algorithm=ball_tree, n_neighbors=1, score=0.722553 -   3.6s\n",
      "[CV] algorithm=ball_tree, n_neighbors=1 ..............................\n",
      "[CV] ..... algorithm=ball_tree, n_neighbors=1, score=0.694444 -   2.9s\n",
      "[CV] algorithm=ball_tree, n_neighbors=2 ..............................\n",
      "[CV] ..... algorithm=ball_tree, n_neighbors=1, score=0.742063 -   2.5s\n",
      "[CV] algorithm=ball_tree, n_neighbors=2 ..............................\n"
     ]
    },
    {
     "name": "stderr",
     "output_type": "stream",
     "text": [
      "[Parallel(n_jobs=-1)]: Done  17 tasks      | elapsed:   11.2s\n"
     ]
    },
    {
     "name": "stdout",
     "output_type": "stream",
     "text": [
      "[CV] ..... algorithm=ball_tree, n_neighbors=1, score=0.700397 -   4.1s\n",
      "[CV] algorithm=ball_tree, n_neighbors=2 ..............................\n",
      "[CV] ..... algorithm=ball_tree, n_neighbors=1, score=0.804563 -   2.2s\n",
      "[CV] algorithm=ball_tree, n_neighbors=2 ..............................\n",
      "[CV] ..... algorithm=ball_tree, n_neighbors=2, score=0.674272 -   3.1s\n",
      "[CV] algorithm=ball_tree, n_neighbors=2 ..............................\n",
      "[CV] ..... algorithm=ball_tree, n_neighbors=2, score=0.670304 -   2.8s\n",
      "[CV] algorithm=ball_tree, n_neighbors=3 ..............................\n",
      "[CV] ..... algorithm=ball_tree, n_neighbors=2, score=0.664021 -   3.6s\n",
      "[CV] algorithm=ball_tree, n_neighbors=3 ..............................\n",
      "[CV] ..... algorithm=ball_tree, n_neighbors=2, score=0.700397 -   2.7s\n",
      "[CV] algorithm=ball_tree, n_neighbors=3 ..............................\n"
     ]
    },
    {
     "name": "stderr",
     "output_type": "stream",
     "text": [
      "[Parallel(n_jobs=-1)]: Done  24 tasks      | elapsed:   15.5s\n"
     ]
    },
    {
     "name": "stdout",
     "output_type": "stream",
     "text": [
      "[CV] ..... algorithm=ball_tree, n_neighbors=2, score=0.786045 -   1.9s\n",
      "[CV] algorithm=ball_tree, n_neighbors=3 ..............................\n",
      "[CV] ..... algorithm=ball_tree, n_neighbors=3, score=0.682209 -   3.3s\n",
      "[CV] algorithm=ball_tree, n_neighbors=3 ..............................\n",
      "[CV] ..... algorithm=ball_tree, n_neighbors=3, score=0.665675 -   3.1s\n",
      "[CV] algorithm=kd_tree, n_neighbors=1 ................................\n",
      "[CV] ..... algorithm=ball_tree, n_neighbors=3, score=0.677579 -   4.2s\n",
      "[CV] algorithm=kd_tree, n_neighbors=1 ................................\n",
      "[CV] ..... algorithm=ball_tree, n_neighbors=3, score=0.709656 -   3.0s\n",
      "[CV] algorithm=kd_tree, n_neighbors=1 ................................\n",
      "[CV] ..... algorithm=ball_tree, n_neighbors=3, score=0.783730 -   2.1s\n",
      "[CV] algorithm=kd_tree, n_neighbors=1 ................................\n",
      "[CV] ....... algorithm=kd_tree, n_neighbors=1, score=0.722553 -   2.1s\n",
      "[CV] algorithm=kd_tree, n_neighbors=1 ................................\n",
      "[CV] ....... algorithm=kd_tree, n_neighbors=1, score=0.700397 -   2.1s\n",
      "[CV] algorithm=kd_tree, n_neighbors=2 ................................\n",
      "[CV] ....... algorithm=kd_tree, n_neighbors=1, score=0.694444 -   2.0s\n",
      "[CV] algorithm=kd_tree, n_neighbors=2 ................................\n"
     ]
    },
    {
     "name": "stderr",
     "output_type": "stream",
     "text": [
      "[Parallel(n_jobs=-1)]: Done  33 tasks      | elapsed:   21.5s\n"
     ]
    },
    {
     "name": "stdout",
     "output_type": "stream",
     "text": [
      "[CV] ....... algorithm=kd_tree, n_neighbors=1, score=0.742063 -   2.1s\n",
      "[CV] algorithm=kd_tree, n_neighbors=2 ................................\n",
      "[CV] ....... algorithm=kd_tree, n_neighbors=1, score=0.804563 -   2.1s\n",
      "[CV] algorithm=kd_tree, n_neighbors=2 ................................\n",
      "[CV] ....... algorithm=kd_tree, n_neighbors=2, score=0.674272 -   2.5s\n",
      "[CV] algorithm=kd_tree, n_neighbors=2 ................................\n",
      "[CV] ....... algorithm=kd_tree, n_neighbors=2, score=0.664021 -   2.5s\n",
      "[CV] algorithm=kd_tree, n_neighbors=3 ................................\n",
      "[CV] ....... algorithm=kd_tree, n_neighbors=2, score=0.670304 -   2.4s\n",
      "[CV] algorithm=kd_tree, n_neighbors=3 ................................\n",
      "[CV] ....... algorithm=kd_tree, n_neighbors=2, score=0.700397 -   2.5s\n",
      "[CV] algorithm=kd_tree, n_neighbors=3 ................................\n",
      "[CV] ....... algorithm=kd_tree, n_neighbors=2, score=0.786045 -   2.1s\n",
      "[CV] algorithm=kd_tree, n_neighbors=3 ................................\n",
      "[CV] ....... algorithm=kd_tree, n_neighbors=3, score=0.682209 -   2.3s\n",
      "[CV] algorithm=kd_tree, n_neighbors=3 ................................\n",
      "[CV] ....... algorithm=kd_tree, n_neighbors=3, score=0.677579 -   2.4s\n",
      "[CV] algorithm=brute, n_neighbors=1 ..................................\n"
     ]
    },
    {
     "name": "stderr",
     "output_type": "stream",
     "text": [
      "/Users/brandon/anaconda/envs/py35/lib/python3.5/site-packages/sklearn/externals/joblib/parallel.py:540: UserWarning: Multiprocessing-backed parallel loops cannot be nested, setting n_jobs=1\n",
      "  **self._backend_args)\n",
      "[Parallel(n_jobs=-1)]: Done  42 tasks      | elapsed:   27.3s\n"
     ]
    },
    {
     "name": "stdout",
     "output_type": "stream",
     "text": [
      "[CV] ....... algorithm=kd_tree, n_neighbors=3, score=0.665675 -   2.5s\n",
      "[CV] algorithm=brute, n_neighbors=1 ..................................\n"
     ]
    },
    {
     "name": "stderr",
     "output_type": "stream",
     "text": [
      "/Users/brandon/anaconda/envs/py35/lib/python3.5/site-packages/sklearn/externals/joblib/parallel.py:540: UserWarning: Multiprocessing-backed parallel loops cannot be nested, setting n_jobs=1\n",
      "  **self._backend_args)\n"
     ]
    },
    {
     "name": "stdout",
     "output_type": "stream",
     "text": [
      "[CV] ....... algorithm=kd_tree, n_neighbors=3, score=0.709656 -   2.8s\n",
      "[CV] algorithm=brute, n_neighbors=1 ..................................\n",
      "[CV] ....... algorithm=kd_tree, n_neighbors=3, score=0.783730 -   2.4s\n",
      "[CV] algorithm=brute, n_neighbors=1 ..................................\n"
     ]
    },
    {
     "name": "stderr",
     "output_type": "stream",
     "text": [
      "/Users/brandon/anaconda/envs/py35/lib/python3.5/site-packages/sklearn/externals/joblib/parallel.py:540: UserWarning: Multiprocessing-backed parallel loops cannot be nested, setting n_jobs=1\n",
      "  **self._backend_args)\n",
      "/Users/brandon/anaconda/envs/py35/lib/python3.5/site-packages/sklearn/externals/joblib/parallel.py:540: UserWarning: Multiprocessing-backed parallel loops cannot be nested, setting n_jobs=1\n",
      "  **self._backend_args)\n"
     ]
    },
    {
     "name": "stdout",
     "output_type": "stream",
     "text": [
      "[CV] ......... algorithm=brute, n_neighbors=1, score=0.722553 -   7.2s\n",
      "[CV] ......... algorithm=brute, n_neighbors=1, score=0.700397 -   6.6s\n",
      "[CV] algorithm=brute, n_neighbors=1 ..................................\n",
      "[CV] ......... algorithm=brute, n_neighbors=1, score=0.694444 -   5.8s\n",
      "[CV] algorithm=brute, n_neighbors=2 ..................................\n"
     ]
    },
    {
     "name": "stderr",
     "output_type": "stream",
     "text": [
      "/Users/brandon/anaconda/envs/py35/lib/python3.5/site-packages/sklearn/externals/joblib/parallel.py:540: UserWarning: Multiprocessing-backed parallel loops cannot be nested, setting n_jobs=1\n",
      "  **self._backend_args)\n",
      "/Users/brandon/anaconda/envs/py35/lib/python3.5/site-packages/sklearn/externals/joblib/parallel.py:540: UserWarning: Multiprocessing-backed parallel loops cannot be nested, setting n_jobs=1\n",
      "  **self._backend_args)\n"
     ]
    },
    {
     "name": "stdout",
     "output_type": "stream",
     "text": [
      "[CV] algorithm=brute, n_neighbors=2 ..................................\n"
     ]
    },
    {
     "name": "stderr",
     "output_type": "stream",
     "text": [
      "/Users/brandon/anaconda/envs/py35/lib/python3.5/site-packages/sklearn/externals/joblib/parallel.py:540: UserWarning: Multiprocessing-backed parallel loops cannot be nested, setting n_jobs=1\n",
      "  **self._backend_args)\n"
     ]
    },
    {
     "name": "stdout",
     "output_type": "stream",
     "text": [
      "[CV] ......... algorithm=brute, n_neighbors=1, score=0.742063 -   6.9s\n",
      "[CV] algorithm=brute, n_neighbors=2 ..................................\n"
     ]
    },
    {
     "name": "stderr",
     "output_type": "stream",
     "text": [
      "/Users/brandon/anaconda/envs/py35/lib/python3.5/site-packages/sklearn/externals/joblib/parallel.py:540: UserWarning: Multiprocessing-backed parallel loops cannot be nested, setting n_jobs=1\n",
      "  **self._backend_args)\n"
     ]
    },
    {
     "name": "stdout",
     "output_type": "stream",
     "text": [
      "[CV] ......... algorithm=brute, n_neighbors=1, score=0.804563 -   6.9s\n",
      "[CV] algorithm=brute, n_neighbors=2 ..................................\n",
      "[CV] ......... algorithm=brute, n_neighbors=2, score=0.674272 -   6.9s\n"
     ]
    },
    {
     "name": "stderr",
     "output_type": "stream",
     "text": [
      "/Users/brandon/anaconda/envs/py35/lib/python3.5/site-packages/sklearn/externals/joblib/parallel.py:540: UserWarning: Multiprocessing-backed parallel loops cannot be nested, setting n_jobs=1\n",
      "  **self._backend_args)\n"
     ]
    },
    {
     "name": "stdout",
     "output_type": "stream",
     "text": [
      "[CV] algorithm=brute, n_neighbors=2 ..................................\n"
     ]
    },
    {
     "name": "stderr",
     "output_type": "stream",
     "text": [
      "/Users/brandon/anaconda/envs/py35/lib/python3.5/site-packages/sklearn/externals/joblib/parallel.py:540: UserWarning: Multiprocessing-backed parallel loops cannot be nested, setting n_jobs=1\n",
      "  **self._backend_args)\n"
     ]
    },
    {
     "name": "stdout",
     "output_type": "stream",
     "text": [
      "[CV] ......... algorithm=brute, n_neighbors=2, score=0.664021 -   7.2s\n",
      "[CV] algorithm=brute, n_neighbors=3 ..................................\n"
     ]
    },
    {
     "name": "stderr",
     "output_type": "stream",
     "text": [
      "/Users/brandon/anaconda/envs/py35/lib/python3.5/site-packages/sklearn/externals/joblib/parallel.py:540: UserWarning: Multiprocessing-backed parallel loops cannot be nested, setting n_jobs=1\n",
      "  **self._backend_args)\n"
     ]
    },
    {
     "name": "stdout",
     "output_type": "stream",
     "text": [
      "[CV] ......... algorithm=brute, n_neighbors=2, score=0.670304 -   6.5s\n",
      "[CV] algorithm=brute, n_neighbors=3 ..................................\n"
     ]
    },
    {
     "name": "stderr",
     "output_type": "stream",
     "text": [
      "/Users/brandon/anaconda/envs/py35/lib/python3.5/site-packages/sklearn/externals/joblib/parallel.py:540: UserWarning: Multiprocessing-backed parallel loops cannot be nested, setting n_jobs=1\n",
      "  **self._backend_args)\n",
      "[Parallel(n_jobs=-1)]: Done  53 tasks      | elapsed:   42.5s\n"
     ]
    },
    {
     "name": "stdout",
     "output_type": "stream",
     "text": [
      "[CV] ......... algorithm=brute, n_neighbors=2, score=0.700397 -   5.2s\n",
      "[CV] algorithm=brute, n_neighbors=3 ..................................\n"
     ]
    },
    {
     "name": "stderr",
     "output_type": "stream",
     "text": [
      "/Users/brandon/anaconda/envs/py35/lib/python3.5/site-packages/sklearn/externals/joblib/parallel.py:540: UserWarning: Multiprocessing-backed parallel loops cannot be nested, setting n_jobs=1\n",
      "  **self._backend_args)\n"
     ]
    },
    {
     "name": "stdout",
     "output_type": "stream",
     "text": [
      "[CV] ......... algorithm=brute, n_neighbors=3, score=0.682209 -   5.1s\n",
      "[CV] ......... algorithm=brute, n_neighbors=2, score=0.786045 -   5.4s\n",
      "[CV] algorithm=brute, n_neighbors=3 ..................................\n",
      "[CV] algorithm=brute, n_neighbors=3 ..................................\n"
     ]
    },
    {
     "name": "stderr",
     "output_type": "stream",
     "text": [
      "/Users/brandon/anaconda/envs/py35/lib/python3.5/site-packages/sklearn/externals/joblib/parallel.py:540: UserWarning: Multiprocessing-backed parallel loops cannot be nested, setting n_jobs=1\n",
      "  **self._backend_args)\n",
      "/Users/brandon/anaconda/envs/py35/lib/python3.5/site-packages/sklearn/externals/joblib/parallel.py:540: UserWarning: Multiprocessing-backed parallel loops cannot be nested, setting n_jobs=1\n",
      "  **self._backend_args)\n"
     ]
    },
    {
     "name": "stdout",
     "output_type": "stream",
     "text": [
      "[CV] ......... algorithm=brute, n_neighbors=3, score=0.677579 -   5.1s\n",
      "[CV] ......... algorithm=brute, n_neighbors=3, score=0.665675 -   3.0s\n",
      "[CV] ......... algorithm=brute, n_neighbors=3, score=0.709656 -   2.9s\n",
      "[CV] ......... algorithm=brute, n_neighbors=3, score=0.783730 -   2.9s\n"
     ]
    },
    {
     "name": "stderr",
     "output_type": "stream",
     "text": [
      "[Parallel(n_jobs=-1)]: Done  60 out of  60 | elapsed:   50.2s remaining:    0.0s\n",
      "[Parallel(n_jobs=-1)]: Done  60 out of  60 | elapsed:   50.2s finished\n"
     ]
    },
    {
     "name": "stdout",
     "output_type": "stream",
     "text": [
      "Best score: 0.733\n",
      "Best parameters set:\n",
      "\talgorithm: 'auto'\n",
      "\tn_neighbors: 1\n"
     ]
    }
   ],
   "source": [
    "    param_grid = {\n",
    "        #'n_estimators': np.arange(89, 100, 2),\n",
    "        'algorithm':[\"auto\", \"ball_tree\", \"kd_tree\", \"brute\"],\n",
    "        'n_neighbors':[1,2,3]\n",
    "        }\n",
    "    tuner(model_1, param_grid, train_clean)\n",
    "    \n",
    "    "
   ]
  },
  {
   "cell_type": "code",
   "execution_count": 94,
   "metadata": {
    "collapsed": false,
    "scrolled": true
   },
   "outputs": [
    {
     "name": "stdout",
     "output_type": "stream",
     "text": [
      "Fitting 5 folds for each of 10 candidates, totalling 50 fits\n"
     ]
    },
    {
     "name": "stderr",
     "output_type": "stream",
     "text": [
      "/Users/brandon/anaconda/envs/py35/lib/python3.5/site-packages/sklearn/utils/validation.py:429: DataConversionWarning: Data with input dtype int64 was converted to float64 by StandardScaler.\n",
      "  warnings.warn(msg, _DataConversionWarning)\n"
     ]
    },
    {
     "name": "stdout",
     "output_type": "stream",
     "text": [
      "[CV] n_iter=1 ........................................................\n",
      "[CV] n_iter=1 ........................................................\n",
      "[CV] n_iter=1 ........................................................\n",
      "[CV] n_iter=1 ........................................................\n",
      "[CV] ............................... n_iter=1, score=0.520172 -   0.2s\n",
      "[CV] ............................... n_iter=1, score=0.510251 -   0.2s\n",
      "[CV] n_iter=2 ........................................................\n",
      "[CV] n_iter=1 ........................................................\n",
      "[CV] ............................... n_iter=1, score=0.590278 -   0.2s\n",
      "[CV] n_iter=2 ........................................................\n",
      "[CV] ............................... n_iter=1, score=0.541336 -   0.3s\n",
      "[CV] n_iter=2 ........................................................\n",
      "[CV] ............................... n_iter=1, score=0.546958 -   0.2s\n",
      "[CV] n_iter=2 ........................................................\n",
      "[CV] ............................... n_iter=2, score=0.540344 -   0.3s\n",
      "[CV] n_iter=2 ........................................................\n",
      "[CV] ............................... n_iter=2, score=0.559193 -   0.3s\n",
      "[CV] n_iter=3 ........................................................\n",
      "[CV] ............................... n_iter=2, score=0.571098 -   0.3s\n"
     ]
    },
    {
     "name": "stderr",
     "output_type": "stream",
     "text": [
      "[Parallel(n_jobs=-1)]: Done   5 tasks      | elapsed:    0.6s\n"
     ]
    },
    {
     "name": "stdout",
     "output_type": "stream",
     "text": [
      "[CV] n_iter=3 ........................................................\n",
      "[CV] ............................... n_iter=2, score=0.596230 -   0.3s\n",
      "[CV] ............................... n_iter=2, score=0.630291 -   0.2s\n",
      "[CV] n_iter=3 ........................................................\n",
      "[CV] n_iter=3 ........................................................\n",
      "[CV] ............................... n_iter=3, score=0.567130 -   0.4s\n",
      "[CV] ............................... n_iter=3, score=0.537698 -   0.3s\n",
      "[CV] n_iter=3 ........................................................\n",
      "[CV] n_iter=4 ........................................................\n"
     ]
    },
    {
     "name": "stderr",
     "output_type": "stream",
     "text": [
      "[Parallel(n_jobs=-1)]: Done  10 tasks      | elapsed:    0.9s\n"
     ]
    },
    {
     "name": "stdout",
     "output_type": "stream",
     "text": [
      "[CV] ............................... n_iter=3, score=0.600198 -   0.3s\n",
      "[CV] n_iter=4 ........................................................\n",
      "[CV] ............................... n_iter=3, score=0.593254 -   0.3s\n",
      "[CV] n_iter=4 ........................................................\n",
      "[CV] ............................... n_iter=3, score=0.623347 -   0.3s\n",
      "[CV] n_iter=4 ........................................................\n",
      "[CV] ............................... n_iter=4, score=0.558201 -   0.4s\n",
      "[CV] n_iter=4 ........................................................\n",
      "[CV] ............................... n_iter=4, score=0.524802 -   0.4s\n",
      "[CV] n_iter=5 ........................................................\n",
      "[CV] ............................... n_iter=4, score=0.583003 -   0.4s\n",
      "[CV] n_iter=5 ........................................................\n",
      "[CV] ............................... n_iter=4, score=0.574405 -   0.4s\n"
     ]
    },
    {
     "name": "stderr",
     "output_type": "stream",
     "text": [
      "[Parallel(n_jobs=-1)]: Done  17 tasks      | elapsed:    1.7s\n"
     ]
    },
    {
     "name": "stdout",
     "output_type": "stream",
     "text": [
      "[CV] n_iter=5 ........................................................\n",
      "[CV] ............................... n_iter=4, score=0.636905 -   0.4s\n",
      "[CV] n_iter=5 ........................................................\n",
      "[CV] ............................... n_iter=5, score=0.554894 -   0.5s\n",
      "[CV] ............................... n_iter=5, score=0.540344 -   0.5s\n",
      "[CV] n_iter=5 ........................................................\n",
      "[CV] n_iter=6 ........................................................\n",
      "[CV] ............................... n_iter=5, score=0.577381 -   0.5s\n",
      "[CV] n_iter=6 ........................................................\n",
      "[CV] ............................... n_iter=5, score=0.604497 -   0.5s\n",
      "[CV] n_iter=6 ........................................................\n"
     ]
    },
    {
     "name": "stderr",
     "output_type": "stream",
     "text": [
      "[Parallel(n_jobs=-1)]: Done  24 tasks      | elapsed:    2.5s\n"
     ]
    },
    {
     "name": "stdout",
     "output_type": "stream",
     "text": [
      "[CV] ............................... n_iter=5, score=0.617394 -   0.5s\n",
      "[CV] n_iter=6 ........................................................\n",
      "[CV] ............................... n_iter=6, score=0.573413 -   0.6s\n",
      "[CV] n_iter=6 ........................................................\n",
      "[CV] ............................... n_iter=6, score=0.534061 -   0.6s\n",
      "[CV] n_iter=7 ........................................................\n",
      "[CV] ............................... n_iter=6, score=0.596561 -   0.6s\n",
      "[CV] n_iter=7 ........................................................\n",
      "[CV] ............................... n_iter=6, score=0.569775 -   0.7s\n",
      "[CV] n_iter=7 ........................................................\n",
      "[CV] ............................... n_iter=6, score=0.650463 -   0.8s\n",
      "[CV] n_iter=7 ........................................................\n",
      "[CV] ............................... n_iter=7, score=0.539021 -   0.8s\n",
      "[CV] n_iter=7 ........................................................\n",
      "[CV] ............................... n_iter=7, score=0.555886 -   0.8s\n",
      "[CV] n_iter=8 ........................................................\n",
      "[CV] ............................... n_iter=7, score=0.612765 -   0.7s\n",
      "[CV] n_iter=8 ........................................................\n"
     ]
    },
    {
     "name": "stderr",
     "output_type": "stream",
     "text": [
      "[Parallel(n_jobs=-1)]: Done  33 tasks      | elapsed:    4.3s\n"
     ]
    },
    {
     "name": "stdout",
     "output_type": "stream",
     "text": [
      "[CV] ............................... n_iter=7, score=0.653108 -   0.7s\n",
      "[CV] n_iter=8 ........................................................\n",
      "[CV] ............................... n_iter=7, score=0.653770 -   0.7s\n",
      "[CV] n_iter=8 ........................................................\n",
      "[CV] ............................... n_iter=8, score=0.574074 -   0.8s\n",
      "[CV] n_iter=8 ........................................................\n",
      "[CV] ............................... n_iter=8, score=0.552910 -   0.7s\n",
      "[CV] n_iter=9 ........................................................\n",
      "[CV] ............................... n_iter=8, score=0.575066 -   0.8s\n",
      "[CV] ............................... n_iter=8, score=0.604497 -   0.8s\n",
      "[CV] n_iter=9 ........................................................\n",
      "[CV] n_iter=9 ........................................................\n",
      "[CV] ............................... n_iter=8, score=0.638228 -   0.7s\n",
      "[CV] n_iter=9 ........................................................\n",
      "[CV] ............................... n_iter=9, score=0.568783 -   0.8s\n",
      "[CV] n_iter=9 ........................................................\n",
      "[CV] ............................... n_iter=9, score=0.602844 -   0.8s\n",
      "[CV] n_iter=20 .......................................................\n",
      "[CV] ............................... n_iter=9, score=0.547619 -   0.9s\n",
      "[CV] n_iter=20 .......................................................\n"
     ]
    },
    {
     "name": "stderr",
     "output_type": "stream",
     "text": [
      "[Parallel(n_jobs=-1)]: Done  42 tasks      | elapsed:    6.2s\n"
     ]
    },
    {
     "name": "stdout",
     "output_type": "stream",
     "text": [
      "[CV] ............................... n_iter=9, score=0.597222 -   0.8s\n",
      "[CV] n_iter=20 .......................................................\n",
      "[CV] ............................... n_iter=9, score=0.655754 -   0.8s\n",
      "[CV] n_iter=20 .......................................................\n",
      "[CV] .............................. n_iter=20, score=0.544312 -   1.6s\n",
      "[CV] n_iter=20 .......................................................\n",
      "[CV] .............................. n_iter=20, score=0.555886 -   1.7s\n",
      "[CV] .............................. n_iter=20, score=0.609127 -   1.6s\n",
      "[CV] .............................. n_iter=20, score=0.632275 -   1.4s\n",
      "[CV] .............................. n_iter=20, score=0.668320 -   1.0s\n"
     ]
    },
    {
     "name": "stderr",
     "output_type": "stream",
     "text": [
      "[Parallel(n_jobs=-1)]: Done  50 out of  50 | elapsed:    8.9s finished\n"
     ]
    },
    {
     "name": "stdout",
     "output_type": "stream",
     "text": [
      "Best score: 0.603\n",
      "Best parameters set:\n",
      "\tn_iter: 7\n"
     ]
    }
   ],
   "source": [
    "    model_2 = SGDClassifier(loss='log',penalty='elasticnet', random_state=seed, shuffle=True)\n",
    "\n",
    "        \n",
    "    param_grid = {\n",
    "        #'loss':[ \"hinge\", \"log\", \"modified_huber\", \"squared_hinge\", \"perceptron\"],\n",
    "        #'penalty': [\"l2\", \"l1\", \"elasticnet\"],\n",
    "        'n_iter': [1,2,3,4,5,6,7,8,9,20]\n",
    "        }\n",
    "    \n",
    "    tuner(model_2, param_grid, train_clean)\n",
    "    \n",
    "    "
   ]
  },
  {
   "cell_type": "code",
   "execution_count": null,
   "metadata": {
    "collapsed": true
   },
   "outputs": [],
   "source": []
  }
 ],
 "metadata": {
  "kernelspec": {
   "display_name": "Python 3",
   "language": "python",
   "name": "python3"
  },
  "language_info": {
   "codemirror_mode": {
    "name": "ipython",
    "version": 3
   },
   "file_extension": ".py",
   "mimetype": "text/x-python",
   "name": "python",
   "nbconvert_exporter": "python",
   "pygments_lexer": "ipython3",
   "version": "3.5.2"
  },
  "widgets": {
   "state": {},
   "version": "1.1.2"
  }
 },
 "nbformat": 4,
 "nbformat_minor": 2
}
