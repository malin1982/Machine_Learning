{
 "cells": [
  {
   "cell_type": "code",
   "execution_count": 1,
   "metadata": {
    "collapsed": true
   },
   "outputs": [],
   "source": [
    "import pandas as pd\n",
    "# read in raw data from the file\n",
    "dataset = pd.read_csv('data/train.csv')\n",
    "#Drop the column 'Id' since it is not useful for training.\n",
    "dataset = dataset.iloc[:,1:]\n"
   ]
  },
  {
   "cell_type": "code",
   "execution_count": 2,
   "metadata": {
    "collapsed": false
   },
   "outputs": [
    {
     "name": "stdout",
     "output_type": "stream",
     "text": [
      "(15120, 55)\n"
     ]
    }
   ],
   "source": [
    "# Size of the data\n",
    "\n",
    "print(dataset.shape)\n",
    "\n",
    "# 15120 instances w 55 features each entry\n",
    "\n"
   ]
  },
  {
   "cell_type": "code",
   "execution_count": 3,
   "metadata": {
    "collapsed": false
   },
   "outputs": [
    {
     "name": "stdout",
     "output_type": "stream",
     "text": [
      "Elevation                             int64\n",
      "Aspect                                int64\n",
      "Slope                                 int64\n",
      "Horizontal_Distance_To_Hydrology      int64\n",
      "Vertical_Distance_To_Hydrology        int64\n",
      "Horizontal_Distance_To_Roadways       int64\n",
      "Hillshade_9am                         int64\n",
      "Hillshade_Noon                        int64\n",
      "Hillshade_3pm                         int64\n",
      "Horizontal_Distance_To_Fire_Points    int64\n",
      "Wilderness_Area1                      int64\n",
      "Wilderness_Area2                      int64\n",
      "Wilderness_Area3                      int64\n",
      "Wilderness_Area4                      int64\n",
      "Soil_Type1                            int64\n",
      "Soil_Type2                            int64\n",
      "Soil_Type3                            int64\n",
      "Soil_Type4                            int64\n",
      "Soil_Type5                            int64\n",
      "Soil_Type6                            int64\n",
      "Soil_Type7                            int64\n",
      "Soil_Type8                            int64\n",
      "Soil_Type9                            int64\n",
      "Soil_Type10                           int64\n",
      "Soil_Type11                           int64\n",
      "Soil_Type12                           int64\n",
      "Soil_Type13                           int64\n",
      "Soil_Type14                           int64\n",
      "Soil_Type15                           int64\n",
      "Soil_Type16                           int64\n",
      "Soil_Type17                           int64\n",
      "Soil_Type18                           int64\n",
      "Soil_Type19                           int64\n",
      "Soil_Type20                           int64\n",
      "Soil_Type21                           int64\n",
      "Soil_Type22                           int64\n",
      "Soil_Type23                           int64\n",
      "Soil_Type24                           int64\n",
      "Soil_Type25                           int64\n",
      "Soil_Type26                           int64\n",
      "Soil_Type27                           int64\n",
      "Soil_Type28                           int64\n",
      "Soil_Type29                           int64\n",
      "Soil_Type30                           int64\n",
      "Soil_Type31                           int64\n",
      "Soil_Type32                           int64\n",
      "Soil_Type33                           int64\n",
      "Soil_Type34                           int64\n",
      "Soil_Type35                           int64\n",
      "Soil_Type36                           int64\n",
      "Soil_Type37                           int64\n",
      "Soil_Type38                           int64\n",
      "Soil_Type39                           int64\n",
      "Soil_Type40                           int64\n",
      "Cover_Type                            int64\n",
      "dtype: object\n"
     ]
    }
   ],
   "source": [
    "# Datatypes of the features\n",
    "\n",
    "print(dataset.dtypes)"
   ]
  },
  {
   "cell_type": "code",
   "execution_count": 5,
   "metadata": {
    "collapsed": false,
    "scrolled": false
   },
   "outputs": [
    {
     "name": "stdout",
     "output_type": "stream",
     "text": [
      "          Elevation        Aspect         Slope  \\\n",
      "count  15120.000000  15120.000000  15120.000000   \n",
      "mean    2749.322553    156.676653     16.501587   \n",
      "std      417.678187    110.085801      8.453927   \n",
      "min     1863.000000      0.000000      0.000000   \n",
      "25%     2376.000000     65.000000     10.000000   \n",
      "50%     2752.000000    126.000000     15.000000   \n",
      "75%     3104.000000    261.000000     22.000000   \n",
      "max     3849.000000    360.000000     52.000000   \n",
      "\n",
      "       Horizontal_Distance_To_Hydrology  Vertical_Distance_To_Hydrology  \\\n",
      "count                      15120.000000                    15120.000000   \n",
      "mean                         227.195701                       51.076521   \n",
      "std                          210.075296                       61.239406   \n",
      "min                            0.000000                     -146.000000   \n",
      "25%                           67.000000                        5.000000   \n",
      "50%                          180.000000                       32.000000   \n",
      "75%                          330.000000                       79.000000   \n",
      "max                         1343.000000                      554.000000   \n",
      "\n",
      "       Horizontal_Distance_To_Roadways  Hillshade_9am  Hillshade_Noon  \\\n",
      "count                     15120.000000   15120.000000    15120.000000   \n",
      "mean                       1714.023214     212.704299      218.965608   \n",
      "std                        1325.066358      30.561287       22.801966   \n",
      "min                           0.000000       0.000000       99.000000   \n",
      "25%                         764.000000     196.000000      207.000000   \n",
      "50%                        1316.000000     220.000000      223.000000   \n",
      "75%                        2270.000000     235.000000      235.000000   \n",
      "max                        6890.000000     254.000000      254.000000   \n",
      "\n",
      "       Hillshade_3pm  Horizontal_Distance_To_Fire_Points  Wilderness_Area1  \\\n",
      "count   15120.000000                        15120.000000      15120.000000   \n",
      "mean      135.091997                         1511.147288          0.237897   \n",
      "std        45.895189                         1099.936493          0.425810   \n",
      "min         0.000000                            0.000000          0.000000   \n",
      "25%       106.000000                          730.000000          0.000000   \n",
      "50%       138.000000                         1256.000000          0.000000   \n",
      "75%       167.000000                         1988.250000          0.000000   \n",
      "max       248.000000                         6993.000000          1.000000   \n",
      "\n",
      "       Wilderness_Area2  Wilderness_Area3  Wilderness_Area4    Soil_Type1  \\\n",
      "count      15120.000000      15120.000000      15120.000000  15120.000000   \n",
      "mean           0.033003          0.419907          0.309193      0.023479   \n",
      "std            0.178649          0.493560          0.462176      0.151424   \n",
      "min            0.000000          0.000000          0.000000      0.000000   \n",
      "25%            0.000000          0.000000          0.000000      0.000000   \n",
      "50%            0.000000          0.000000          0.000000      0.000000   \n",
      "75%            0.000000          1.000000          1.000000      0.000000   \n",
      "max            1.000000          1.000000          1.000000      1.000000   \n",
      "\n",
      "         Soil_Type2    Soil_Type3    Soil_Type4    Soil_Type5    Soil_Type6  \\\n",
      "count  15120.000000  15120.000000  15120.000000  15120.000000  15120.000000   \n",
      "mean       0.041204      0.063624      0.055754      0.010913      0.042989   \n",
      "std        0.198768      0.244091      0.229454      0.103896      0.202840   \n",
      "min        0.000000      0.000000      0.000000      0.000000      0.000000   \n",
      "25%        0.000000      0.000000      0.000000      0.000000      0.000000   \n",
      "50%        0.000000      0.000000      0.000000      0.000000      0.000000   \n",
      "75%        0.000000      0.000000      0.000000      0.000000      0.000000   \n",
      "max        1.000000      1.000000      1.000000      1.000000      1.000000   \n",
      "\n",
      "       Soil_Type7    Soil_Type8    Soil_Type9   Soil_Type10   Soil_Type11  \\\n",
      "count     15120.0  15120.000000  15120.000000  15120.000000  15120.000000   \n",
      "mean          0.0      0.000066      0.000661      0.141667      0.026852   \n",
      "std           0.0      0.008133      0.025710      0.348719      0.161656   \n",
      "min           0.0      0.000000      0.000000      0.000000      0.000000   \n",
      "25%           0.0      0.000000      0.000000      0.000000      0.000000   \n",
      "50%           0.0      0.000000      0.000000      0.000000      0.000000   \n",
      "75%           0.0      0.000000      0.000000      0.000000      0.000000   \n",
      "max           0.0      1.000000      1.000000      1.000000      1.000000   \n",
      "\n",
      "        Soil_Type12   Soil_Type13   Soil_Type14  Soil_Type15   Soil_Type16  \\\n",
      "count  15120.000000  15120.000000  15120.000000      15120.0  15120.000000   \n",
      "mean       0.015013      0.031481      0.011177          0.0      0.007540   \n",
      "std        0.121609      0.174621      0.105133          0.0      0.086506   \n",
      "min        0.000000      0.000000      0.000000          0.0      0.000000   \n",
      "25%        0.000000      0.000000      0.000000          0.0      0.000000   \n",
      "50%        0.000000      0.000000      0.000000          0.0      0.000000   \n",
      "75%        0.000000      0.000000      0.000000          0.0      0.000000   \n",
      "max        1.000000      1.000000      1.000000          0.0      1.000000   \n",
      "\n",
      "        Soil_Type17   Soil_Type18   Soil_Type19   Soil_Type20   Soil_Type21  \\\n",
      "count  15120.000000  15120.000000  15120.000000  15120.000000  15120.000000   \n",
      "mean       0.040476      0.003968      0.003042      0.009193      0.001058   \n",
      "std        0.197080      0.062871      0.055075      0.095442      0.032514   \n",
      "min        0.000000      0.000000      0.000000      0.000000      0.000000   \n",
      "25%        0.000000      0.000000      0.000000      0.000000      0.000000   \n",
      "50%        0.000000      0.000000      0.000000      0.000000      0.000000   \n",
      "75%        0.000000      0.000000      0.000000      0.000000      0.000000   \n",
      "max        1.000000      1.000000      1.000000      1.000000      1.000000   \n",
      "\n",
      "        Soil_Type22   Soil_Type23   Soil_Type24   Soil_Type25   Soil_Type26  \\\n",
      "count  15120.000000  15120.000000  15120.000000  15120.000000  15120.000000   \n",
      "mean       0.022817      0.050066      0.016997      0.000066      0.003571   \n",
      "std        0.149326      0.218089      0.129265      0.008133      0.059657   \n",
      "min        0.000000      0.000000      0.000000      0.000000      0.000000   \n",
      "25%        0.000000      0.000000      0.000000      0.000000      0.000000   \n",
      "50%        0.000000      0.000000      0.000000      0.000000      0.000000   \n",
      "75%        0.000000      0.000000      0.000000      0.000000      0.000000   \n",
      "max        1.000000      1.000000      1.000000      1.000000      1.000000   \n",
      "\n",
      "        Soil_Type27   Soil_Type28   Soil_Type29   Soil_Type30   Soil_Type31  \\\n",
      "count  15120.000000  15120.000000  15120.000000  15120.000000  15120.000000   \n",
      "mean       0.000992      0.000595      0.085384      0.047950      0.021958   \n",
      "std        0.031482      0.024391      0.279461      0.213667      0.146550   \n",
      "min        0.000000      0.000000      0.000000      0.000000      0.000000   \n",
      "25%        0.000000      0.000000      0.000000      0.000000      0.000000   \n",
      "50%        0.000000      0.000000      0.000000      0.000000      0.000000   \n",
      "75%        0.000000      0.000000      0.000000      0.000000      0.000000   \n",
      "max        1.000000      1.000000      1.000000      1.000000      1.000000   \n",
      "\n",
      "        Soil_Type32   Soil_Type33   Soil_Type34   Soil_Type35   Soil_Type36  \\\n",
      "count  15120.000000  15120.000000  15120.000000  15120.000000  15120.000000   \n",
      "mean       0.045635      0.040741      0.001455      0.006746      0.000661   \n",
      "std        0.208699      0.197696      0.038118      0.081859      0.025710   \n",
      "min        0.000000      0.000000      0.000000      0.000000      0.000000   \n",
      "25%        0.000000      0.000000      0.000000      0.000000      0.000000   \n",
      "50%        0.000000      0.000000      0.000000      0.000000      0.000000   \n",
      "75%        0.000000      0.000000      0.000000      0.000000      0.000000   \n",
      "max        1.000000      1.000000      1.000000      1.000000      1.000000   \n",
      "\n",
      "        Soil_Type37   Soil_Type38   Soil_Type39   Soil_Type40    Cover_Type  \n",
      "count  15120.000000  15120.000000  15120.000000  15120.000000  15120.000000  \n",
      "mean       0.002249      0.048148      0.043452      0.030357      4.000000  \n",
      "std        0.047368      0.214086      0.203880      0.171574      2.000066  \n",
      "min        0.000000      0.000000      0.000000      0.000000      1.000000  \n",
      "25%        0.000000      0.000000      0.000000      0.000000      2.000000  \n",
      "50%        0.000000      0.000000      0.000000      0.000000      4.000000  \n",
      "75%        0.000000      0.000000      0.000000      0.000000      6.000000  \n",
      "max        1.000000      1.000000      1.000000      1.000000      7.000000  \n"
     ]
    }
   ],
   "source": [
    "# Statistical description\n",
    "\n",
    "pd.set_option('display.max_columns', None)\n",
    "print(dataset.describe())\n",
    "\n",
    "# no missing features in the dataset\n",
    "# negative values exist in the dataset\n",
    "# Soil_Type7 and Soil_Type15 can be removed since they are constant\n",
    "# resclaing may be necessary"
   ]
  },
  {
   "cell_type": "code",
   "execution_count": 6,
   "metadata": {
    "collapsed": false
   },
   "outputs": [
    {
     "name": "stdout",
     "output_type": "stream",
     "text": [
      "Elevation                               0.075640\n",
      "Aspect                                  0.450935\n",
      "Slope                                   0.523658\n",
      "Horizontal_Distance_To_Hydrology        1.488052\n",
      "Vertical_Distance_To_Hydrology          1.537776\n",
      "Horizontal_Distance_To_Roadways         1.247811\n",
      "Hillshade_9am                          -1.093681\n",
      "Hillshade_Noon                         -0.953232\n",
      "Hillshade_3pm                          -0.340827\n",
      "Horizontal_Distance_To_Fire_Points      1.617099\n",
      "Wilderness_Area1                        1.231244\n",
      "Wilderness_Area2                        5.228781\n",
      "Wilderness_Area3                        0.324594\n",
      "Wilderness_Area4                        0.825798\n",
      "Soil_Type1                              6.294716\n",
      "Soil_Type2                              4.617019\n",
      "Soil_Type3                              3.575995\n",
      "Soil_Type4                              3.872721\n",
      "Soil_Type5                              9.416209\n",
      "Soil_Type6                              4.506716\n",
      "Soil_Type7                              0.000000\n",
      "Soil_Type8                            122.963409\n",
      "Soil_Type9                             38.849712\n",
      "Soil_Type10                             2.055410\n",
      "Soil_Type11                             5.854551\n",
      "Soil_Type12                             7.977205\n",
      "Soil_Type13                             5.366836\n",
      "Soil_Type14                             9.300318\n",
      "Soil_Type15                             0.000000\n",
      "Soil_Type16                            11.387050\n",
      "Soil_Type17                             4.663945\n",
      "Soil_Type18                            15.781426\n",
      "Soil_Type19                            18.048915\n",
      "Soil_Type20                            10.286265\n",
      "Soil_Type21                            30.695081\n",
      "Soil_Type22                             6.391991\n",
      "Soil_Type23                             4.126701\n",
      "Soil_Type24                             7.474026\n",
      "Soil_Type25                           122.963409\n",
      "Soil_Type26                            16.645076\n",
      "Soil_Type27                            31.704896\n",
      "Soil_Type28                            40.955261\n",
      "Soil_Type29                             2.967651\n",
      "Soil_Type30                             4.231913\n",
      "Soil_Type31                             6.524804\n",
      "Soil_Type32                             4.354839\n",
      "Soil_Type33                             4.646742\n",
      "Soil_Type34                            26.161230\n",
      "Soil_Type35                            12.052838\n",
      "Soil_Type36                            38.849712\n",
      "Soil_Type37                            21.018939\n",
      "Soil_Type38                             4.221771\n",
      "Soil_Type39                             4.479186\n",
      "Soil_Type40                             5.475256\n",
      "Cover_Type                              0.000000\n",
      "dtype: float64\n"
     ]
    }
   ],
   "source": [
    "# skewness of the data\n",
    "\n",
    "print(dataset.skew())\n",
    "\n",
    "# 0 means less skew\n",
    "# several Soil_Type show a large skew."
   ]
  },
  {
   "cell_type": "code",
   "execution_count": 7,
   "metadata": {
    "collapsed": false
   },
   "outputs": [
    {
     "data": {
      "text/plain": [
       "Cover_Type\n",
       "1    2160\n",
       "2    2160\n",
       "3    2160\n",
       "4    2160\n",
       "5    2160\n",
       "6    2160\n",
       "7    2160\n",
       "dtype: int64"
      ]
     },
     "execution_count": 7,
     "metadata": {},
     "output_type": "execute_result"
    }
   ],
   "source": [
    "# data distributions among target labels\n",
    "# data is evenly distributed, no need for re-balance\n",
    "dataset.groupby('Cover_Type').size()\n"
   ]
  },
  {
   "cell_type": "code",
   "execution_count": null,
   "metadata": {
    "collapsed": false,
    "scrolled": true
   },
   "outputs": [],
   "source": [
    "# Group one-hot encoded variables of a category into one single variable\n",
    "\n",
    "#names of all the columns\n",
    "cols = dataset.columns\n",
    "\n",
    "#number of rows=r , number of columns=c\n",
    "r,c = dataset.shape\n",
    "\n",
    "import numpy as np\n",
    "\n",
    "#Create a new dataframe with r rows, one column for each encoded category, and target in the end\n",
    "data = pd.DataFrame(index=np.arange(0, r),columns=['Wilderness_Area','Soil_Type','Cover_Type'])\n",
    "\n",
    "#Make an entry in 'data' for each r as category_id, target value\n",
    "for i in range(0,r):\n",
    "    w=0;\n",
    "    s=0;\n",
    "    # Category1 range\n",
    "    for j in range(10,14):\n",
    "        if (dataset.iloc[i,j] == 1):\n",
    "            w=j-9  #category class\n",
    "            break\n",
    "    # Category2 range        \n",
    "    for k in range(14,54):\n",
    "        if (dataset.iloc[i,k] == 1):\n",
    "            s=k-13 #category class\n",
    "            break\n",
    "    #Make an entry in 'data' for each r as category_id, target value        \n",
    "    data.iloc[i]=[w,s,dataset.iloc[i,c-1]]\n",
    "\n"
   ]
  },
  {
   "cell_type": "code",
   "execution_count": 11,
   "metadata": {
    "collapsed": false
   },
   "outputs": [
    {
     "data": {
      "image/png": "[encoded data removed]",
      "text/plain": [
       "<matplotlib.figure.Figure at 0x10d934780>"
      ]
     },
     "metadata": {},
     "output_type": "display_data"
    },
    {
     "data": {
      "image/png": "[encoded data removed]",
      "text/plain": [
       "<matplotlib.figure.Figure at 0x11395ae80>"
      ]
     },
     "metadata": {},
     "output_type": "display_data"
    }
   ],
   "source": [
    "#import plotting libraries\n",
    "import seaborn as sns\n",
    "import matplotlib.pyplot as plt\n",
    "#Plot for Category1    \n",
    "sns.countplot(x=\"Wilderness_Area\", hue=\"Cover_Type\", data=data)\n",
    "plt.show()\n",
    "#Plot for Category2\n",
    "plt.rc(\"figure\", figsize=(25, 10))\n",
    "sns.countplot(x=\"Soil_Type\", hue=\"Cover_Type\", data=data)\n",
    "plt.show()\n",
    "\n",
    "#WildernessArea_4 has a lot of presence for cover_type 4. Good class distinction\n",
    "#WildernessArea_3 has not much class distinction\n",
    "#SoilType 1-6,10-14,17, 22-23, 29-33,35,38-40 offer lot of class distinction as counts for some are very high"
   ]
  },
  {
   "cell_type": "code",
   "execution_count": null,
   "metadata": {
    "collapsed": true
   },
   "outputs": [],
   "source": []
  }
 ],
 "metadata": {
  "kernelspec": {
   "display_name": "Python 3",
   "language": "python",
   "name": "python3"
  },
  "language_info": {
   "codemirror_mode": {
    "name": "ipython",
    "version": 3
   },
   "file_extension": ".py",
   "mimetype": "text/x-python",
   "name": "python",
   "nbconvert_exporter": "python",
   "pygments_lexer": "ipython3",
   "version": "3.5.2"
  },
  "widgets": {
   "state": {},
   "version": "1.1.2"
  }
 },
 "nbformat": 4,
 "nbformat_minor": 2
}
